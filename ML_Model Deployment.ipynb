{
  "cells": [
    {
      "cell_type": "markdown",
      "metadata": {
        "id": "3M14iVObri7v"
      },
      "source": [
        "\n",
        "## Exploring the Data\n"
      ]
    },
    {
      "cell_type": "code",
      "execution_count": 2,
      "metadata": {
        "id": "o3b4GDl8ri7w"
      },
      "outputs": [],
      "source": [
        "import polars as pl\n",
        "import polars.selectors as cs\n",
        "import sklearn\n",
        "import catboost\n",
        "\n",
        "import warnings\n",
        "warnings.filterwarnings('ignore')"
      ]
    },
    {
      "cell_type": "code",
      "execution_count": 3,
      "metadata": {
        "colab": {
          "base_uri": "https://localhost:8080/",
          "height": 463
        },
        "id": "ju6Faljjri7x",
        "outputId": "aba7e6c5-4471-472c-eea3-bde1aadb6c1a"
      },
      "outputs": [
        {
          "output_type": "execute_result",
          "data": {
            "text/plain": [
              "shape: (21_613, 23)\n",
              "┌────────────┬──────────┬──────────┬───────────┬───┬────────────┬───────────┬───────────┬──────────┐\n",
              "│ id         ┆ price    ┆ bedrooms ┆ bathrooms ┆ … ┆ sqft_lot15 ┆ date_year ┆ date_mont ┆ date_day │\n",
              "│ ---        ┆ ---      ┆ ---      ┆ ---       ┆   ┆ ---        ┆ ---       ┆ h         ┆ ---      │\n",
              "│ i64        ┆ f64      ┆ i64      ┆ f64       ┆   ┆ i64        ┆ i64       ┆ ---       ┆ i64      │\n",
              "│            ┆          ┆          ┆           ┆   ┆            ┆           ┆ i64       ┆          │\n",
              "╞════════════╪══════════╪══════════╪═══════════╪═══╪════════════╪═══════════╪═══════════╪══════════╡\n",
              "│ 7129300520 ┆ 221900.0 ┆ 3        ┆ 1.0       ┆ … ┆ 5650       ┆ 2014      ┆ 10        ┆ 13       │\n",
              "│ 6414100192 ┆ 538000.0 ┆ 3        ┆ 2.25      ┆ … ┆ 7639       ┆ 2014      ┆ 12        ┆ 9        │\n",
              "│ 5631500400 ┆ 180000.0 ┆ 2        ┆ 1.0       ┆ … ┆ 8062       ┆ 2015      ┆ 2         ┆ 25       │\n",
              "│ 2487200875 ┆ 604000.0 ┆ 4        ┆ 3.0       ┆ … ┆ 5000       ┆ 2014      ┆ 12        ┆ 9        │\n",
              "│ 1954400510 ┆ 510000.0 ┆ 3        ┆ 2.0       ┆ … ┆ 7503       ┆ 2015      ┆ 2         ┆ 18       │\n",
              "│ …          ┆ …        ┆ …        ┆ …         ┆ … ┆ …          ┆ …         ┆ …         ┆ …        │\n",
              "│ 263000018  ┆ 360000.0 ┆ 3        ┆ 2.5       ┆ … ┆ 1509       ┆ 2014      ┆ 5         ┆ 21       │\n",
              "│ 6600060120 ┆ 400000.0 ┆ 4        ┆ 2.5       ┆ … ┆ 7200       ┆ 2015      ┆ 2         ┆ 23       │\n",
              "│ 1523300141 ┆ 402101.0 ┆ 2        ┆ 0.75      ┆ … ┆ 2007       ┆ 2014      ┆ 6         ┆ 23       │\n",
              "│ 291310100  ┆ 400000.0 ┆ 3        ┆ 2.5       ┆ … ┆ 1287       ┆ 2015      ┆ 1         ┆ 16       │\n",
              "│ 1523300157 ┆ 325000.0 ┆ 2        ┆ 0.75      ┆ … ┆ 1357       ┆ 2014      ┆ 10        ┆ 15       │\n",
              "└────────────┴──────────┴──────────┴───────────┴───┴────────────┴───────────┴───────────┴──────────┘"
            ],
            "text/html": [
              "<div><style>\n",
              ".dataframe > thead > tr,\n",
              ".dataframe > tbody > tr {\n",
              "  text-align: right;\n",
              "  white-space: pre-wrap;\n",
              "}\n",
              "</style>\n",
              "<small>shape: (21_613, 23)</small><table border=\"1\" class=\"dataframe\"><thead><tr><th>id</th><th>price</th><th>bedrooms</th><th>bathrooms</th><th>sqft_living</th><th>sqft_lot</th><th>floors</th><th>waterfront</th><th>view</th><th>condition</th><th>grade</th><th>sqft_above</th><th>sqft_basement</th><th>yr_built</th><th>yr_renovated</th><th>zipcode</th><th>lat</th><th>long</th><th>sqft_living15</th><th>sqft_lot15</th><th>date_year</th><th>date_month</th><th>date_day</th></tr><tr><td>i64</td><td>f64</td><td>i64</td><td>f64</td><td>i64</td><td>i64</td><td>f64</td><td>i64</td><td>i64</td><td>i64</td><td>i64</td><td>i64</td><td>i64</td><td>i64</td><td>i64</td><td>i64</td><td>f64</td><td>f64</td><td>i64</td><td>i64</td><td>i64</td><td>i64</td><td>i64</td></tr></thead><tbody><tr><td>7129300520</td><td>221900.0</td><td>3</td><td>1.0</td><td>1180</td><td>5650</td><td>1.0</td><td>0</td><td>0</td><td>3</td><td>7</td><td>1180</td><td>0</td><td>1955</td><td>0</td><td>98178</td><td>47.5112</td><td>-122.257</td><td>1340</td><td>5650</td><td>2014</td><td>10</td><td>13</td></tr><tr><td>6414100192</td><td>538000.0</td><td>3</td><td>2.25</td><td>2570</td><td>7242</td><td>2.0</td><td>0</td><td>0</td><td>3</td><td>7</td><td>2170</td><td>400</td><td>1951</td><td>1991</td><td>98125</td><td>47.721</td><td>-122.319</td><td>1690</td><td>7639</td><td>2014</td><td>12</td><td>9</td></tr><tr><td>5631500400</td><td>180000.0</td><td>2</td><td>1.0</td><td>770</td><td>10000</td><td>1.0</td><td>0</td><td>0</td><td>3</td><td>6</td><td>770</td><td>0</td><td>1933</td><td>0</td><td>98028</td><td>47.7379</td><td>-122.233</td><td>2720</td><td>8062</td><td>2015</td><td>2</td><td>25</td></tr><tr><td>2487200875</td><td>604000.0</td><td>4</td><td>3.0</td><td>1960</td><td>5000</td><td>1.0</td><td>0</td><td>0</td><td>5</td><td>7</td><td>1050</td><td>910</td><td>1965</td><td>0</td><td>98136</td><td>47.5208</td><td>-122.393</td><td>1360</td><td>5000</td><td>2014</td><td>12</td><td>9</td></tr><tr><td>1954400510</td><td>510000.0</td><td>3</td><td>2.0</td><td>1680</td><td>8080</td><td>1.0</td><td>0</td><td>0</td><td>3</td><td>8</td><td>1680</td><td>0</td><td>1987</td><td>0</td><td>98074</td><td>47.6168</td><td>-122.045</td><td>1800</td><td>7503</td><td>2015</td><td>2</td><td>18</td></tr><tr><td>&hellip;</td><td>&hellip;</td><td>&hellip;</td><td>&hellip;</td><td>&hellip;</td><td>&hellip;</td><td>&hellip;</td><td>&hellip;</td><td>&hellip;</td><td>&hellip;</td><td>&hellip;</td><td>&hellip;</td><td>&hellip;</td><td>&hellip;</td><td>&hellip;</td><td>&hellip;</td><td>&hellip;</td><td>&hellip;</td><td>&hellip;</td><td>&hellip;</td><td>&hellip;</td><td>&hellip;</td><td>&hellip;</td></tr><tr><td>263000018</td><td>360000.0</td><td>3</td><td>2.5</td><td>1530</td><td>1131</td><td>3.0</td><td>0</td><td>0</td><td>3</td><td>8</td><td>1530</td><td>0</td><td>2009</td><td>0</td><td>98103</td><td>47.6993</td><td>-122.346</td><td>1530</td><td>1509</td><td>2014</td><td>5</td><td>21</td></tr><tr><td>6600060120</td><td>400000.0</td><td>4</td><td>2.5</td><td>2310</td><td>5813</td><td>2.0</td><td>0</td><td>0</td><td>3</td><td>8</td><td>2310</td><td>0</td><td>2014</td><td>0</td><td>98146</td><td>47.5107</td><td>-122.362</td><td>1830</td><td>7200</td><td>2015</td><td>2</td><td>23</td></tr><tr><td>1523300141</td><td>402101.0</td><td>2</td><td>0.75</td><td>1020</td><td>1350</td><td>2.0</td><td>0</td><td>0</td><td>3</td><td>7</td><td>1020</td><td>0</td><td>2009</td><td>0</td><td>98144</td><td>47.5944</td><td>-122.299</td><td>1020</td><td>2007</td><td>2014</td><td>6</td><td>23</td></tr><tr><td>291310100</td><td>400000.0</td><td>3</td><td>2.5</td><td>1600</td><td>2388</td><td>2.0</td><td>0</td><td>0</td><td>3</td><td>8</td><td>1600</td><td>0</td><td>2004</td><td>0</td><td>98027</td><td>47.5345</td><td>-122.069</td><td>1410</td><td>1287</td><td>2015</td><td>1</td><td>16</td></tr><tr><td>1523300157</td><td>325000.0</td><td>2</td><td>0.75</td><td>1020</td><td>1076</td><td>2.0</td><td>0</td><td>0</td><td>3</td><td>7</td><td>1020</td><td>0</td><td>2008</td><td>0</td><td>98144</td><td>47.5941</td><td>-122.299</td><td>1020</td><td>1357</td><td>2014</td><td>10</td><td>15</td></tr></tbody></table></div>"
            ]
          },
          "metadata": {},
          "execution_count": 3
        }
      ],
      "source": [
        "# King County House Sales dataset from OpenML (includes Seattle)\n",
        "# this is an ARFF file, which is a text file with a specific format\n",
        "url = 'https://www.openml.org/data/download/22044765/dataset'\n",
        "cols = ['id', 'price', 'bedrooms', 'bathrooms', 'sqft_living', 'sqft_lot', 'floors', 'waterfront', 'view',\n",
        "        'condition', 'grade', 'sqft_above', 'sqft_basement', 'yr_built', 'yr_renovated',\n",
        "        'zipcode', 'lat', 'long', 'sqft_living15', 'sqft_lot15', 'date_year', 'date_month', 'date_day']\n",
        "\n",
        "raw = pl.read_csv(url, new_columns=cols, skip_rows=31, has_header=False)\n",
        "raw"
      ]
    },
    {
      "cell_type": "code",
      "execution_count": 4,
      "metadata": {
        "colab": {
          "base_uri": "https://localhost:8080/",
          "height": 400
        },
        "id": "_XWlMcUcri7y",
        "outputId": "df39d045-05ab-4cde-b381-c1998a9011ab"
      },
      "outputs": [
        {
          "output_type": "execute_result",
          "data": {
            "text/plain": [
              "shape: (9, 24)\n",
              "┌───────────┬───────────┬───────────┬──────────┬───┬───────────┬───────────┬───────────┬───────────┐\n",
              "│ statistic ┆ id        ┆ price     ┆ bedrooms ┆ … ┆ sqft_lot1 ┆ date_year ┆ date_mont ┆ date_day  │\n",
              "│ ---       ┆ ---       ┆ ---       ┆ ---      ┆   ┆ 5         ┆ ---       ┆ h         ┆ ---       │\n",
              "│ str       ┆ f64       ┆ f64       ┆ f64      ┆   ┆ ---       ┆ f64       ┆ ---       ┆ f64       │\n",
              "│           ┆           ┆           ┆          ┆   ┆ f64       ┆           ┆ f64       ┆           │\n",
              "╞═══════════╪═══════════╪═══════════╪══════════╪═══╪═══════════╪═══════════╪═══════════╪═══════════╡\n",
              "│ count     ┆ 21613.0   ┆ 21613.0   ┆ 21613.0  ┆ … ┆ 21613.0   ┆ 21613.0   ┆ 21613.0   ┆ 21613.0   │\n",
              "│ null_coun ┆ 0.0       ┆ 0.0       ┆ 0.0      ┆ … ┆ 0.0       ┆ 0.0       ┆ 0.0       ┆ 0.0       │\n",
              "│ t         ┆           ┆           ┆          ┆   ┆           ┆           ┆           ┆           │\n",
              "│ mean      ┆ 4.5803e9  ┆ 540088.14 ┆ 3.370842 ┆ … ┆ 12768.455 ┆ 2014.3229 ┆ 6.574423  ┆ 15.688197 │\n",
              "│           ┆           ┆ 1767      ┆          ┆   ┆ 652       ┆ 54        ┆           ┆           │\n",
              "│ std       ┆ 2.8766e9  ┆ 367127.19 ┆ 0.930062 ┆ … ┆ 27304.179 ┆ 0.467616  ┆ 3.115308  ┆ 8.635063  │\n",
              "│           ┆           ┆ 6483      ┆          ┆   ┆ 631       ┆           ┆           ┆           │\n",
              "│ min       ┆ 1.000102e ┆ 75000.0   ┆ 0.0      ┆ … ┆ 651.0     ┆ 2014.0    ┆ 1.0       ┆ 1.0       │\n",
              "│           ┆ 6         ┆           ┆          ┆   ┆           ┆           ┆           ┆           │\n",
              "│ 25%       ┆ 2.1230e9  ┆ 321950.0  ┆ 3.0      ┆ … ┆ 5100.0    ┆ 2014.0    ┆ 4.0       ┆ 8.0       │\n",
              "│ 50%       ┆ 3.9049e9  ┆ 450000.0  ┆ 3.0      ┆ … ┆ 7620.0    ┆ 2014.0    ┆ 6.0       ┆ 16.0      │\n",
              "│ 75%       ┆ 7.3089e9  ┆ 645000.0  ┆ 4.0      ┆ … ┆ 10083.0   ┆ 2015.0    ┆ 9.0       ┆ 23.0      │\n",
              "│ max       ┆ 9.9000e9  ┆ 7.7e6     ┆ 33.0     ┆ … ┆ 871200.0  ┆ 2015.0    ┆ 12.0      ┆ 31.0      │\n",
              "└───────────┴───────────┴───────────┴──────────┴───┴───────────┴───────────┴───────────┴───────────┘"
            ],
            "text/html": [
              "<div><style>\n",
              ".dataframe > thead > tr,\n",
              ".dataframe > tbody > tr {\n",
              "  text-align: right;\n",
              "  white-space: pre-wrap;\n",
              "}\n",
              "</style>\n",
              "<small>shape: (9, 24)</small><table border=\"1\" class=\"dataframe\"><thead><tr><th>statistic</th><th>id</th><th>price</th><th>bedrooms</th><th>bathrooms</th><th>sqft_living</th><th>sqft_lot</th><th>floors</th><th>waterfront</th><th>view</th><th>condition</th><th>grade</th><th>sqft_above</th><th>sqft_basement</th><th>yr_built</th><th>yr_renovated</th><th>zipcode</th><th>lat</th><th>long</th><th>sqft_living15</th><th>sqft_lot15</th><th>date_year</th><th>date_month</th><th>date_day</th></tr><tr><td>str</td><td>f64</td><td>f64</td><td>f64</td><td>f64</td><td>f64</td><td>f64</td><td>f64</td><td>f64</td><td>f64</td><td>f64</td><td>f64</td><td>f64</td><td>f64</td><td>f64</td><td>f64</td><td>f64</td><td>f64</td><td>f64</td><td>f64</td><td>f64</td><td>f64</td><td>f64</td><td>f64</td></tr></thead><tbody><tr><td>&quot;count&quot;</td><td>21613.0</td><td>21613.0</td><td>21613.0</td><td>21613.0</td><td>21613.0</td><td>21613.0</td><td>21613.0</td><td>21613.0</td><td>21613.0</td><td>21613.0</td><td>21613.0</td><td>21613.0</td><td>21613.0</td><td>21613.0</td><td>21613.0</td><td>21613.0</td><td>21613.0</td><td>21613.0</td><td>21613.0</td><td>21613.0</td><td>21613.0</td><td>21613.0</td><td>21613.0</td></tr><tr><td>&quot;null_count&quot;</td><td>0.0</td><td>0.0</td><td>0.0</td><td>0.0</td><td>0.0</td><td>0.0</td><td>0.0</td><td>0.0</td><td>0.0</td><td>0.0</td><td>0.0</td><td>0.0</td><td>0.0</td><td>0.0</td><td>0.0</td><td>0.0</td><td>0.0</td><td>0.0</td><td>0.0</td><td>0.0</td><td>0.0</td><td>0.0</td><td>0.0</td></tr><tr><td>&quot;mean&quot;</td><td>4.5803e9</td><td>540088.141767</td><td>3.370842</td><td>2.114757</td><td>2079.899736</td><td>15106.967566</td><td>1.494309</td><td>0.007542</td><td>0.234303</td><td>3.40943</td><td>7.656873</td><td>1788.390691</td><td>291.509045</td><td>1971.005136</td><td>84.402258</td><td>98077.939805</td><td>47.560053</td><td>-122.213896</td><td>1986.552492</td><td>12768.455652</td><td>2014.322954</td><td>6.574423</td><td>15.688197</td></tr><tr><td>&quot;std&quot;</td><td>2.8766e9</td><td>367127.196483</td><td>0.930062</td><td>0.770163</td><td>918.440897</td><td>41420.511515</td><td>0.539989</td><td>0.086517</td><td>0.766318</td><td>0.650743</td><td>1.175459</td><td>828.090978</td><td>442.575043</td><td>29.373411</td><td>401.67924</td><td>53.505026</td><td>0.138564</td><td>0.140828</td><td>685.391304</td><td>27304.179631</td><td>0.467616</td><td>3.115308</td><td>8.635063</td></tr><tr><td>&quot;min&quot;</td><td>1.000102e6</td><td>75000.0</td><td>0.0</td><td>0.0</td><td>290.0</td><td>520.0</td><td>1.0</td><td>0.0</td><td>0.0</td><td>1.0</td><td>1.0</td><td>290.0</td><td>0.0</td><td>1900.0</td><td>0.0</td><td>98001.0</td><td>47.1559</td><td>-122.519</td><td>399.0</td><td>651.0</td><td>2014.0</td><td>1.0</td><td>1.0</td></tr><tr><td>&quot;25%&quot;</td><td>2.1230e9</td><td>321950.0</td><td>3.0</td><td>1.75</td><td>1427.0</td><td>5040.0</td><td>1.0</td><td>0.0</td><td>0.0</td><td>3.0</td><td>7.0</td><td>1190.0</td><td>0.0</td><td>1951.0</td><td>0.0</td><td>98033.0</td><td>47.471</td><td>-122.328</td><td>1490.0</td><td>5100.0</td><td>2014.0</td><td>4.0</td><td>8.0</td></tr><tr><td>&quot;50%&quot;</td><td>3.9049e9</td><td>450000.0</td><td>3.0</td><td>2.25</td><td>1910.0</td><td>7618.0</td><td>1.5</td><td>0.0</td><td>0.0</td><td>3.0</td><td>7.0</td><td>1560.0</td><td>0.0</td><td>1975.0</td><td>0.0</td><td>98065.0</td><td>47.5718</td><td>-122.23</td><td>1840.0</td><td>7620.0</td><td>2014.0</td><td>6.0</td><td>16.0</td></tr><tr><td>&quot;75%&quot;</td><td>7.3089e9</td><td>645000.0</td><td>4.0</td><td>2.5</td><td>2550.0</td><td>10688.0</td><td>2.0</td><td>0.0</td><td>0.0</td><td>4.0</td><td>8.0</td><td>2210.0</td><td>560.0</td><td>1997.0</td><td>0.0</td><td>98118.0</td><td>47.678</td><td>-122.125</td><td>2360.0</td><td>10083.0</td><td>2015.0</td><td>9.0</td><td>23.0</td></tr><tr><td>&quot;max&quot;</td><td>9.9000e9</td><td>7.7e6</td><td>33.0</td><td>8.0</td><td>13540.0</td><td>1.651359e6</td><td>3.5</td><td>1.0</td><td>4.0</td><td>5.0</td><td>13.0</td><td>9410.0</td><td>4820.0</td><td>2015.0</td><td>2015.0</td><td>98199.0</td><td>47.7776</td><td>-121.315</td><td>6210.0</td><td>871200.0</td><td>2015.0</td><td>12.0</td><td>31.0</td></tr></tbody></table></div>"
            ]
          },
          "metadata": {},
          "execution_count": 4
        }
      ],
      "source": [
        "raw.describe()"
      ]
    },
    {
      "cell_type": "code",
      "execution_count": 5,
      "metadata": {
        "colab": {
          "base_uri": "https://localhost:8080/",
          "height": 463
        },
        "id": "c8N1UQ18ri7z",
        "outputId": "9505bddd-3b21-4f94-b893-cf74e9a321e8"
      },
      "outputs": [
        {
          "output_type": "execute_result",
          "data": {
            "text/plain": [
              "shape: (23, 23)\n",
              "┌───────────┬───────────┬───────────┬───────────┬───┬───────────┬───────────┬───────────┬──────────┐\n",
              "│ id        ┆ price     ┆ bedrooms  ┆ bathrooms ┆ … ┆ sqft_lot1 ┆ date_year ┆ date_mont ┆ date_day │\n",
              "│ ---       ┆ ---       ┆ ---       ┆ ---       ┆   ┆ 5         ┆ ---       ┆ h         ┆ ---      │\n",
              "│ f64       ┆ f64       ┆ f64       ┆ f64       ┆   ┆ ---       ┆ f64       ┆ ---       ┆ f64      │\n",
              "│           ┆           ┆           ┆           ┆   ┆ f64       ┆           ┆ f64       ┆          │\n",
              "╞═══════════╪═══════════╪═══════════╪═══════════╪═══╪═══════════╪═══════════╪═══════════╪══════════╡\n",
              "│ 1.0       ┆ -0.016762 ┆ 0.001286  ┆ 0.00516   ┆ … ┆ -0.138798 ┆ 0.010128  ┆ -0.011708 ┆ 0.001939 │\n",
              "│ -0.016762 ┆ 1.0       ┆ 0.30835   ┆ 0.525138  ┆ … ┆ 0.082447  ┆ 0.003576  ┆ -0.010081 ┆ -0.01467 │\n",
              "│ 0.001286  ┆ 0.30835   ┆ 1.0       ┆ 0.515884  ┆ … ┆ 0.029244  ┆ -0.009838 ┆ -0.001533 ┆ -0.00803 │\n",
              "│           ┆           ┆           ┆           ┆   ┆           ┆           ┆           ┆ 1        │\n",
              "│ 0.00516   ┆ 0.525138  ┆ 0.515884  ┆ 1.0       ┆ … ┆ 0.087175  ┆ -0.026596 ┆ 0.007392  ┆ -0.00530 │\n",
              "│           ┆           ┆           ┆           ┆   ┆           ┆           ┆           ┆ 4        │\n",
              "│ -0.012258 ┆ 0.702035  ┆ 0.576671  ┆ 0.754665  ┆ … ┆ 0.183286  ┆ -0.029038 ┆ 0.01181   ┆ -0.00724 │\n",
              "│           ┆           ┆           ┆           ┆   ┆           ┆           ┆           ┆ 6        │\n",
              "│ …         ┆ …         ┆ …         ┆ …         ┆ … ┆ …         ┆ …         ┆ …         ┆ …        │\n",
              "│ -0.002901 ┆ 0.585379  ┆ 0.391638  ┆ 0.568634  ┆ … ┆ 0.183192  ┆ -0.021734 ┆ 0.002449  ┆ -0.00853 │\n",
              "│           ┆           ┆           ┆           ┆   ┆           ┆           ┆           ┆ 9        │\n",
              "│ -0.138798 ┆ 0.082447  ┆ 0.029244  ┆ 0.087175  ┆ … ┆ 1.0       ┆ -0.000085 ┆ 0.003546  ┆ -0.00287 │\n",
              "│           ┆           ┆           ┆           ┆   ┆           ┆           ┆           ┆ 1        │\n",
              "│ 0.010128  ┆ 0.003576  ┆ -0.009838 ┆ -0.026596 ┆ … ┆ -0.000085 ┆ 1.0       ┆ -0.782389 ┆ -0.00610 │\n",
              "│           ┆           ┆           ┆           ┆   ┆           ┆           ┆           ┆ 3        │\n",
              "│ -0.011708 ┆ -0.010081 ┆ -0.001533 ┆ 0.007392  ┆ … ┆ 0.003546  ┆ -0.782389 ┆ 1.0       ┆ -0.06066 │\n",
              "│           ┆           ┆           ┆           ┆   ┆           ┆           ┆           ┆ 4        │\n",
              "│ 0.001939  ┆ -0.01467  ┆ -0.008031 ┆ -0.005304 ┆ … ┆ -0.002871 ┆ -0.006103 ┆ -0.060664 ┆ 1.0      │\n",
              "└───────────┴───────────┴───────────┴───────────┴───┴───────────┴───────────┴───────────┴──────────┘"
            ],
            "text/html": [
              "<div><style>\n",
              ".dataframe > thead > tr,\n",
              ".dataframe > tbody > tr {\n",
              "  text-align: right;\n",
              "  white-space: pre-wrap;\n",
              "}\n",
              "</style>\n",
              "<small>shape: (23, 23)</small><table border=\"1\" class=\"dataframe\"><thead><tr><th>id</th><th>price</th><th>bedrooms</th><th>bathrooms</th><th>sqft_living</th><th>sqft_lot</th><th>floors</th><th>waterfront</th><th>view</th><th>condition</th><th>grade</th><th>sqft_above</th><th>sqft_basement</th><th>yr_built</th><th>yr_renovated</th><th>zipcode</th><th>lat</th><th>long</th><th>sqft_living15</th><th>sqft_lot15</th><th>date_year</th><th>date_month</th><th>date_day</th></tr><tr><td>f64</td><td>f64</td><td>f64</td><td>f64</td><td>f64</td><td>f64</td><td>f64</td><td>f64</td><td>f64</td><td>f64</td><td>f64</td><td>f64</td><td>f64</td><td>f64</td><td>f64</td><td>f64</td><td>f64</td><td>f64</td><td>f64</td><td>f64</td><td>f64</td><td>f64</td><td>f64</td></tr></thead><tbody><tr><td>1.0</td><td>-0.016762</td><td>0.001286</td><td>0.00516</td><td>-0.012258</td><td>-0.132109</td><td>0.018525</td><td>-0.002721</td><td>0.011592</td><td>-0.023783</td><td>0.00813</td><td>-0.010842</td><td>-0.005151</td><td>0.02138</td><td>-0.016907</td><td>-0.008224</td><td>-0.001891</td><td>0.020799</td><td>-0.002901</td><td>-0.138798</td><td>0.010128</td><td>-0.011708</td><td>0.001939</td></tr><tr><td>-0.016762</td><td>1.0</td><td>0.30835</td><td>0.525138</td><td>0.702035</td><td>0.089661</td><td>0.256794</td><td>0.266369</td><td>0.397293</td><td>0.036362</td><td>0.667434</td><td>0.605567</td><td>0.323816</td><td>0.054012</td><td>0.126434</td><td>-0.053203</td><td>0.307003</td><td>0.021626</td><td>0.585379</td><td>0.082447</td><td>0.003576</td><td>-0.010081</td><td>-0.01467</td></tr><tr><td>0.001286</td><td>0.30835</td><td>1.0</td><td>0.515884</td><td>0.576671</td><td>0.031703</td><td>0.175429</td><td>-0.006582</td><td>0.079532</td><td>0.028472</td><td>0.356967</td><td>0.4776</td><td>0.303093</td><td>0.154178</td><td>0.018841</td><td>-0.152668</td><td>-0.008931</td><td>0.129473</td><td>0.391638</td><td>0.029244</td><td>-0.009838</td><td>-0.001533</td><td>-0.008031</td></tr><tr><td>0.00516</td><td>0.525138</td><td>0.515884</td><td>1.0</td><td>0.754665</td><td>0.08774</td><td>0.500653</td><td>0.063744</td><td>0.187737</td><td>-0.124982</td><td>0.664983</td><td>0.685342</td><td>0.28377</td><td>0.506019</td><td>0.050739</td><td>-0.203866</td><td>0.024573</td><td>0.223042</td><td>0.568634</td><td>0.087175</td><td>-0.026596</td><td>0.007392</td><td>-0.005304</td></tr><tr><td>-0.012258</td><td>0.702035</td><td>0.576671</td><td>0.754665</td><td>1.0</td><td>0.172826</td><td>0.353949</td><td>0.103818</td><td>0.284611</td><td>-0.058753</td><td>0.762704</td><td>0.876597</td><td>0.435043</td><td>0.318049</td><td>0.055363</td><td>-0.19943</td><td>0.052529</td><td>0.240223</td><td>0.75642</td><td>0.183286</td><td>-0.029038</td><td>0.01181</td><td>-0.007246</td></tr><tr><td>&hellip;</td><td>&hellip;</td><td>&hellip;</td><td>&hellip;</td><td>&hellip;</td><td>&hellip;</td><td>&hellip;</td><td>&hellip;</td><td>&hellip;</td><td>&hellip;</td><td>&hellip;</td><td>&hellip;</td><td>&hellip;</td><td>&hellip;</td><td>&hellip;</td><td>&hellip;</td><td>&hellip;</td><td>&hellip;</td><td>&hellip;</td><td>&hellip;</td><td>&hellip;</td><td>&hellip;</td><td>&hellip;</td></tr><tr><td>-0.002901</td><td>0.585379</td><td>0.391638</td><td>0.568634</td><td>0.75642</td><td>0.144608</td><td>0.279885</td><td>0.086463</td><td>0.280439</td><td>-0.092824</td><td>0.713202</td><td>0.73187</td><td>0.200355</td><td>0.326229</td><td>-0.002673</td><td>-0.279033</td><td>0.048858</td><td>0.334605</td><td>1.0</td><td>0.183192</td><td>-0.021734</td><td>0.002449</td><td>-0.008539</td></tr><tr><td>-0.138798</td><td>0.082447</td><td>0.029244</td><td>0.087175</td><td>0.183286</td><td>0.718557</td><td>-0.011269</td><td>0.030703</td><td>0.072575</td><td>-0.003406</td><td>0.119248</td><td>0.19405</td><td>0.017276</td><td>0.070958</td><td>0.007854</td><td>-0.147221</td><td>-0.086419</td><td>0.254451</td><td>0.183192</td><td>1.0</td><td>-0.000085</td><td>0.003546</td><td>-0.002871</td></tr><tr><td>0.010128</td><td>0.003576</td><td>-0.009838</td><td>-0.026596</td><td>-0.029038</td><td>0.005468</td><td>-0.022315</td><td>-0.004165</td><td>0.001364</td><td>-0.045589</td><td>-0.030387</td><td>-0.023823</td><td>-0.015687</td><td>0.003507</td><td>-0.023707</td><td>0.001189</td><td>-0.029212</td><td>0.00027</td><td>-0.021734</td><td>-0.000085</td><td>1.0</td><td>-0.782389</td><td>-0.006103</td></tr><tr><td>-0.011708</td><td>-0.010081</td><td>-0.001533</td><td>0.007392</td><td>0.01181</td><td>-0.002369</td><td>0.014005</td><td>0.008132</td><td>-0.005638</td><td>0.021978</td><td>0.008376</td><td>0.009872</td><td>0.006035</td><td>-0.006226</td><td>0.012827</td><td>-0.000171</td><td>0.014961</td><td>-0.008134</td><td>0.002449</td><td>0.003546</td><td>-0.782389</td><td>1.0</td><td>-0.060664</td></tr><tr><td>0.001939</td><td>-0.01467</td><td>-0.008031</td><td>-0.005304</td><td>-0.007246</td><td>0.000634</td><td>-0.006662</td><td>0.010518</td><td>0.011174</td><td>-0.004643</td><td>-0.012483</td><td>-0.002475</td><td>-0.010405</td><td>-0.005766</td><td>0.008127</td><td>-0.00327</td><td>-0.015655</td><td>-0.007331</td><td>-0.008539</td><td>-0.002871</td><td>-0.006103</td><td>-0.060664</td><td>1.0</td></tr></tbody></table></div>"
            ]
          },
          "metadata": {},
          "execution_count": 5
        }
      ],
      "source": [
        "raw.corr()"
      ]
    },
    {
      "cell_type": "code",
      "execution_count": 6,
      "metadata": {
        "colab": {
          "base_uri": "https://localhost:8080/",
          "height": 791
        },
        "id": "ilQ8iTzXri7z",
        "outputId": "8cac985d-ea4f-45b7-f73c-fa8921f1e580"
      },
      "outputs": [
        {
          "output_type": "execute_result",
          "data": {
            "text/plain": [
              "<pandas.io.formats.style.Styler at 0x7fb99c36ceb0>"
            ],
            "text/html": [
              "<style type=\"text/css\">\n",
              "#T_63033_row0_col0, #T_63033_row1_col1, #T_63033_row2_col2, #T_63033_row3_col3, #T_63033_row4_col4, #T_63033_row5_col5, #T_63033_row6_col6, #T_63033_row7_col7, #T_63033_row8_col8, #T_63033_row9_col9, #T_63033_row10_col10, #T_63033_row11_col11, #T_63033_row12_col12, #T_63033_row13_col13, #T_63033_row14_col14, #T_63033_row15_col15, #T_63033_row16_col16, #T_63033_row17_col17, #T_63033_row18_col18, #T_63033_row19_col19, #T_63033_row20_col20, #T_63033_row21_col21, #T_63033_row22_col22 {\n",
              "  background-color: #053061;\n",
              "  color: #f1f1f1;\n",
              "}\n",
              "#T_63033_row0_col1, #T_63033_row0_col14, #T_63033_row1_col0, #T_63033_row6_col20, #T_63033_row12_col20, #T_63033_row14_col0, #T_63033_row16_col22, #T_63033_row18_col20, #T_63033_row20_col6, #T_63033_row20_col12, #T_63033_row20_col18, #T_63033_row22_col16 {\n",
              "  background-color: #f8f4f2;\n",
              "  color: #000000;\n",
              "}\n",
              "#T_63033_row0_col2, #T_63033_row0_col3, #T_63033_row0_col22, #T_63033_row1_col20, #T_63033_row2_col0, #T_63033_row3_col0, #T_63033_row3_col21, #T_63033_row5_col14, #T_63033_row5_col20, #T_63033_row5_col22, #T_63033_row6_col14, #T_63033_row8_col16, #T_63033_row8_col20, #T_63033_row9_col15, #T_63033_row12_col21, #T_63033_row13_col20, #T_63033_row14_col5, #T_63033_row14_col6, #T_63033_row15_col9, #T_63033_row15_col20, #T_63033_row16_col8, #T_63033_row17_col20, #T_63033_row18_col21, #T_63033_row19_col21, #T_63033_row20_col1, #T_63033_row20_col5, #T_63033_row20_col8, #T_63033_row20_col13, #T_63033_row20_col15, #T_63033_row20_col17, #T_63033_row21_col3, #T_63033_row21_col12, #T_63033_row21_col18, #T_63033_row21_col19, #T_63033_row22_col0, #T_63033_row22_col5 {\n",
              "  background-color: #f6f7f7;\n",
              "  color: #000000;\n",
              "}\n",
              "#T_63033_row0_col4, #T_63033_row0_col11, #T_63033_row0_col15, #T_63033_row0_col21, #T_63033_row1_col21, #T_63033_row1_col22, #T_63033_row2_col16, #T_63033_row2_col20, #T_63033_row2_col22, #T_63033_row4_col0, #T_63033_row5_col9, #T_63033_row6_col19, #T_63033_row7_col16, #T_63033_row9_col5, #T_63033_row9_col16, #T_63033_row10_col22, #T_63033_row11_col0, #T_63033_row12_col22, #T_63033_row15_col0, #T_63033_row16_col2, #T_63033_row16_col7, #T_63033_row16_col9, #T_63033_row17_col21, #T_63033_row18_col22, #T_63033_row19_col6, #T_63033_row20_col2, #T_63033_row21_col0, #T_63033_row21_col1, #T_63033_row21_col17, #T_63033_row22_col1, #T_63033_row22_col2, #T_63033_row22_col10, #T_63033_row22_col12, #T_63033_row22_col18 {\n",
              "  background-color: #f7f5f4;\n",
              "  color: #000000;\n",
              "}\n",
              "#T_63033_row0_col5, #T_63033_row5_col0, #T_63033_row5_col15, #T_63033_row15_col5 {\n",
              "  background-color: #fbe5d8;\n",
              "  color: #000000;\n",
              "}\n",
              "#T_63033_row0_col6, #T_63033_row0_col13, #T_63033_row0_col17, #T_63033_row1_col17, #T_63033_row2_col14, #T_63033_row5_col7, #T_63033_row6_col0, #T_63033_row7_col5, #T_63033_row7_col9, #T_63033_row9_col7, #T_63033_row9_col21, #T_63033_row11_col14, #T_63033_row12_col19, #T_63033_row13_col0, #T_63033_row14_col2, #T_63033_row14_col11, #T_63033_row17_col0, #T_63033_row17_col1, #T_63033_row19_col12, #T_63033_row21_col9 {\n",
              "  background-color: #f3f5f6;\n",
              "  color: #000000;\n",
              "}\n",
              "#T_63033_row0_col7, #T_63033_row0_col12, #T_63033_row0_col16, #T_63033_row0_col18, #T_63033_row2_col7, #T_63033_row2_col21, #T_63033_row3_col22, #T_63033_row4_col22, #T_63033_row5_col6, #T_63033_row5_col21, #T_63033_row6_col5, #T_63033_row6_col22, #T_63033_row7_col0, #T_63033_row7_col2, #T_63033_row7_col20, #T_63033_row8_col21, #T_63033_row9_col19, #T_63033_row9_col22, #T_63033_row11_col16, #T_63033_row11_col22, #T_63033_row12_col0, #T_63033_row13_col21, #T_63033_row13_col22, #T_63033_row14_col18, #T_63033_row15_col21, #T_63033_row15_col22, #T_63033_row16_col0, #T_63033_row16_col11, #T_63033_row17_col22, #T_63033_row18_col0, #T_63033_row18_col14, #T_63033_row19_col9, #T_63033_row19_col20, #T_63033_row19_col22, #T_63033_row20_col7, #T_63033_row20_col19, #T_63033_row20_col22, #T_63033_row21_col2, #T_63033_row21_col5, #T_63033_row21_col8, #T_63033_row21_col13, #T_63033_row21_col15, #T_63033_row22_col3, #T_63033_row22_col4, #T_63033_row22_col6, #T_63033_row22_col9, #T_63033_row22_col11, #T_63033_row22_col13, #T_63033_row22_col15, #T_63033_row22_col17, #T_63033_row22_col19, #T_63033_row22_col20 {\n",
              "  background-color: #f7f6f6;\n",
              "  color: #000000;\n",
              "}\n",
              "#T_63033_row0_col8, #T_63033_row0_col10, #T_63033_row0_col20, #T_63033_row4_col21, #T_63033_row5_col12, #T_63033_row6_col21, #T_63033_row7_col21, #T_63033_row7_col22, #T_63033_row8_col0, #T_63033_row8_col22, #T_63033_row10_col0, #T_63033_row10_col14, #T_63033_row10_col21, #T_63033_row11_col21, #T_63033_row12_col5, #T_63033_row14_col10, #T_63033_row14_col19, #T_63033_row14_col21, #T_63033_row14_col22, #T_63033_row16_col21, #T_63033_row19_col14, #T_63033_row20_col0, #T_63033_row21_col4, #T_63033_row21_col6, #T_63033_row21_col7, #T_63033_row21_col10, #T_63033_row21_col11, #T_63033_row21_col14, #T_63033_row21_col16, #T_63033_row22_col7, #T_63033_row22_col8, #T_63033_row22_col14 {\n",
              "  background-color: #f5f6f7;\n",
              "  color: #000000;\n",
              "}\n",
              "#T_63033_row0_col9, #T_63033_row3_col20, #T_63033_row4_col20, #T_63033_row7_col13, #T_63033_row9_col0, #T_63033_row10_col20, #T_63033_row11_col20, #T_63033_row13_col7, #T_63033_row14_col20, #T_63033_row16_col20, #T_63033_row20_col3, #T_63033_row20_col4, #T_63033_row20_col10, #T_63033_row20_col11, #T_63033_row20_col14, #T_63033_row20_col16 {\n",
              "  background-color: #f8f3f0;\n",
              "  color: #000000;\n",
              "}\n",
              "#T_63033_row0_col19, #T_63033_row12_col13, #T_63033_row13_col12, #T_63033_row16_col17, #T_63033_row17_col16, #T_63033_row19_col0 {\n",
              "  background-color: #fbe4d6;\n",
              "  color: #000000;\n",
              "}\n",
              "#T_63033_row1_col2, #T_63033_row1_col16, #T_63033_row2_col1, #T_63033_row16_col1 {\n",
              "  background-color: #aed3e6;\n",
              "  color: #000000;\n",
              "}\n",
              "#T_63033_row1_col3, #T_63033_row3_col1, #T_63033_row6_col11, #T_63033_row11_col6 {\n",
              "  background-color: #5fa5cd;\n",
              "  color: #f1f1f1;\n",
              "}\n",
              "#T_63033_row1_col4, #T_63033_row4_col1 {\n",
              "  background-color: #327cb7;\n",
              "  color: #f1f1f1;\n",
              "}\n",
              "#T_63033_row1_col5, #T_63033_row3_col5, #T_63033_row3_col19, #T_63033_row5_col1, #T_63033_row5_col3, #T_63033_row7_col14, #T_63033_row7_col18, #T_63033_row14_col7, #T_63033_row18_col7, #T_63033_row19_col3 {\n",
              "  background-color: #e6eff4;\n",
              "  color: #000000;\n",
              "}\n",
              "#T_63033_row1_col6, #T_63033_row6_col1, #T_63033_row8_col10, #T_63033_row10_col8, #T_63033_row17_col19, #T_63033_row19_col17 {\n",
              "  background-color: #c0dceb;\n",
              "  color: #000000;\n",
              "}\n",
              "#T_63033_row1_col7, #T_63033_row7_col1, #T_63033_row15_col16, #T_63033_row16_col15 {\n",
              "  background-color: #bbdaea;\n",
              "  color: #000000;\n",
              "}\n",
              "#T_63033_row1_col8, #T_63033_row2_col18, #T_63033_row8_col1, #T_63033_row18_col2 {\n",
              "  background-color: #93c6de;\n",
              "  color: #000000;\n",
              "}\n",
              "#T_63033_row1_col9, #T_63033_row2_col5, #T_63033_row5_col2, #T_63033_row9_col1 {\n",
              "  background-color: #f0f4f6;\n",
              "  color: #000000;\n",
              "}\n",
              "#T_63033_row1_col10, #T_63033_row3_col10, #T_63033_row10_col1, #T_63033_row10_col3 {\n",
              "  background-color: #3783bb;\n",
              "  color: #f1f1f1;\n",
              "}\n",
              "#T_63033_row1_col11, #T_63033_row11_col1 {\n",
              "  background-color: #4291c2;\n",
              "  color: #f1f1f1;\n",
              "}\n",
              "#T_63033_row1_col12, #T_63033_row12_col1, #T_63033_row13_col18, #T_63033_row18_col13 {\n",
              "  background-color: #a9d1e5;\n",
              "  color: #000000;\n",
              "}\n",
              "#T_63033_row1_col13, #T_63033_row3_col14, #T_63033_row4_col16, #T_63033_row5_col13, #T_63033_row6_col16, #T_63033_row13_col1, #T_63033_row13_col5, #T_63033_row14_col3, #T_63033_row16_col4, #T_63033_row16_col6, #T_63033_row16_col18, #T_63033_row18_col16 {\n",
              "  background-color: #edf2f5;\n",
              "  color: #000000;\n",
              "}\n",
              "#T_63033_row1_col14, #T_63033_row2_col17, #T_63033_row6_col17, #T_63033_row14_col1, #T_63033_row17_col2, #T_63033_row17_col6 {\n",
              "  background-color: #deebf2;\n",
              "  color: #000000;\n",
              "}\n",
              "#T_63033_row1_col15, #T_63033_row8_col13, #T_63033_row11_col12, #T_63033_row12_col11, #T_63033_row13_col8, #T_63033_row15_col1 {\n",
              "  background-color: #f9f0eb;\n",
              "  color: #000000;\n",
              "}\n",
              "#T_63033_row1_col18, #T_63033_row18_col1 {\n",
              "  background-color: #4997c5;\n",
              "  color: #f1f1f1;\n",
              "}\n",
              "#T_63033_row1_col19, #T_63033_row2_col8, #T_63033_row7_col10, #T_63033_row7_col12, #T_63033_row8_col2, #T_63033_row8_col15, #T_63033_row10_col7, #T_63033_row12_col7, #T_63033_row15_col8, #T_63033_row19_col1 {\n",
              "  background-color: #e7f0f4;\n",
              "  color: #000000;\n",
              "}\n",
              "#T_63033_row2_col3, #T_63033_row3_col2 {\n",
              "  background-color: #62a7ce;\n",
              "  color: #f1f1f1;\n",
              "}\n",
              "#T_63033_row2_col4, #T_63033_row4_col2 {\n",
              "  background-color: #4c99c6;\n",
              "  color: #f1f1f1;\n",
              "}\n",
              "#T_63033_row2_col6, #T_63033_row4_col5, #T_63033_row5_col4, #T_63033_row6_col2, #T_63033_row9_col12, #T_63033_row12_col9 {\n",
              "  background-color: #d5e7f1;\n",
              "  color: #000000;\n",
              "}\n",
              "#T_63033_row2_col9, #T_63033_row2_col19, #T_63033_row3_col16, #T_63033_row6_col7, #T_63033_row6_col8, #T_63033_row7_col6, #T_63033_row7_col15, #T_63033_row7_col19, #T_63033_row8_col6, #T_63033_row9_col2, #T_63033_row14_col16, #T_63033_row15_col7, #T_63033_row16_col3, #T_63033_row16_col14, #T_63033_row19_col2, #T_63033_row19_col7 {\n",
              "  background-color: #f2f5f6;\n",
              "  color: #000000;\n",
              "}\n",
              "#T_63033_row2_col10, #T_63033_row4_col6, #T_63033_row6_col4, #T_63033_row10_col2 {\n",
              "  background-color: #a0cce2;\n",
              "  color: #000000;\n",
              "}\n",
              "#T_63033_row2_col11, #T_63033_row11_col2 {\n",
              "  background-color: #71b0d3;\n",
              "  color: #f1f1f1;\n",
              "}\n",
              "#T_63033_row2_col12, #T_63033_row12_col2 {\n",
              "  background-color: #b1d5e7;\n",
              "  color: #000000;\n",
              "}\n",
              "#T_63033_row2_col13, #T_63033_row13_col2 {\n",
              "  background-color: #dae9f2;\n",
              "  color: #000000;\n",
              "}\n",
              "#T_63033_row2_col15, #T_63033_row15_col2 {\n",
              "  background-color: #fce2d2;\n",
              "  color: #000000;\n",
              "}\n",
              "#T_63033_row3_col4, #T_63033_row4_col3, #T_63033_row4_col18, #T_63033_row10_col11, #T_63033_row11_col10, #T_63033_row18_col4 {\n",
              "  background-color: #2870b1;\n",
              "  color: #f1f1f1;\n",
              "}\n",
              "#T_63033_row3_col6, #T_63033_row3_col13, #T_63033_row6_col3, #T_63033_row13_col3 {\n",
              "  background-color: #68abd0;\n",
              "  color: #f1f1f1;\n",
              "}\n",
              "#T_63033_row3_col7, #T_63033_row7_col3, #T_63033_row14_col15, #T_63033_row15_col14 {\n",
              "  background-color: #eaf1f5;\n",
              "  color: #000000;\n",
              "}\n",
              "#T_63033_row3_col8, #T_63033_row8_col3, #T_63033_row11_col19, #T_63033_row19_col11 {\n",
              "  background-color: #d2e6f0;\n",
              "  color: #000000;\n",
              "}\n",
              "#T_63033_row3_col9, #T_63033_row9_col3 {\n",
              "  background-color: #fbe6da;\n",
              "  color: #000000;\n",
              "}\n",
              "#T_63033_row3_col11, #T_63033_row11_col3 {\n",
              "  background-color: #3480b9;\n",
              "  color: #f1f1f1;\n",
              "}\n",
              "#T_63033_row3_col12, #T_63033_row4_col8, #T_63033_row8_col4, #T_63033_row12_col3 {\n",
              "  background-color: #b6d7e8;\n",
              "  color: #000000;\n",
              "}\n",
              "#T_63033_row3_col15, #T_63033_row15_col3 {\n",
              "  background-color: #fdd9c4;\n",
              "  color: #000000;\n",
              "}\n",
              "#T_63033_row3_col17, #T_63033_row17_col3 {\n",
              "  background-color: #cae1ee;\n",
              "  color: #000000;\n",
              "}\n",
              "#T_63033_row3_col18, #T_63033_row18_col3 {\n",
              "  background-color: #4f9bc7;\n",
              "  color: #f1f1f1;\n",
              "}\n",
              "#T_63033_row4_col7, #T_63033_row7_col4, #T_63033_row8_col14, #T_63033_row14_col8 {\n",
              "  background-color: #e3edf3;\n",
              "  color: #000000;\n",
              "}\n",
              "#T_63033_row4_col9, #T_63033_row6_col15, #T_63033_row9_col4, #T_63033_row9_col14, #T_63033_row14_col9, #T_63033_row15_col6, #T_63033_row21_col22, #T_63033_row22_col21 {\n",
              "  background-color: #f9efe9;\n",
              "  color: #000000;\n",
              "}\n",
              "#T_63033_row4_col10, #T_63033_row10_col4 {\n",
              "  background-color: #276eb0;\n",
              "  color: #f1f1f1;\n",
              "}\n",
              "#T_63033_row4_col11, #T_63033_row11_col4 {\n",
              "  background-color: #15508d;\n",
              "  color: #f1f1f1;\n",
              "}\n",
              "#T_63033_row4_col12, #T_63033_row12_col4 {\n",
              "  background-color: #84bcd9;\n",
              "  color: #000000;\n",
              "}\n",
              "#T_63033_row4_col13, #T_63033_row13_col4 {\n",
              "  background-color: #acd2e5;\n",
              "  color: #000000;\n",
              "}\n",
              "#T_63033_row4_col14, #T_63033_row14_col4 {\n",
              "  background-color: #ecf2f5;\n",
              "  color: #000000;\n",
              "}\n",
              "#T_63033_row4_col15, #T_63033_row15_col4 {\n",
              "  background-color: #fddbc7;\n",
              "  color: #000000;\n",
              "}\n",
              "#T_63033_row4_col17, #T_63033_row17_col4 {\n",
              "  background-color: #c5dfec;\n",
              "  color: #000000;\n",
              "}\n",
              "#T_63033_row4_col19, #T_63033_row5_col11, #T_63033_row11_col5, #T_63033_row18_col19, #T_63033_row19_col4, #T_63033_row19_col18 {\n",
              "  background-color: #d4e6f1;\n",
              "  color: #000000;\n",
              "}\n",
              "#T_63033_row5_col8, #T_63033_row7_col11, #T_63033_row8_col5, #T_63033_row8_col19, #T_63033_row11_col7, #T_63033_row12_col14, #T_63033_row12_col15, #T_63033_row13_col19, #T_63033_row14_col12, #T_63033_row15_col12, #T_63033_row19_col8, #T_63033_row19_col13 {\n",
              "  background-color: #e9f0f4;\n",
              "  color: #000000;\n",
              "}\n",
              "#T_63033_row5_col10, #T_63033_row10_col5, #T_63033_row10_col16, #T_63033_row12_col16, #T_63033_row16_col10, #T_63033_row16_col12 {\n",
              "  background-color: #e1edf3;\n",
              "  color: #000000;\n",
              "}\n",
              "#T_63033_row5_col16, #T_63033_row8_col17, #T_63033_row16_col5, #T_63033_row17_col8 {\n",
              "  background-color: #f9ebe3;\n",
              "  color: #000000;\n",
              "}\n",
              "#T_63033_row5_col17, #T_63033_row17_col5 {\n",
              "  background-color: #c7e0ed;\n",
              "  color: #000000;\n",
              "}\n",
              "#T_63033_row5_col18, #T_63033_row18_col5 {\n",
              "  background-color: #dbeaf2;\n",
              "  color: #000000;\n",
              "}\n",
              "#T_63033_row5_col19, #T_63033_row10_col18, #T_63033_row18_col10, #T_63033_row19_col5 {\n",
              "  background-color: #2f79b5;\n",
              "  color: #f1f1f1;\n",
              "}\n",
              "#T_63033_row6_col9, #T_63033_row9_col6, #T_63033_row11_col15, #T_63033_row15_col11 {\n",
              "  background-color: #facab1;\n",
              "  color: #000000;\n",
              "}\n",
              "#T_63033_row6_col10, #T_63033_row10_col6 {\n",
              "  background-color: #7bb6d6;\n",
              "  color: #000000;\n",
              "}\n",
              "#T_63033_row6_col12, #T_63033_row12_col6 {\n",
              "  background-color: #fbceb7;\n",
              "  color: #000000;\n",
              "}\n",
              "#T_63033_row6_col13, #T_63033_row13_col6 {\n",
              "  background-color: #6eaed2;\n",
              "  color: #f1f1f1;\n",
              "}\n",
              "#T_63033_row6_col18, #T_63033_row8_col12, #T_63033_row8_col18, #T_63033_row12_col8, #T_63033_row18_col6, #T_63033_row18_col8 {\n",
              "  background-color: #b8d8e9;\n",
              "  color: #000000;\n",
              "}\n",
              "#T_63033_row7_col8, #T_63033_row8_col7 {\n",
              "  background-color: #90c4dd;\n",
              "  color: #000000;\n",
              "}\n",
              "#T_63033_row7_col17, #T_63033_row9_col20, #T_63033_row17_col7, #T_63033_row20_col9 {\n",
              "  background-color: #f8f1ed;\n",
              "  color: #000000;\n",
              "}\n",
              "#T_63033_row8_col9, #T_63033_row9_col8 {\n",
              "  background-color: #eff3f5;\n",
              "  color: #000000;\n",
              "}\n",
              "#T_63033_row8_col11, #T_63033_row10_col12, #T_63033_row11_col8, #T_63033_row12_col10 {\n",
              "  background-color: #d7e8f1;\n",
              "  color: #000000;\n",
              "}\n",
              "#T_63033_row9_col10, #T_63033_row10_col9, #T_63033_row12_col17, #T_63033_row13_col16, #T_63033_row15_col19, #T_63033_row16_col13, #T_63033_row17_col12, #T_63033_row19_col15 {\n",
              "  background-color: #fbe3d4;\n",
              "  color: #000000;\n",
              "}\n",
              "#T_63033_row9_col11, #T_63033_row11_col9 {\n",
              "  background-color: #fce0d0;\n",
              "  color: #000000;\n",
              "}\n",
              "#T_63033_row9_col13, #T_63033_row13_col9 {\n",
              "  background-color: #f6af8e;\n",
              "  color: #000000;\n",
              "}\n",
              "#T_63033_row9_col17, #T_63033_row17_col9 {\n",
              "  background-color: #fae8de;\n",
              "  color: #000000;\n",
              "}\n",
              "#T_63033_row9_col18, #T_63033_row16_col19, #T_63033_row18_col9, #T_63033_row19_col16 {\n",
              "  background-color: #faeae1;\n",
              "  color: #000000;\n",
              "}\n",
              "#T_63033_row10_col13, #T_63033_row13_col10 {\n",
              "  background-color: #7eb8d7;\n",
              "  color: #000000;\n",
              "}\n",
              "#T_63033_row10_col15, #T_63033_row15_col10 {\n",
              "  background-color: #fdddcb;\n",
              "  color: #000000;\n",
              "}\n",
              "#T_63033_row10_col17, #T_63033_row12_col18, #T_63033_row17_col10, #T_63033_row18_col12 {\n",
              "  background-color: #d1e5f0;\n",
              "  color: #000000;\n",
              "}\n",
              "#T_63033_row10_col19, #T_63033_row19_col10 {\n",
              "  background-color: #e0ecf3;\n",
              "  color: #000000;\n",
              "}\n",
              "#T_63033_row11_col13, #T_63033_row13_col11 {\n",
              "  background-color: #87beda;\n",
              "  color: #000000;\n",
              "}\n",
              "#T_63033_row11_col17, #T_63033_row17_col11 {\n",
              "  background-color: #a2cde3;\n",
              "  color: #000000;\n",
              "}\n",
              "#T_63033_row11_col18, #T_63033_row18_col11 {\n",
              "  background-color: #2c75b4;\n",
              "  color: #f1f1f1;\n",
              "}\n",
              "#T_63033_row13_col14, #T_63033_row14_col13 {\n",
              "  background-color: #fcd5bf;\n",
              "  color: #000000;\n",
              "}\n",
              "#T_63033_row13_col15, #T_63033_row15_col13 {\n",
              "  background-color: #f6b394;\n",
              "  color: #000000;\n",
              "}\n",
              "#T_63033_row13_col17, #T_63033_row17_col13 {\n",
              "  background-color: #8dc2dc;\n",
              "  color: #000000;\n",
              "}\n",
              "#T_63033_row14_col17, #T_63033_row17_col14 {\n",
              "  background-color: #f9eee7;\n",
              "  color: #000000;\n",
              "}\n",
              "#T_63033_row15_col17, #T_63033_row17_col15 {\n",
              "  background-color: #db6b55;\n",
              "  color: #f1f1f1;\n",
              "}\n",
              "#T_63033_row15_col18, #T_63033_row18_col15 {\n",
              "  background-color: #f9c6ac;\n",
              "  color: #000000;\n",
              "}\n",
              "#T_63033_row17_col18, #T_63033_row18_col17 {\n",
              "  background-color: #a7d0e4;\n",
              "  color: #000000;\n",
              "}\n",
              "#T_63033_row20_col21, #T_63033_row21_col20 {\n",
              "  background-color: #b41c2d;\n",
              "  color: #f1f1f1;\n",
              "}\n",
              "</style>\n",
              "<table id=\"T_63033\" class=\"dataframe\">\n",
              "  <thead>\n",
              "    <tr>\n",
              "      <th class=\"blank level0\" >&nbsp;</th>\n",
              "      <th id=\"T_63033_level0_col0\" class=\"col_heading level0 col0\" >id</th>\n",
              "      <th id=\"T_63033_level0_col1\" class=\"col_heading level0 col1\" >price</th>\n",
              "      <th id=\"T_63033_level0_col2\" class=\"col_heading level0 col2\" >bedrooms</th>\n",
              "      <th id=\"T_63033_level0_col3\" class=\"col_heading level0 col3\" >bathrooms</th>\n",
              "      <th id=\"T_63033_level0_col4\" class=\"col_heading level0 col4\" >sqft_living</th>\n",
              "      <th id=\"T_63033_level0_col5\" class=\"col_heading level0 col5\" >sqft_lot</th>\n",
              "      <th id=\"T_63033_level0_col6\" class=\"col_heading level0 col6\" >floors</th>\n",
              "      <th id=\"T_63033_level0_col7\" class=\"col_heading level0 col7\" >waterfront</th>\n",
              "      <th id=\"T_63033_level0_col8\" class=\"col_heading level0 col8\" >view</th>\n",
              "      <th id=\"T_63033_level0_col9\" class=\"col_heading level0 col9\" >condition</th>\n",
              "      <th id=\"T_63033_level0_col10\" class=\"col_heading level0 col10\" >grade</th>\n",
              "      <th id=\"T_63033_level0_col11\" class=\"col_heading level0 col11\" >sqft_above</th>\n",
              "      <th id=\"T_63033_level0_col12\" class=\"col_heading level0 col12\" >sqft_basement</th>\n",
              "      <th id=\"T_63033_level0_col13\" class=\"col_heading level0 col13\" >yr_built</th>\n",
              "      <th id=\"T_63033_level0_col14\" class=\"col_heading level0 col14\" >yr_renovated</th>\n",
              "      <th id=\"T_63033_level0_col15\" class=\"col_heading level0 col15\" >zipcode</th>\n",
              "      <th id=\"T_63033_level0_col16\" class=\"col_heading level0 col16\" >lat</th>\n",
              "      <th id=\"T_63033_level0_col17\" class=\"col_heading level0 col17\" >long</th>\n",
              "      <th id=\"T_63033_level0_col18\" class=\"col_heading level0 col18\" >sqft_living15</th>\n",
              "      <th id=\"T_63033_level0_col19\" class=\"col_heading level0 col19\" >sqft_lot15</th>\n",
              "      <th id=\"T_63033_level0_col20\" class=\"col_heading level0 col20\" >date_year</th>\n",
              "      <th id=\"T_63033_level0_col21\" class=\"col_heading level0 col21\" >date_month</th>\n",
              "      <th id=\"T_63033_level0_col22\" class=\"col_heading level0 col22\" >date_day</th>\n",
              "    </tr>\n",
              "  </thead>\n",
              "  <tbody>\n",
              "    <tr>\n",
              "      <th id=\"T_63033_level0_row0\" class=\"row_heading level0 row0\" >id</th>\n",
              "      <td id=\"T_63033_row0_col0\" class=\"data row0 col0\" >1.000000</td>\n",
              "      <td id=\"T_63033_row0_col1\" class=\"data row0 col1\" >-0.016762</td>\n",
              "      <td id=\"T_63033_row0_col2\" class=\"data row0 col2\" >0.001286</td>\n",
              "      <td id=\"T_63033_row0_col3\" class=\"data row0 col3\" >0.005160</td>\n",
              "      <td id=\"T_63033_row0_col4\" class=\"data row0 col4\" >-0.012258</td>\n",
              "      <td id=\"T_63033_row0_col5\" class=\"data row0 col5\" >-0.132109</td>\n",
              "      <td id=\"T_63033_row0_col6\" class=\"data row0 col6\" >0.018525</td>\n",
              "      <td id=\"T_63033_row0_col7\" class=\"data row0 col7\" >-0.002721</td>\n",
              "      <td id=\"T_63033_row0_col8\" class=\"data row0 col8\" >0.011592</td>\n",
              "      <td id=\"T_63033_row0_col9\" class=\"data row0 col9\" >-0.023783</td>\n",
              "      <td id=\"T_63033_row0_col10\" class=\"data row0 col10\" >0.008130</td>\n",
              "      <td id=\"T_63033_row0_col11\" class=\"data row0 col11\" >-0.010842</td>\n",
              "      <td id=\"T_63033_row0_col12\" class=\"data row0 col12\" >-0.005151</td>\n",
              "      <td id=\"T_63033_row0_col13\" class=\"data row0 col13\" >0.021380</td>\n",
              "      <td id=\"T_63033_row0_col14\" class=\"data row0 col14\" >-0.016907</td>\n",
              "      <td id=\"T_63033_row0_col15\" class=\"data row0 col15\" >-0.008224</td>\n",
              "      <td id=\"T_63033_row0_col16\" class=\"data row0 col16\" >-0.001891</td>\n",
              "      <td id=\"T_63033_row0_col17\" class=\"data row0 col17\" >0.020799</td>\n",
              "      <td id=\"T_63033_row0_col18\" class=\"data row0 col18\" >-0.002901</td>\n",
              "      <td id=\"T_63033_row0_col19\" class=\"data row0 col19\" >-0.138798</td>\n",
              "      <td id=\"T_63033_row0_col20\" class=\"data row0 col20\" >0.010128</td>\n",
              "      <td id=\"T_63033_row0_col21\" class=\"data row0 col21\" >-0.011708</td>\n",
              "      <td id=\"T_63033_row0_col22\" class=\"data row0 col22\" >0.001939</td>\n",
              "    </tr>\n",
              "    <tr>\n",
              "      <th id=\"T_63033_level0_row1\" class=\"row_heading level0 row1\" >price</th>\n",
              "      <td id=\"T_63033_row1_col0\" class=\"data row1 col0\" >-0.016762</td>\n",
              "      <td id=\"T_63033_row1_col1\" class=\"data row1 col1\" >1.000000</td>\n",
              "      <td id=\"T_63033_row1_col2\" class=\"data row1 col2\" >0.308350</td>\n",
              "      <td id=\"T_63033_row1_col3\" class=\"data row1 col3\" >0.525138</td>\n",
              "      <td id=\"T_63033_row1_col4\" class=\"data row1 col4\" >0.702035</td>\n",
              "      <td id=\"T_63033_row1_col5\" class=\"data row1 col5\" >0.089661</td>\n",
              "      <td id=\"T_63033_row1_col6\" class=\"data row1 col6\" >0.256794</td>\n",
              "      <td id=\"T_63033_row1_col7\" class=\"data row1 col7\" >0.266369</td>\n",
              "      <td id=\"T_63033_row1_col8\" class=\"data row1 col8\" >0.397293</td>\n",
              "      <td id=\"T_63033_row1_col9\" class=\"data row1 col9\" >0.036362</td>\n",
              "      <td id=\"T_63033_row1_col10\" class=\"data row1 col10\" >0.667434</td>\n",
              "      <td id=\"T_63033_row1_col11\" class=\"data row1 col11\" >0.605567</td>\n",
              "      <td id=\"T_63033_row1_col12\" class=\"data row1 col12\" >0.323816</td>\n",
              "      <td id=\"T_63033_row1_col13\" class=\"data row1 col13\" >0.054012</td>\n",
              "      <td id=\"T_63033_row1_col14\" class=\"data row1 col14\" >0.126434</td>\n",
              "      <td id=\"T_63033_row1_col15\" class=\"data row1 col15\" >-0.053203</td>\n",
              "      <td id=\"T_63033_row1_col16\" class=\"data row1 col16\" >0.307003</td>\n",
              "      <td id=\"T_63033_row1_col17\" class=\"data row1 col17\" >0.021626</td>\n",
              "      <td id=\"T_63033_row1_col18\" class=\"data row1 col18\" >0.585379</td>\n",
              "      <td id=\"T_63033_row1_col19\" class=\"data row1 col19\" >0.082447</td>\n",
              "      <td id=\"T_63033_row1_col20\" class=\"data row1 col20\" >0.003576</td>\n",
              "      <td id=\"T_63033_row1_col21\" class=\"data row1 col21\" >-0.010081</td>\n",
              "      <td id=\"T_63033_row1_col22\" class=\"data row1 col22\" >-0.014670</td>\n",
              "    </tr>\n",
              "    <tr>\n",
              "      <th id=\"T_63033_level0_row2\" class=\"row_heading level0 row2\" >bedrooms</th>\n",
              "      <td id=\"T_63033_row2_col0\" class=\"data row2 col0\" >0.001286</td>\n",
              "      <td id=\"T_63033_row2_col1\" class=\"data row2 col1\" >0.308350</td>\n",
              "      <td id=\"T_63033_row2_col2\" class=\"data row2 col2\" >1.000000</td>\n",
              "      <td id=\"T_63033_row2_col3\" class=\"data row2 col3\" >0.515884</td>\n",
              "      <td id=\"T_63033_row2_col4\" class=\"data row2 col4\" >0.576671</td>\n",
              "      <td id=\"T_63033_row2_col5\" class=\"data row2 col5\" >0.031703</td>\n",
              "      <td id=\"T_63033_row2_col6\" class=\"data row2 col6\" >0.175429</td>\n",
              "      <td id=\"T_63033_row2_col7\" class=\"data row2 col7\" >-0.006582</td>\n",
              "      <td id=\"T_63033_row2_col8\" class=\"data row2 col8\" >0.079532</td>\n",
              "      <td id=\"T_63033_row2_col9\" class=\"data row2 col9\" >0.028472</td>\n",
              "      <td id=\"T_63033_row2_col10\" class=\"data row2 col10\" >0.356967</td>\n",
              "      <td id=\"T_63033_row2_col11\" class=\"data row2 col11\" >0.477600</td>\n",
              "      <td id=\"T_63033_row2_col12\" class=\"data row2 col12\" >0.303093</td>\n",
              "      <td id=\"T_63033_row2_col13\" class=\"data row2 col13\" >0.154178</td>\n",
              "      <td id=\"T_63033_row2_col14\" class=\"data row2 col14\" >0.018841</td>\n",
              "      <td id=\"T_63033_row2_col15\" class=\"data row2 col15\" >-0.152668</td>\n",
              "      <td id=\"T_63033_row2_col16\" class=\"data row2 col16\" >-0.008931</td>\n",
              "      <td id=\"T_63033_row2_col17\" class=\"data row2 col17\" >0.129473</td>\n",
              "      <td id=\"T_63033_row2_col18\" class=\"data row2 col18\" >0.391638</td>\n",
              "      <td id=\"T_63033_row2_col19\" class=\"data row2 col19\" >0.029244</td>\n",
              "      <td id=\"T_63033_row2_col20\" class=\"data row2 col20\" >-0.009838</td>\n",
              "      <td id=\"T_63033_row2_col21\" class=\"data row2 col21\" >-0.001533</td>\n",
              "      <td id=\"T_63033_row2_col22\" class=\"data row2 col22\" >-0.008031</td>\n",
              "    </tr>\n",
              "    <tr>\n",
              "      <th id=\"T_63033_level0_row3\" class=\"row_heading level0 row3\" >bathrooms</th>\n",
              "      <td id=\"T_63033_row3_col0\" class=\"data row3 col0\" >0.005160</td>\n",
              "      <td id=\"T_63033_row3_col1\" class=\"data row3 col1\" >0.525138</td>\n",
              "      <td id=\"T_63033_row3_col2\" class=\"data row3 col2\" >0.515884</td>\n",
              "      <td id=\"T_63033_row3_col3\" class=\"data row3 col3\" >1.000000</td>\n",
              "      <td id=\"T_63033_row3_col4\" class=\"data row3 col4\" >0.754665</td>\n",
              "      <td id=\"T_63033_row3_col5\" class=\"data row3 col5\" >0.087740</td>\n",
              "      <td id=\"T_63033_row3_col6\" class=\"data row3 col6\" >0.500653</td>\n",
              "      <td id=\"T_63033_row3_col7\" class=\"data row3 col7\" >0.063744</td>\n",
              "      <td id=\"T_63033_row3_col8\" class=\"data row3 col8\" >0.187737</td>\n",
              "      <td id=\"T_63033_row3_col9\" class=\"data row3 col9\" >-0.124982</td>\n",
              "      <td id=\"T_63033_row3_col10\" class=\"data row3 col10\" >0.664983</td>\n",
              "      <td id=\"T_63033_row3_col11\" class=\"data row3 col11\" >0.685342</td>\n",
              "      <td id=\"T_63033_row3_col12\" class=\"data row3 col12\" >0.283770</td>\n",
              "      <td id=\"T_63033_row3_col13\" class=\"data row3 col13\" >0.506019</td>\n",
              "      <td id=\"T_63033_row3_col14\" class=\"data row3 col14\" >0.050739</td>\n",
              "      <td id=\"T_63033_row3_col15\" class=\"data row3 col15\" >-0.203866</td>\n",
              "      <td id=\"T_63033_row3_col16\" class=\"data row3 col16\" >0.024573</td>\n",
              "      <td id=\"T_63033_row3_col17\" class=\"data row3 col17\" >0.223042</td>\n",
              "      <td id=\"T_63033_row3_col18\" class=\"data row3 col18\" >0.568634</td>\n",
              "      <td id=\"T_63033_row3_col19\" class=\"data row3 col19\" >0.087175</td>\n",
              "      <td id=\"T_63033_row3_col20\" class=\"data row3 col20\" >-0.026596</td>\n",
              "      <td id=\"T_63033_row3_col21\" class=\"data row3 col21\" >0.007392</td>\n",
              "      <td id=\"T_63033_row3_col22\" class=\"data row3 col22\" >-0.005304</td>\n",
              "    </tr>\n",
              "    <tr>\n",
              "      <th id=\"T_63033_level0_row4\" class=\"row_heading level0 row4\" >sqft_living</th>\n",
              "      <td id=\"T_63033_row4_col0\" class=\"data row4 col0\" >-0.012258</td>\n",
              "      <td id=\"T_63033_row4_col1\" class=\"data row4 col1\" >0.702035</td>\n",
              "      <td id=\"T_63033_row4_col2\" class=\"data row4 col2\" >0.576671</td>\n",
              "      <td id=\"T_63033_row4_col3\" class=\"data row4 col3\" >0.754665</td>\n",
              "      <td id=\"T_63033_row4_col4\" class=\"data row4 col4\" >1.000000</td>\n",
              "      <td id=\"T_63033_row4_col5\" class=\"data row4 col5\" >0.172826</td>\n",
              "      <td id=\"T_63033_row4_col6\" class=\"data row4 col6\" >0.353949</td>\n",
              "      <td id=\"T_63033_row4_col7\" class=\"data row4 col7\" >0.103818</td>\n",
              "      <td id=\"T_63033_row4_col8\" class=\"data row4 col8\" >0.284611</td>\n",
              "      <td id=\"T_63033_row4_col9\" class=\"data row4 col9\" >-0.058753</td>\n",
              "      <td id=\"T_63033_row4_col10\" class=\"data row4 col10\" >0.762704</td>\n",
              "      <td id=\"T_63033_row4_col11\" class=\"data row4 col11\" >0.876597</td>\n",
              "      <td id=\"T_63033_row4_col12\" class=\"data row4 col12\" >0.435043</td>\n",
              "      <td id=\"T_63033_row4_col13\" class=\"data row4 col13\" >0.318049</td>\n",
              "      <td id=\"T_63033_row4_col14\" class=\"data row4 col14\" >0.055363</td>\n",
              "      <td id=\"T_63033_row4_col15\" class=\"data row4 col15\" >-0.199430</td>\n",
              "      <td id=\"T_63033_row4_col16\" class=\"data row4 col16\" >0.052529</td>\n",
              "      <td id=\"T_63033_row4_col17\" class=\"data row4 col17\" >0.240223</td>\n",
              "      <td id=\"T_63033_row4_col18\" class=\"data row4 col18\" >0.756420</td>\n",
              "      <td id=\"T_63033_row4_col19\" class=\"data row4 col19\" >0.183286</td>\n",
              "      <td id=\"T_63033_row4_col20\" class=\"data row4 col20\" >-0.029038</td>\n",
              "      <td id=\"T_63033_row4_col21\" class=\"data row4 col21\" >0.011810</td>\n",
              "      <td id=\"T_63033_row4_col22\" class=\"data row4 col22\" >-0.007246</td>\n",
              "    </tr>\n",
              "    <tr>\n",
              "      <th id=\"T_63033_level0_row5\" class=\"row_heading level0 row5\" >sqft_lot</th>\n",
              "      <td id=\"T_63033_row5_col0\" class=\"data row5 col0\" >-0.132109</td>\n",
              "      <td id=\"T_63033_row5_col1\" class=\"data row5 col1\" >0.089661</td>\n",
              "      <td id=\"T_63033_row5_col2\" class=\"data row5 col2\" >0.031703</td>\n",
              "      <td id=\"T_63033_row5_col3\" class=\"data row5 col3\" >0.087740</td>\n",
              "      <td id=\"T_63033_row5_col4\" class=\"data row5 col4\" >0.172826</td>\n",
              "      <td id=\"T_63033_row5_col5\" class=\"data row5 col5\" >1.000000</td>\n",
              "      <td id=\"T_63033_row5_col6\" class=\"data row5 col6\" >-0.005201</td>\n",
              "      <td id=\"T_63033_row5_col7\" class=\"data row5 col7\" >0.021604</td>\n",
              "      <td id=\"T_63033_row5_col8\" class=\"data row5 col8\" >0.074710</td>\n",
              "      <td id=\"T_63033_row5_col9\" class=\"data row5 col9\" >-0.008958</td>\n",
              "      <td id=\"T_63033_row5_col10\" class=\"data row5 col10\" >0.113621</td>\n",
              "      <td id=\"T_63033_row5_col11\" class=\"data row5 col11\" >0.183512</td>\n",
              "      <td id=\"T_63033_row5_col12\" class=\"data row5 col12\" >0.015286</td>\n",
              "      <td id=\"T_63033_row5_col13\" class=\"data row5 col13\" >0.053080</td>\n",
              "      <td id=\"T_63033_row5_col14\" class=\"data row5 col14\" >0.007644</td>\n",
              "      <td id=\"T_63033_row5_col15\" class=\"data row5 col15\" >-0.129574</td>\n",
              "      <td id=\"T_63033_row5_col16\" class=\"data row5 col16\" >-0.085683</td>\n",
              "      <td id=\"T_63033_row5_col17\" class=\"data row5 col17\" >0.229521</td>\n",
              "      <td id=\"T_63033_row5_col18\" class=\"data row5 col18\" >0.144608</td>\n",
              "      <td id=\"T_63033_row5_col19\" class=\"data row5 col19\" >0.718557</td>\n",
              "      <td id=\"T_63033_row5_col20\" class=\"data row5 col20\" >0.005468</td>\n",
              "      <td id=\"T_63033_row5_col21\" class=\"data row5 col21\" >-0.002369</td>\n",
              "      <td id=\"T_63033_row5_col22\" class=\"data row5 col22\" >0.000634</td>\n",
              "    </tr>\n",
              "    <tr>\n",
              "      <th id=\"T_63033_level0_row6\" class=\"row_heading level0 row6\" >floors</th>\n",
              "      <td id=\"T_63033_row6_col0\" class=\"data row6 col0\" >0.018525</td>\n",
              "      <td id=\"T_63033_row6_col1\" class=\"data row6 col1\" >0.256794</td>\n",
              "      <td id=\"T_63033_row6_col2\" class=\"data row6 col2\" >0.175429</td>\n",
              "      <td id=\"T_63033_row6_col3\" class=\"data row6 col3\" >0.500653</td>\n",
              "      <td id=\"T_63033_row6_col4\" class=\"data row6 col4\" >0.353949</td>\n",
              "      <td id=\"T_63033_row6_col5\" class=\"data row6 col5\" >-0.005201</td>\n",
              "      <td id=\"T_63033_row6_col6\" class=\"data row6 col6\" >1.000000</td>\n",
              "      <td id=\"T_63033_row6_col7\" class=\"data row6 col7\" >0.023698</td>\n",
              "      <td id=\"T_63033_row6_col8\" class=\"data row6 col8\" >0.029444</td>\n",
              "      <td id=\"T_63033_row6_col9\" class=\"data row6 col9\" >-0.263768</td>\n",
              "      <td id=\"T_63033_row6_col10\" class=\"data row6 col10\" >0.458183</td>\n",
              "      <td id=\"T_63033_row6_col11\" class=\"data row6 col11\" >0.523885</td>\n",
              "      <td id=\"T_63033_row6_col12\" class=\"data row6 col12\" >-0.245705</td>\n",
              "      <td id=\"T_63033_row6_col13\" class=\"data row6 col13\" >0.489319</td>\n",
              "      <td id=\"T_63033_row6_col14\" class=\"data row6 col14\" >0.006338</td>\n",
              "      <td id=\"T_63033_row6_col15\" class=\"data row6 col15\" >-0.059121</td>\n",
              "      <td id=\"T_63033_row6_col16\" class=\"data row6 col16\" >0.049614</td>\n",
              "      <td id=\"T_63033_row6_col17\" class=\"data row6 col17\" >0.125419</td>\n",
              "      <td id=\"T_63033_row6_col18\" class=\"data row6 col18\" >0.279885</td>\n",
              "      <td id=\"T_63033_row6_col19\" class=\"data row6 col19\" >-0.011269</td>\n",
              "      <td id=\"T_63033_row6_col20\" class=\"data row6 col20\" >-0.022315</td>\n",
              "      <td id=\"T_63033_row6_col21\" class=\"data row6 col21\" >0.014005</td>\n",
              "      <td id=\"T_63033_row6_col22\" class=\"data row6 col22\" >-0.006662</td>\n",
              "    </tr>\n",
              "    <tr>\n",
              "      <th id=\"T_63033_level0_row7\" class=\"row_heading level0 row7\" >waterfront</th>\n",
              "      <td id=\"T_63033_row7_col0\" class=\"data row7 col0\" >-0.002721</td>\n",
              "      <td id=\"T_63033_row7_col1\" class=\"data row7 col1\" >0.266369</td>\n",
              "      <td id=\"T_63033_row7_col2\" class=\"data row7 col2\" >-0.006582</td>\n",
              "      <td id=\"T_63033_row7_col3\" class=\"data row7 col3\" >0.063744</td>\n",
              "      <td id=\"T_63033_row7_col4\" class=\"data row7 col4\" >0.103818</td>\n",
              "      <td id=\"T_63033_row7_col5\" class=\"data row7 col5\" >0.021604</td>\n",
              "      <td id=\"T_63033_row7_col6\" class=\"data row7 col6\" >0.023698</td>\n",
              "      <td id=\"T_63033_row7_col7\" class=\"data row7 col7\" >1.000000</td>\n",
              "      <td id=\"T_63033_row7_col8\" class=\"data row7 col8\" >0.401857</td>\n",
              "      <td id=\"T_63033_row7_col9\" class=\"data row7 col9\" >0.016653</td>\n",
              "      <td id=\"T_63033_row7_col10\" class=\"data row7 col10\" >0.082775</td>\n",
              "      <td id=\"T_63033_row7_col11\" class=\"data row7 col11\" >0.072075</td>\n",
              "      <td id=\"T_63033_row7_col12\" class=\"data row7 col12\" >0.080588</td>\n",
              "      <td id=\"T_63033_row7_col13\" class=\"data row7 col13\" >-0.026161</td>\n",
              "      <td id=\"T_63033_row7_col14\" class=\"data row7 col14\" >0.092885</td>\n",
              "      <td id=\"T_63033_row7_col15\" class=\"data row7 col15\" >0.030285</td>\n",
              "      <td id=\"T_63033_row7_col16\" class=\"data row7 col16\" >-0.014274</td>\n",
              "      <td id=\"T_63033_row7_col17\" class=\"data row7 col17\" >-0.041910</td>\n",
              "      <td id=\"T_63033_row7_col18\" class=\"data row7 col18\" >0.086463</td>\n",
              "      <td id=\"T_63033_row7_col19\" class=\"data row7 col19\" >0.030703</td>\n",
              "      <td id=\"T_63033_row7_col20\" class=\"data row7 col20\" >-0.004165</td>\n",
              "      <td id=\"T_63033_row7_col21\" class=\"data row7 col21\" >0.008132</td>\n",
              "      <td id=\"T_63033_row7_col22\" class=\"data row7 col22\" >0.010518</td>\n",
              "    </tr>\n",
              "    <tr>\n",
              "      <th id=\"T_63033_level0_row8\" class=\"row_heading level0 row8\" >view</th>\n",
              "      <td id=\"T_63033_row8_col0\" class=\"data row8 col0\" >0.011592</td>\n",
              "      <td id=\"T_63033_row8_col1\" class=\"data row8 col1\" >0.397293</td>\n",
              "      <td id=\"T_63033_row8_col2\" class=\"data row8 col2\" >0.079532</td>\n",
              "      <td id=\"T_63033_row8_col3\" class=\"data row8 col3\" >0.187737</td>\n",
              "      <td id=\"T_63033_row8_col4\" class=\"data row8 col4\" >0.284611</td>\n",
              "      <td id=\"T_63033_row8_col5\" class=\"data row8 col5\" >0.074710</td>\n",
              "      <td id=\"T_63033_row8_col6\" class=\"data row8 col6\" >0.029444</td>\n",
              "      <td id=\"T_63033_row8_col7\" class=\"data row8 col7\" >0.401857</td>\n",
              "      <td id=\"T_63033_row8_col8\" class=\"data row8 col8\" >1.000000</td>\n",
              "      <td id=\"T_63033_row8_col9\" class=\"data row8 col9\" >0.045990</td>\n",
              "      <td id=\"T_63033_row8_col10\" class=\"data row8 col10\" >0.251321</td>\n",
              "      <td id=\"T_63033_row8_col11\" class=\"data row8 col11\" >0.167649</td>\n",
              "      <td id=\"T_63033_row8_col12\" class=\"data row8 col12\" >0.276947</td>\n",
              "      <td id=\"T_63033_row8_col13\" class=\"data row8 col13\" >-0.053440</td>\n",
              "      <td id=\"T_63033_row8_col14\" class=\"data row8 col14\" >0.103917</td>\n",
              "      <td id=\"T_63033_row8_col15\" class=\"data row8 col15\" >0.084827</td>\n",
              "      <td id=\"T_63033_row8_col16\" class=\"data row8 col16\" >0.006157</td>\n",
              "      <td id=\"T_63033_row8_col17\" class=\"data row8 col17\" >-0.078400</td>\n",
              "      <td id=\"T_63033_row8_col18\" class=\"data row8 col18\" >0.280439</td>\n",
              "      <td id=\"T_63033_row8_col19\" class=\"data row8 col19\" >0.072575</td>\n",
              "      <td id=\"T_63033_row8_col20\" class=\"data row8 col20\" >0.001364</td>\n",
              "      <td id=\"T_63033_row8_col21\" class=\"data row8 col21\" >-0.005638</td>\n",
              "      <td id=\"T_63033_row8_col22\" class=\"data row8 col22\" >0.011174</td>\n",
              "    </tr>\n",
              "    <tr>\n",
              "      <th id=\"T_63033_level0_row9\" class=\"row_heading level0 row9\" >condition</th>\n",
              "      <td id=\"T_63033_row9_col0\" class=\"data row9 col0\" >-0.023783</td>\n",
              "      <td id=\"T_63033_row9_col1\" class=\"data row9 col1\" >0.036362</td>\n",
              "      <td id=\"T_63033_row9_col2\" class=\"data row9 col2\" >0.028472</td>\n",
              "      <td id=\"T_63033_row9_col3\" class=\"data row9 col3\" >-0.124982</td>\n",
              "      <td id=\"T_63033_row9_col4\" class=\"data row9 col4\" >-0.058753</td>\n",
              "      <td id=\"T_63033_row9_col5\" class=\"data row9 col5\" >-0.008958</td>\n",
              "      <td id=\"T_63033_row9_col6\" class=\"data row9 col6\" >-0.263768</td>\n",
              "      <td id=\"T_63033_row9_col7\" class=\"data row9 col7\" >0.016653</td>\n",
              "      <td id=\"T_63033_row9_col8\" class=\"data row9 col8\" >0.045990</td>\n",
              "      <td id=\"T_63033_row9_col9\" class=\"data row9 col9\" >1.000000</td>\n",
              "      <td id=\"T_63033_row9_col10\" class=\"data row9 col10\" >-0.144674</td>\n",
              "      <td id=\"T_63033_row9_col11\" class=\"data row9 col11\" >-0.158214</td>\n",
              "      <td id=\"T_63033_row9_col12\" class=\"data row9 col12\" >0.174105</td>\n",
              "      <td id=\"T_63033_row9_col13\" class=\"data row9 col13\" >-0.361417</td>\n",
              "      <td id=\"T_63033_row9_col14\" class=\"data row9 col14\" >-0.060618</td>\n",
              "      <td id=\"T_63033_row9_col15\" class=\"data row9 col15\" >0.003026</td>\n",
              "      <td id=\"T_63033_row9_col16\" class=\"data row9 col16\" >-0.014941</td>\n",
              "      <td id=\"T_63033_row9_col17\" class=\"data row9 col17\" >-0.106500</td>\n",
              "      <td id=\"T_63033_row9_col18\" class=\"data row9 col18\" >-0.092824</td>\n",
              "      <td id=\"T_63033_row9_col19\" class=\"data row9 col19\" >-0.003406</td>\n",
              "      <td id=\"T_63033_row9_col20\" class=\"data row9 col20\" >-0.045589</td>\n",
              "      <td id=\"T_63033_row9_col21\" class=\"data row9 col21\" >0.021978</td>\n",
              "      <td id=\"T_63033_row9_col22\" class=\"data row9 col22\" >-0.004643</td>\n",
              "    </tr>\n",
              "    <tr>\n",
              "      <th id=\"T_63033_level0_row10\" class=\"row_heading level0 row10\" >grade</th>\n",
              "      <td id=\"T_63033_row10_col0\" class=\"data row10 col0\" >0.008130</td>\n",
              "      <td id=\"T_63033_row10_col1\" class=\"data row10 col1\" >0.667434</td>\n",
              "      <td id=\"T_63033_row10_col2\" class=\"data row10 col2\" >0.356967</td>\n",
              "      <td id=\"T_63033_row10_col3\" class=\"data row10 col3\" >0.664983</td>\n",
              "      <td id=\"T_63033_row10_col4\" class=\"data row10 col4\" >0.762704</td>\n",
              "      <td id=\"T_63033_row10_col5\" class=\"data row10 col5\" >0.113621</td>\n",
              "      <td id=\"T_63033_row10_col6\" class=\"data row10 col6\" >0.458183</td>\n",
              "      <td id=\"T_63033_row10_col7\" class=\"data row10 col7\" >0.082775</td>\n",
              "      <td id=\"T_63033_row10_col8\" class=\"data row10 col8\" >0.251321</td>\n",
              "      <td id=\"T_63033_row10_col9\" class=\"data row10 col9\" >-0.144674</td>\n",
              "      <td id=\"T_63033_row10_col10\" class=\"data row10 col10\" >1.000000</td>\n",
              "      <td id=\"T_63033_row10_col11\" class=\"data row10 col11\" >0.755923</td>\n",
              "      <td id=\"T_63033_row10_col12\" class=\"data row10 col12\" >0.168392</td>\n",
              "      <td id=\"T_63033_row10_col13\" class=\"data row10 col13\" >0.446963</td>\n",
              "      <td id=\"T_63033_row10_col14\" class=\"data row10 col14\" >0.014414</td>\n",
              "      <td id=\"T_63033_row10_col15\" class=\"data row10 col15\" >-0.184862</td>\n",
              "      <td id=\"T_63033_row10_col16\" class=\"data row10 col16\" >0.114084</td>\n",
              "      <td id=\"T_63033_row10_col17\" class=\"data row10 col17\" >0.198372</td>\n",
              "      <td id=\"T_63033_row10_col18\" class=\"data row10 col18\" >0.713202</td>\n",
              "      <td id=\"T_63033_row10_col19\" class=\"data row10 col19\" >0.119248</td>\n",
              "      <td id=\"T_63033_row10_col20\" class=\"data row10 col20\" >-0.030387</td>\n",
              "      <td id=\"T_63033_row10_col21\" class=\"data row10 col21\" >0.008376</td>\n",
              "      <td id=\"T_63033_row10_col22\" class=\"data row10 col22\" >-0.012483</td>\n",
              "    </tr>\n",
              "    <tr>\n",
              "      <th id=\"T_63033_level0_row11\" class=\"row_heading level0 row11\" >sqft_above</th>\n",
              "      <td id=\"T_63033_row11_col0\" class=\"data row11 col0\" >-0.010842</td>\n",
              "      <td id=\"T_63033_row11_col1\" class=\"data row11 col1\" >0.605567</td>\n",
              "      <td id=\"T_63033_row11_col2\" class=\"data row11 col2\" >0.477600</td>\n",
              "      <td id=\"T_63033_row11_col3\" class=\"data row11 col3\" >0.685342</td>\n",
              "      <td id=\"T_63033_row11_col4\" class=\"data row11 col4\" >0.876597</td>\n",
              "      <td id=\"T_63033_row11_col5\" class=\"data row11 col5\" >0.183512</td>\n",
              "      <td id=\"T_63033_row11_col6\" class=\"data row11 col6\" >0.523885</td>\n",
              "      <td id=\"T_63033_row11_col7\" class=\"data row11 col7\" >0.072075</td>\n",
              "      <td id=\"T_63033_row11_col8\" class=\"data row11 col8\" >0.167649</td>\n",
              "      <td id=\"T_63033_row11_col9\" class=\"data row11 col9\" >-0.158214</td>\n",
              "      <td id=\"T_63033_row11_col10\" class=\"data row11 col10\" >0.755923</td>\n",
              "      <td id=\"T_63033_row11_col11\" class=\"data row11 col11\" >1.000000</td>\n",
              "      <td id=\"T_63033_row11_col12\" class=\"data row11 col12\" >-0.051943</td>\n",
              "      <td id=\"T_63033_row11_col13\" class=\"data row11 col13\" >0.423898</td>\n",
              "      <td id=\"T_63033_row11_col14\" class=\"data row11 col14\" >0.023285</td>\n",
              "      <td id=\"T_63033_row11_col15\" class=\"data row11 col15\" >-0.261190</td>\n",
              "      <td id=\"T_63033_row11_col16\" class=\"data row11 col16\" >-0.000816</td>\n",
              "      <td id=\"T_63033_row11_col17\" class=\"data row11 col17\" >0.343803</td>\n",
              "      <td id=\"T_63033_row11_col18\" class=\"data row11 col18\" >0.731870</td>\n",
              "      <td id=\"T_63033_row11_col19\" class=\"data row11 col19\" >0.194050</td>\n",
              "      <td id=\"T_63033_row11_col20\" class=\"data row11 col20\" >-0.023823</td>\n",
              "      <td id=\"T_63033_row11_col21\" class=\"data row11 col21\" >0.009872</td>\n",
              "      <td id=\"T_63033_row11_col22\" class=\"data row11 col22\" >-0.002475</td>\n",
              "    </tr>\n",
              "    <tr>\n",
              "      <th id=\"T_63033_level0_row12\" class=\"row_heading level0 row12\" >sqft_basement</th>\n",
              "      <td id=\"T_63033_row12_col0\" class=\"data row12 col0\" >-0.005151</td>\n",
              "      <td id=\"T_63033_row12_col1\" class=\"data row12 col1\" >0.323816</td>\n",
              "      <td id=\"T_63033_row12_col2\" class=\"data row12 col2\" >0.303093</td>\n",
              "      <td id=\"T_63033_row12_col3\" class=\"data row12 col3\" >0.283770</td>\n",
              "      <td id=\"T_63033_row12_col4\" class=\"data row12 col4\" >0.435043</td>\n",
              "      <td id=\"T_63033_row12_col5\" class=\"data row12 col5\" >0.015286</td>\n",
              "      <td id=\"T_63033_row12_col6\" class=\"data row12 col6\" >-0.245705</td>\n",
              "      <td id=\"T_63033_row12_col7\" class=\"data row12 col7\" >0.080588</td>\n",
              "      <td id=\"T_63033_row12_col8\" class=\"data row12 col8\" >0.276947</td>\n",
              "      <td id=\"T_63033_row12_col9\" class=\"data row12 col9\" >0.174105</td>\n",
              "      <td id=\"T_63033_row12_col10\" class=\"data row12 col10\" >0.168392</td>\n",
              "      <td id=\"T_63033_row12_col11\" class=\"data row12 col11\" >-0.051943</td>\n",
              "      <td id=\"T_63033_row12_col12\" class=\"data row12 col12\" >1.000000</td>\n",
              "      <td id=\"T_63033_row12_col13\" class=\"data row12 col13\" >-0.133124</td>\n",
              "      <td id=\"T_63033_row12_col14\" class=\"data row12 col14\" >0.071323</td>\n",
              "      <td id=\"T_63033_row12_col15\" class=\"data row12 col15\" >0.074845</td>\n",
              "      <td id=\"T_63033_row12_col16\" class=\"data row12 col16\" >0.110538</td>\n",
              "      <td id=\"T_63033_row12_col17\" class=\"data row12 col17\" >-0.144765</td>\n",
              "      <td id=\"T_63033_row12_col18\" class=\"data row12 col18\" >0.200355</td>\n",
              "      <td id=\"T_63033_row12_col19\" class=\"data row12 col19\" >0.017276</td>\n",
              "      <td id=\"T_63033_row12_col20\" class=\"data row12 col20\" >-0.015687</td>\n",
              "      <td id=\"T_63033_row12_col21\" class=\"data row12 col21\" >0.006035</td>\n",
              "      <td id=\"T_63033_row12_col22\" class=\"data row12 col22\" >-0.010405</td>\n",
              "    </tr>\n",
              "    <tr>\n",
              "      <th id=\"T_63033_level0_row13\" class=\"row_heading level0 row13\" >yr_built</th>\n",
              "      <td id=\"T_63033_row13_col0\" class=\"data row13 col0\" >0.021380</td>\n",
              "      <td id=\"T_63033_row13_col1\" class=\"data row13 col1\" >0.054012</td>\n",
              "      <td id=\"T_63033_row13_col2\" class=\"data row13 col2\" >0.154178</td>\n",
              "      <td id=\"T_63033_row13_col3\" class=\"data row13 col3\" >0.506019</td>\n",
              "      <td id=\"T_63033_row13_col4\" class=\"data row13 col4\" >0.318049</td>\n",
              "      <td id=\"T_63033_row13_col5\" class=\"data row13 col5\" >0.053080</td>\n",
              "      <td id=\"T_63033_row13_col6\" class=\"data row13 col6\" >0.489319</td>\n",
              "      <td id=\"T_63033_row13_col7\" class=\"data row13 col7\" >-0.026161</td>\n",
              "      <td id=\"T_63033_row13_col8\" class=\"data row13 col8\" >-0.053440</td>\n",
              "      <td id=\"T_63033_row13_col9\" class=\"data row13 col9\" >-0.361417</td>\n",
              "      <td id=\"T_63033_row13_col10\" class=\"data row13 col10\" >0.446963</td>\n",
              "      <td id=\"T_63033_row13_col11\" class=\"data row13 col11\" >0.423898</td>\n",
              "      <td id=\"T_63033_row13_col12\" class=\"data row13 col12\" >-0.133124</td>\n",
              "      <td id=\"T_63033_row13_col13\" class=\"data row13 col13\" >1.000000</td>\n",
              "      <td id=\"T_63033_row13_col14\" class=\"data row13 col14\" >-0.224874</td>\n",
              "      <td id=\"T_63033_row13_col15\" class=\"data row13 col15\" >-0.346869</td>\n",
              "      <td id=\"T_63033_row13_col16\" class=\"data row13 col16\" >-0.148122</td>\n",
              "      <td id=\"T_63033_row13_col17\" class=\"data row13 col17\" >0.409356</td>\n",
              "      <td id=\"T_63033_row13_col18\" class=\"data row13 col18\" >0.326229</td>\n",
              "      <td id=\"T_63033_row13_col19\" class=\"data row13 col19\" >0.070958</td>\n",
              "      <td id=\"T_63033_row13_col20\" class=\"data row13 col20\" >0.003507</td>\n",
              "      <td id=\"T_63033_row13_col21\" class=\"data row13 col21\" >-0.006226</td>\n",
              "      <td id=\"T_63033_row13_col22\" class=\"data row13 col22\" >-0.005766</td>\n",
              "    </tr>\n",
              "    <tr>\n",
              "      <th id=\"T_63033_level0_row14\" class=\"row_heading level0 row14\" >yr_renovated</th>\n",
              "      <td id=\"T_63033_row14_col0\" class=\"data row14 col0\" >-0.016907</td>\n",
              "      <td id=\"T_63033_row14_col1\" class=\"data row14 col1\" >0.126434</td>\n",
              "      <td id=\"T_63033_row14_col2\" class=\"data row14 col2\" >0.018841</td>\n",
              "      <td id=\"T_63033_row14_col3\" class=\"data row14 col3\" >0.050739</td>\n",
              "      <td id=\"T_63033_row14_col4\" class=\"data row14 col4\" >0.055363</td>\n",
              "      <td id=\"T_63033_row14_col5\" class=\"data row14 col5\" >0.007644</td>\n",
              "      <td id=\"T_63033_row14_col6\" class=\"data row14 col6\" >0.006338</td>\n",
              "      <td id=\"T_63033_row14_col7\" class=\"data row14 col7\" >0.092885</td>\n",
              "      <td id=\"T_63033_row14_col8\" class=\"data row14 col8\" >0.103917</td>\n",
              "      <td id=\"T_63033_row14_col9\" class=\"data row14 col9\" >-0.060618</td>\n",
              "      <td id=\"T_63033_row14_col10\" class=\"data row14 col10\" >0.014414</td>\n",
              "      <td id=\"T_63033_row14_col11\" class=\"data row14 col11\" >0.023285</td>\n",
              "      <td id=\"T_63033_row14_col12\" class=\"data row14 col12\" >0.071323</td>\n",
              "      <td id=\"T_63033_row14_col13\" class=\"data row14 col13\" >-0.224874</td>\n",
              "      <td id=\"T_63033_row14_col14\" class=\"data row14 col14\" >1.000000</td>\n",
              "      <td id=\"T_63033_row14_col15\" class=\"data row14 col15\" >0.064357</td>\n",
              "      <td id=\"T_63033_row14_col16\" class=\"data row14 col16\" >0.029398</td>\n",
              "      <td id=\"T_63033_row14_col17\" class=\"data row14 col17\" >-0.068372</td>\n",
              "      <td id=\"T_63033_row14_col18\" class=\"data row14 col18\" >-0.002673</td>\n",
              "      <td id=\"T_63033_row14_col19\" class=\"data row14 col19\" >0.007854</td>\n",
              "      <td id=\"T_63033_row14_col20\" class=\"data row14 col20\" >-0.023707</td>\n",
              "      <td id=\"T_63033_row14_col21\" class=\"data row14 col21\" >0.012827</td>\n",
              "      <td id=\"T_63033_row14_col22\" class=\"data row14 col22\" >0.008127</td>\n",
              "    </tr>\n",
              "    <tr>\n",
              "      <th id=\"T_63033_level0_row15\" class=\"row_heading level0 row15\" >zipcode</th>\n",
              "      <td id=\"T_63033_row15_col0\" class=\"data row15 col0\" >-0.008224</td>\n",
              "      <td id=\"T_63033_row15_col1\" class=\"data row15 col1\" >-0.053203</td>\n",
              "      <td id=\"T_63033_row15_col2\" class=\"data row15 col2\" >-0.152668</td>\n",
              "      <td id=\"T_63033_row15_col3\" class=\"data row15 col3\" >-0.203866</td>\n",
              "      <td id=\"T_63033_row15_col4\" class=\"data row15 col4\" >-0.199430</td>\n",
              "      <td id=\"T_63033_row15_col5\" class=\"data row15 col5\" >-0.129574</td>\n",
              "      <td id=\"T_63033_row15_col6\" class=\"data row15 col6\" >-0.059121</td>\n",
              "      <td id=\"T_63033_row15_col7\" class=\"data row15 col7\" >0.030285</td>\n",
              "      <td id=\"T_63033_row15_col8\" class=\"data row15 col8\" >0.084827</td>\n",
              "      <td id=\"T_63033_row15_col9\" class=\"data row15 col9\" >0.003026</td>\n",
              "      <td id=\"T_63033_row15_col10\" class=\"data row15 col10\" >-0.184862</td>\n",
              "      <td id=\"T_63033_row15_col11\" class=\"data row15 col11\" >-0.261190</td>\n",
              "      <td id=\"T_63033_row15_col12\" class=\"data row15 col12\" >0.074845</td>\n",
              "      <td id=\"T_63033_row15_col13\" class=\"data row15 col13\" >-0.346869</td>\n",
              "      <td id=\"T_63033_row15_col14\" class=\"data row15 col14\" >0.064357</td>\n",
              "      <td id=\"T_63033_row15_col15\" class=\"data row15 col15\" >1.000000</td>\n",
              "      <td id=\"T_63033_row15_col16\" class=\"data row15 col16\" >0.267048</td>\n",
              "      <td id=\"T_63033_row15_col17\" class=\"data row15 col17\" >-0.564072</td>\n",
              "      <td id=\"T_63033_row15_col18\" class=\"data row15 col18\" >-0.279033</td>\n",
              "      <td id=\"T_63033_row15_col19\" class=\"data row15 col19\" >-0.147221</td>\n",
              "      <td id=\"T_63033_row15_col20\" class=\"data row15 col20\" >0.001189</td>\n",
              "      <td id=\"T_63033_row15_col21\" class=\"data row15 col21\" >-0.000171</td>\n",
              "      <td id=\"T_63033_row15_col22\" class=\"data row15 col22\" >-0.003270</td>\n",
              "    </tr>\n",
              "    <tr>\n",
              "      <th id=\"T_63033_level0_row16\" class=\"row_heading level0 row16\" >lat</th>\n",
              "      <td id=\"T_63033_row16_col0\" class=\"data row16 col0\" >-0.001891</td>\n",
              "      <td id=\"T_63033_row16_col1\" class=\"data row16 col1\" >0.307003</td>\n",
              "      <td id=\"T_63033_row16_col2\" class=\"data row16 col2\" >-0.008931</td>\n",
              "      <td id=\"T_63033_row16_col3\" class=\"data row16 col3\" >0.024573</td>\n",
              "      <td id=\"T_63033_row16_col4\" class=\"data row16 col4\" >0.052529</td>\n",
              "      <td id=\"T_63033_row16_col5\" class=\"data row16 col5\" >-0.085683</td>\n",
              "      <td id=\"T_63033_row16_col6\" class=\"data row16 col6\" >0.049614</td>\n",
              "      <td id=\"T_63033_row16_col7\" class=\"data row16 col7\" >-0.014274</td>\n",
              "      <td id=\"T_63033_row16_col8\" class=\"data row16 col8\" >0.006157</td>\n",
              "      <td id=\"T_63033_row16_col9\" class=\"data row16 col9\" >-0.014941</td>\n",
              "      <td id=\"T_63033_row16_col10\" class=\"data row16 col10\" >0.114084</td>\n",
              "      <td id=\"T_63033_row16_col11\" class=\"data row16 col11\" >-0.000816</td>\n",
              "      <td id=\"T_63033_row16_col12\" class=\"data row16 col12\" >0.110538</td>\n",
              "      <td id=\"T_63033_row16_col13\" class=\"data row16 col13\" >-0.148122</td>\n",
              "      <td id=\"T_63033_row16_col14\" class=\"data row16 col14\" >0.029398</td>\n",
              "      <td id=\"T_63033_row16_col15\" class=\"data row16 col15\" >0.267048</td>\n",
              "      <td id=\"T_63033_row16_col16\" class=\"data row16 col16\" >1.000000</td>\n",
              "      <td id=\"T_63033_row16_col17\" class=\"data row16 col17\" >-0.135512</td>\n",
              "      <td id=\"T_63033_row16_col18\" class=\"data row16 col18\" >0.048858</td>\n",
              "      <td id=\"T_63033_row16_col19\" class=\"data row16 col19\" >-0.086419</td>\n",
              "      <td id=\"T_63033_row16_col20\" class=\"data row16 col20\" >-0.029212</td>\n",
              "      <td id=\"T_63033_row16_col21\" class=\"data row16 col21\" >0.014961</td>\n",
              "      <td id=\"T_63033_row16_col22\" class=\"data row16 col22\" >-0.015655</td>\n",
              "    </tr>\n",
              "    <tr>\n",
              "      <th id=\"T_63033_level0_row17\" class=\"row_heading level0 row17\" >long</th>\n",
              "      <td id=\"T_63033_row17_col0\" class=\"data row17 col0\" >0.020799</td>\n",
              "      <td id=\"T_63033_row17_col1\" class=\"data row17 col1\" >0.021626</td>\n",
              "      <td id=\"T_63033_row17_col2\" class=\"data row17 col2\" >0.129473</td>\n",
              "      <td id=\"T_63033_row17_col3\" class=\"data row17 col3\" >0.223042</td>\n",
              "      <td id=\"T_63033_row17_col4\" class=\"data row17 col4\" >0.240223</td>\n",
              "      <td id=\"T_63033_row17_col5\" class=\"data row17 col5\" >0.229521</td>\n",
              "      <td id=\"T_63033_row17_col6\" class=\"data row17 col6\" >0.125419</td>\n",
              "      <td id=\"T_63033_row17_col7\" class=\"data row17 col7\" >-0.041910</td>\n",
              "      <td id=\"T_63033_row17_col8\" class=\"data row17 col8\" >-0.078400</td>\n",
              "      <td id=\"T_63033_row17_col9\" class=\"data row17 col9\" >-0.106500</td>\n",
              "      <td id=\"T_63033_row17_col10\" class=\"data row17 col10\" >0.198372</td>\n",
              "      <td id=\"T_63033_row17_col11\" class=\"data row17 col11\" >0.343803</td>\n",
              "      <td id=\"T_63033_row17_col12\" class=\"data row17 col12\" >-0.144765</td>\n",
              "      <td id=\"T_63033_row17_col13\" class=\"data row17 col13\" >0.409356</td>\n",
              "      <td id=\"T_63033_row17_col14\" class=\"data row17 col14\" >-0.068372</td>\n",
              "      <td id=\"T_63033_row17_col15\" class=\"data row17 col15\" >-0.564072</td>\n",
              "      <td id=\"T_63033_row17_col16\" class=\"data row17 col16\" >-0.135512</td>\n",
              "      <td id=\"T_63033_row17_col17\" class=\"data row17 col17\" >1.000000</td>\n",
              "      <td id=\"T_63033_row17_col18\" class=\"data row17 col18\" >0.334605</td>\n",
              "      <td id=\"T_63033_row17_col19\" class=\"data row17 col19\" >0.254451</td>\n",
              "      <td id=\"T_63033_row17_col20\" class=\"data row17 col20\" >0.000270</td>\n",
              "      <td id=\"T_63033_row17_col21\" class=\"data row17 col21\" >-0.008134</td>\n",
              "      <td id=\"T_63033_row17_col22\" class=\"data row17 col22\" >-0.007331</td>\n",
              "    </tr>\n",
              "    <tr>\n",
              "      <th id=\"T_63033_level0_row18\" class=\"row_heading level0 row18\" >sqft_living15</th>\n",
              "      <td id=\"T_63033_row18_col0\" class=\"data row18 col0\" >-0.002901</td>\n",
              "      <td id=\"T_63033_row18_col1\" class=\"data row18 col1\" >0.585379</td>\n",
              "      <td id=\"T_63033_row18_col2\" class=\"data row18 col2\" >0.391638</td>\n",
              "      <td id=\"T_63033_row18_col3\" class=\"data row18 col3\" >0.568634</td>\n",
              "      <td id=\"T_63033_row18_col4\" class=\"data row18 col4\" >0.756420</td>\n",
              "      <td id=\"T_63033_row18_col5\" class=\"data row18 col5\" >0.144608</td>\n",
              "      <td id=\"T_63033_row18_col6\" class=\"data row18 col6\" >0.279885</td>\n",
              "      <td id=\"T_63033_row18_col7\" class=\"data row18 col7\" >0.086463</td>\n",
              "      <td id=\"T_63033_row18_col8\" class=\"data row18 col8\" >0.280439</td>\n",
              "      <td id=\"T_63033_row18_col9\" class=\"data row18 col9\" >-0.092824</td>\n",
              "      <td id=\"T_63033_row18_col10\" class=\"data row18 col10\" >0.713202</td>\n",
              "      <td id=\"T_63033_row18_col11\" class=\"data row18 col11\" >0.731870</td>\n",
              "      <td id=\"T_63033_row18_col12\" class=\"data row18 col12\" >0.200355</td>\n",
              "      <td id=\"T_63033_row18_col13\" class=\"data row18 col13\" >0.326229</td>\n",
              "      <td id=\"T_63033_row18_col14\" class=\"data row18 col14\" >-0.002673</td>\n",
              "      <td id=\"T_63033_row18_col15\" class=\"data row18 col15\" >-0.279033</td>\n",
              "      <td id=\"T_63033_row18_col16\" class=\"data row18 col16\" >0.048858</td>\n",
              "      <td id=\"T_63033_row18_col17\" class=\"data row18 col17\" >0.334605</td>\n",
              "      <td id=\"T_63033_row18_col18\" class=\"data row18 col18\" >1.000000</td>\n",
              "      <td id=\"T_63033_row18_col19\" class=\"data row18 col19\" >0.183192</td>\n",
              "      <td id=\"T_63033_row18_col20\" class=\"data row18 col20\" >-0.021734</td>\n",
              "      <td id=\"T_63033_row18_col21\" class=\"data row18 col21\" >0.002449</td>\n",
              "      <td id=\"T_63033_row18_col22\" class=\"data row18 col22\" >-0.008539</td>\n",
              "    </tr>\n",
              "    <tr>\n",
              "      <th id=\"T_63033_level0_row19\" class=\"row_heading level0 row19\" >sqft_lot15</th>\n",
              "      <td id=\"T_63033_row19_col0\" class=\"data row19 col0\" >-0.138798</td>\n",
              "      <td id=\"T_63033_row19_col1\" class=\"data row19 col1\" >0.082447</td>\n",
              "      <td id=\"T_63033_row19_col2\" class=\"data row19 col2\" >0.029244</td>\n",
              "      <td id=\"T_63033_row19_col3\" class=\"data row19 col3\" >0.087175</td>\n",
              "      <td id=\"T_63033_row19_col4\" class=\"data row19 col4\" >0.183286</td>\n",
              "      <td id=\"T_63033_row19_col5\" class=\"data row19 col5\" >0.718557</td>\n",
              "      <td id=\"T_63033_row19_col6\" class=\"data row19 col6\" >-0.011269</td>\n",
              "      <td id=\"T_63033_row19_col7\" class=\"data row19 col7\" >0.030703</td>\n",
              "      <td id=\"T_63033_row19_col8\" class=\"data row19 col8\" >0.072575</td>\n",
              "      <td id=\"T_63033_row19_col9\" class=\"data row19 col9\" >-0.003406</td>\n",
              "      <td id=\"T_63033_row19_col10\" class=\"data row19 col10\" >0.119248</td>\n",
              "      <td id=\"T_63033_row19_col11\" class=\"data row19 col11\" >0.194050</td>\n",
              "      <td id=\"T_63033_row19_col12\" class=\"data row19 col12\" >0.017276</td>\n",
              "      <td id=\"T_63033_row19_col13\" class=\"data row19 col13\" >0.070958</td>\n",
              "      <td id=\"T_63033_row19_col14\" class=\"data row19 col14\" >0.007854</td>\n",
              "      <td id=\"T_63033_row19_col15\" class=\"data row19 col15\" >-0.147221</td>\n",
              "      <td id=\"T_63033_row19_col16\" class=\"data row19 col16\" >-0.086419</td>\n",
              "      <td id=\"T_63033_row19_col17\" class=\"data row19 col17\" >0.254451</td>\n",
              "      <td id=\"T_63033_row19_col18\" class=\"data row19 col18\" >0.183192</td>\n",
              "      <td id=\"T_63033_row19_col19\" class=\"data row19 col19\" >1.000000</td>\n",
              "      <td id=\"T_63033_row19_col20\" class=\"data row19 col20\" >-0.000085</td>\n",
              "      <td id=\"T_63033_row19_col21\" class=\"data row19 col21\" >0.003546</td>\n",
              "      <td id=\"T_63033_row19_col22\" class=\"data row19 col22\" >-0.002871</td>\n",
              "    </tr>\n",
              "    <tr>\n",
              "      <th id=\"T_63033_level0_row20\" class=\"row_heading level0 row20\" >date_year</th>\n",
              "      <td id=\"T_63033_row20_col0\" class=\"data row20 col0\" >0.010128</td>\n",
              "      <td id=\"T_63033_row20_col1\" class=\"data row20 col1\" >0.003576</td>\n",
              "      <td id=\"T_63033_row20_col2\" class=\"data row20 col2\" >-0.009838</td>\n",
              "      <td id=\"T_63033_row20_col3\" class=\"data row20 col3\" >-0.026596</td>\n",
              "      <td id=\"T_63033_row20_col4\" class=\"data row20 col4\" >-0.029038</td>\n",
              "      <td id=\"T_63033_row20_col5\" class=\"data row20 col5\" >0.005468</td>\n",
              "      <td id=\"T_63033_row20_col6\" class=\"data row20 col6\" >-0.022315</td>\n",
              "      <td id=\"T_63033_row20_col7\" class=\"data row20 col7\" >-0.004165</td>\n",
              "      <td id=\"T_63033_row20_col8\" class=\"data row20 col8\" >0.001364</td>\n",
              "      <td id=\"T_63033_row20_col9\" class=\"data row20 col9\" >-0.045589</td>\n",
              "      <td id=\"T_63033_row20_col10\" class=\"data row20 col10\" >-0.030387</td>\n",
              "      <td id=\"T_63033_row20_col11\" class=\"data row20 col11\" >-0.023823</td>\n",
              "      <td id=\"T_63033_row20_col12\" class=\"data row20 col12\" >-0.015687</td>\n",
              "      <td id=\"T_63033_row20_col13\" class=\"data row20 col13\" >0.003507</td>\n",
              "      <td id=\"T_63033_row20_col14\" class=\"data row20 col14\" >-0.023707</td>\n",
              "      <td id=\"T_63033_row20_col15\" class=\"data row20 col15\" >0.001189</td>\n",
              "      <td id=\"T_63033_row20_col16\" class=\"data row20 col16\" >-0.029212</td>\n",
              "      <td id=\"T_63033_row20_col17\" class=\"data row20 col17\" >0.000270</td>\n",
              "      <td id=\"T_63033_row20_col18\" class=\"data row20 col18\" >-0.021734</td>\n",
              "      <td id=\"T_63033_row20_col19\" class=\"data row20 col19\" >-0.000085</td>\n",
              "      <td id=\"T_63033_row20_col20\" class=\"data row20 col20\" >1.000000</td>\n",
              "      <td id=\"T_63033_row20_col21\" class=\"data row20 col21\" >-0.782389</td>\n",
              "      <td id=\"T_63033_row20_col22\" class=\"data row20 col22\" >-0.006103</td>\n",
              "    </tr>\n",
              "    <tr>\n",
              "      <th id=\"T_63033_level0_row21\" class=\"row_heading level0 row21\" >date_month</th>\n",
              "      <td id=\"T_63033_row21_col0\" class=\"data row21 col0\" >-0.011708</td>\n",
              "      <td id=\"T_63033_row21_col1\" class=\"data row21 col1\" >-0.010081</td>\n",
              "      <td id=\"T_63033_row21_col2\" class=\"data row21 col2\" >-0.001533</td>\n",
              "      <td id=\"T_63033_row21_col3\" class=\"data row21 col3\" >0.007392</td>\n",
              "      <td id=\"T_63033_row21_col4\" class=\"data row21 col4\" >0.011810</td>\n",
              "      <td id=\"T_63033_row21_col5\" class=\"data row21 col5\" >-0.002369</td>\n",
              "      <td id=\"T_63033_row21_col6\" class=\"data row21 col6\" >0.014005</td>\n",
              "      <td id=\"T_63033_row21_col7\" class=\"data row21 col7\" >0.008132</td>\n",
              "      <td id=\"T_63033_row21_col8\" class=\"data row21 col8\" >-0.005638</td>\n",
              "      <td id=\"T_63033_row21_col9\" class=\"data row21 col9\" >0.021978</td>\n",
              "      <td id=\"T_63033_row21_col10\" class=\"data row21 col10\" >0.008376</td>\n",
              "      <td id=\"T_63033_row21_col11\" class=\"data row21 col11\" >0.009872</td>\n",
              "      <td id=\"T_63033_row21_col12\" class=\"data row21 col12\" >0.006035</td>\n",
              "      <td id=\"T_63033_row21_col13\" class=\"data row21 col13\" >-0.006226</td>\n",
              "      <td id=\"T_63033_row21_col14\" class=\"data row21 col14\" >0.012827</td>\n",
              "      <td id=\"T_63033_row21_col15\" class=\"data row21 col15\" >-0.000171</td>\n",
              "      <td id=\"T_63033_row21_col16\" class=\"data row21 col16\" >0.014961</td>\n",
              "      <td id=\"T_63033_row21_col17\" class=\"data row21 col17\" >-0.008134</td>\n",
              "      <td id=\"T_63033_row21_col18\" class=\"data row21 col18\" >0.002449</td>\n",
              "      <td id=\"T_63033_row21_col19\" class=\"data row21 col19\" >0.003546</td>\n",
              "      <td id=\"T_63033_row21_col20\" class=\"data row21 col20\" >-0.782389</td>\n",
              "      <td id=\"T_63033_row21_col21\" class=\"data row21 col21\" >1.000000</td>\n",
              "      <td id=\"T_63033_row21_col22\" class=\"data row21 col22\" >-0.060664</td>\n",
              "    </tr>\n",
              "    <tr>\n",
              "      <th id=\"T_63033_level0_row22\" class=\"row_heading level0 row22\" >date_day</th>\n",
              "      <td id=\"T_63033_row22_col0\" class=\"data row22 col0\" >0.001939</td>\n",
              "      <td id=\"T_63033_row22_col1\" class=\"data row22 col1\" >-0.014670</td>\n",
              "      <td id=\"T_63033_row22_col2\" class=\"data row22 col2\" >-0.008031</td>\n",
              "      <td id=\"T_63033_row22_col3\" class=\"data row22 col3\" >-0.005304</td>\n",
              "      <td id=\"T_63033_row22_col4\" class=\"data row22 col4\" >-0.007246</td>\n",
              "      <td id=\"T_63033_row22_col5\" class=\"data row22 col5\" >0.000634</td>\n",
              "      <td id=\"T_63033_row22_col6\" class=\"data row22 col6\" >-0.006662</td>\n",
              "      <td id=\"T_63033_row22_col7\" class=\"data row22 col7\" >0.010518</td>\n",
              "      <td id=\"T_63033_row22_col8\" class=\"data row22 col8\" >0.011174</td>\n",
              "      <td id=\"T_63033_row22_col9\" class=\"data row22 col9\" >-0.004643</td>\n",
              "      <td id=\"T_63033_row22_col10\" class=\"data row22 col10\" >-0.012483</td>\n",
              "      <td id=\"T_63033_row22_col11\" class=\"data row22 col11\" >-0.002475</td>\n",
              "      <td id=\"T_63033_row22_col12\" class=\"data row22 col12\" >-0.010405</td>\n",
              "      <td id=\"T_63033_row22_col13\" class=\"data row22 col13\" >-0.005766</td>\n",
              "      <td id=\"T_63033_row22_col14\" class=\"data row22 col14\" >0.008127</td>\n",
              "      <td id=\"T_63033_row22_col15\" class=\"data row22 col15\" >-0.003270</td>\n",
              "      <td id=\"T_63033_row22_col16\" class=\"data row22 col16\" >-0.015655</td>\n",
              "      <td id=\"T_63033_row22_col17\" class=\"data row22 col17\" >-0.007331</td>\n",
              "      <td id=\"T_63033_row22_col18\" class=\"data row22 col18\" >-0.008539</td>\n",
              "      <td id=\"T_63033_row22_col19\" class=\"data row22 col19\" >-0.002871</td>\n",
              "      <td id=\"T_63033_row22_col20\" class=\"data row22 col20\" >-0.006103</td>\n",
              "      <td id=\"T_63033_row22_col21\" class=\"data row22 col21\" >-0.060664</td>\n",
              "      <td id=\"T_63033_row22_col22\" class=\"data row22 col22\" >1.000000</td>\n",
              "    </tr>\n",
              "  </tbody>\n",
              "</table>\n"
            ]
          },
          "metadata": {},
          "execution_count": 6
        }
      ],
      "source": [
        "(raw\n",
        " .to_pandas(use_pyarrow_extension_array=True)\n",
        " .corr()\n",
        " .style.background_gradient(cmap='RdBu', vmin=-1, vmax=1)\n",
        ")"
      ]
    },
    {
      "cell_type": "code",
      "execution_count": 7,
      "metadata": {
        "colab": {
          "base_uri": "https://localhost:8080/",
          "height": 465
        },
        "id": "z01Qni0Zri7z",
        "outputId": "b09ef442-ab59-4e1d-afd3-e598a9e4798d"
      },
      "outputs": [
        {
          "output_type": "display_data",
          "data": {
            "text/plain": [
              "<Figure size 640x480 with 1 Axes>"
            ],
            "image/png": "[encoded data removed]"
          },
          "metadata": {}
        }
      ],
      "source": [
        "_=(raw.to_pandas()\n",
        " .plot.scatter('sqft_living', 'price', alpha=0.1)\n",
        ")"
      ]
    },
    {
      "cell_type": "code",
      "source": [
        "raw.columns"
      ],
      "metadata": {
        "colab": {
          "base_uri": "https://localhost:8080/"
        },
        "id": "lvkgxv6sFZlt",
        "outputId": "adf1de28-3d53-4621-bc58-7d7f0ebc1119"
      },
      "execution_count": 8,
      "outputs": [
        {
          "output_type": "execute_result",
          "data": {
            "text/plain": [
              "['id',\n",
              " 'price',\n",
              " 'bedrooms',\n",
              " 'bathrooms',\n",
              " 'sqft_living',\n",
              " 'sqft_lot',\n",
              " 'floors',\n",
              " 'waterfront',\n",
              " 'view',\n",
              " 'condition',\n",
              " 'grade',\n",
              " 'sqft_above',\n",
              " 'sqft_basement',\n",
              " 'yr_built',\n",
              " 'yr_renovated',\n",
              " 'zipcode',\n",
              " 'lat',\n",
              " 'long',\n",
              " 'sqft_living15',\n",
              " 'sqft_lot15',\n",
              " 'date_year',\n",
              " 'date_month',\n",
              " 'date_day']"
            ]
          },
          "metadata": {},
          "execution_count": 8
        }
      ]
    },
    {
      "cell_type": "markdown",
      "metadata": {
        "id": "nPdZHl9pri71"
      },
      "source": [
        "\n",
        "## Data Preprocessing\n"
      ]
    },
    {
      "cell_type": "code",
      "execution_count": 13,
      "metadata": {
        "id": "TzNJHV6jri71",
        "colab": {
          "base_uri": "https://localhost:8080/",
          "height": 637
        },
        "outputId": "a2e25ed0-6683-4d1f-a770-40aef8c01d54"
      },
      "outputs": [
        {
          "output_type": "execute_result",
          "data": {
            "text/plain": [
              "shape: (21_613, 21)\n",
              "┌────────────┬──────────┬──────────┬───────────┬───┬──────────┬────────────┬───────────┬───────────┐\n",
              "│ id         ┆ price    ┆ bedrooms ┆ bathrooms ┆ … ┆ long     ┆ sqft_livin ┆ sqft_lot1 ┆ date      │\n",
              "│ ---        ┆ ---      ┆ ---      ┆ ---       ┆   ┆ ---      ┆ g15        ┆ 5         ┆ ---       │\n",
              "│ i64        ┆ f64      ┆ i64      ┆ f64       ┆   ┆ f64      ┆ ---        ┆ ---       ┆ date      │\n",
              "│            ┆          ┆          ┆           ┆   ┆          ┆ i64        ┆ i64       ┆           │\n",
              "╞════════════╪══════════╪══════════╪═══════════╪═══╪══════════╪════════════╪═══════════╪═══════════╡\n",
              "│ 7129300520 ┆ 221900.0 ┆ 3        ┆ 1.0       ┆ … ┆ -122.257 ┆ 1340       ┆ 5650      ┆ 2014-10-1 │\n",
              "│            ┆          ┆          ┆           ┆   ┆          ┆            ┆           ┆ 3         │\n",
              "│ 6414100192 ┆ 538000.0 ┆ 3        ┆ 2.25      ┆ … ┆ -122.319 ┆ 1690       ┆ 7639      ┆ 2014-12-0 │\n",
              "│            ┆          ┆          ┆           ┆   ┆          ┆            ┆           ┆ 9         │\n",
              "│ 5631500400 ┆ 180000.0 ┆ 2        ┆ 1.0       ┆ … ┆ -122.233 ┆ 2720       ┆ 8062      ┆ 2015-02-2 │\n",
              "│            ┆          ┆          ┆           ┆   ┆          ┆            ┆           ┆ 5         │\n",
              "│ 2487200875 ┆ 604000.0 ┆ 4        ┆ 3.0       ┆ … ┆ -122.393 ┆ 1360       ┆ 5000      ┆ 2014-12-0 │\n",
              "│            ┆          ┆          ┆           ┆   ┆          ┆            ┆           ┆ 9         │\n",
              "│ 1954400510 ┆ 510000.0 ┆ 3        ┆ 2.0       ┆ … ┆ -122.045 ┆ 1800       ┆ 7503      ┆ 2015-02-1 │\n",
              "│            ┆          ┆          ┆           ┆   ┆          ┆            ┆           ┆ 8         │\n",
              "│ …          ┆ …        ┆ …        ┆ …         ┆ … ┆ …        ┆ …          ┆ …         ┆ …         │\n",
              "│ 263000018  ┆ 360000.0 ┆ 3        ┆ 2.5       ┆ … ┆ -122.346 ┆ 1530       ┆ 1509      ┆ 2014-05-2 │\n",
              "│            ┆          ┆          ┆           ┆   ┆          ┆            ┆           ┆ 1         │\n",
              "│ 6600060120 ┆ 400000.0 ┆ 4        ┆ 2.5       ┆ … ┆ -122.362 ┆ 1830       ┆ 7200      ┆ 2015-02-2 │\n",
              "│            ┆          ┆          ┆           ┆   ┆          ┆            ┆           ┆ 3         │\n",
              "│ 1523300141 ┆ 402101.0 ┆ 2        ┆ 0.75      ┆ … ┆ -122.299 ┆ 1020       ┆ 2007      ┆ 2014-06-2 │\n",
              "│            ┆          ┆          ┆           ┆   ┆          ┆            ┆           ┆ 3         │\n",
              "│ 291310100  ┆ 400000.0 ┆ 3        ┆ 2.5       ┆ … ┆ -122.069 ┆ 1410       ┆ 1287      ┆ 2015-01-1 │\n",
              "│            ┆          ┆          ┆           ┆   ┆          ┆            ┆           ┆ 6         │\n",
              "│ 1523300157 ┆ 325000.0 ┆ 2        ┆ 0.75      ┆ … ┆ -122.299 ┆ 1020       ┆ 1357      ┆ 2014-10-1 │\n",
              "│            ┆          ┆          ┆           ┆   ┆          ┆            ┆           ┆ 5         │\n",
              "└────────────┴──────────┴──────────┴───────────┴───┴──────────┴────────────┴───────────┴───────────┘"
            ],
            "text/html": [
              "<div><style>\n",
              ".dataframe > thead > tr,\n",
              ".dataframe > tbody > tr {\n",
              "  text-align: right;\n",
              "  white-space: pre-wrap;\n",
              "}\n",
              "</style>\n",
              "<small>shape: (21_613, 21)</small><table border=\"1\" class=\"dataframe\"><thead><tr><th>id</th><th>price</th><th>bedrooms</th><th>bathrooms</th><th>sqft_living</th><th>sqft_lot</th><th>floors</th><th>waterfront</th><th>view</th><th>condition</th><th>grade</th><th>sqft_above</th><th>sqft_basement</th><th>yr_built</th><th>yr_renovated</th><th>zipcode</th><th>lat</th><th>long</th><th>sqft_living15</th><th>sqft_lot15</th><th>date</th></tr><tr><td>i64</td><td>f64</td><td>i64</td><td>f64</td><td>i64</td><td>i64</td><td>f64</td><td>i64</td><td>i64</td><td>i64</td><td>i64</td><td>i64</td><td>i64</td><td>i64</td><td>i64</td><td>cat</td><td>f64</td><td>f64</td><td>i64</td><td>i64</td><td>date</td></tr></thead><tbody><tr><td>7129300520</td><td>221900.0</td><td>3</td><td>1.0</td><td>1180</td><td>5650</td><td>1.0</td><td>0</td><td>0</td><td>3</td><td>7</td><td>1180</td><td>0</td><td>1955</td><td>null</td><td>&quot;98178&quot;</td><td>47.5112</td><td>-122.257</td><td>1340</td><td>5650</td><td>2014-10-13</td></tr><tr><td>6414100192</td><td>538000.0</td><td>3</td><td>2.25</td><td>2570</td><td>7242</td><td>2.0</td><td>0</td><td>0</td><td>3</td><td>7</td><td>2170</td><td>400</td><td>1951</td><td>1991</td><td>&quot;98125&quot;</td><td>47.721</td><td>-122.319</td><td>1690</td><td>7639</td><td>2014-12-09</td></tr><tr><td>5631500400</td><td>180000.0</td><td>2</td><td>1.0</td><td>770</td><td>10000</td><td>1.0</td><td>0</td><td>0</td><td>3</td><td>6</td><td>770</td><td>0</td><td>1933</td><td>null</td><td>&quot;98028&quot;</td><td>47.7379</td><td>-122.233</td><td>2720</td><td>8062</td><td>2015-02-25</td></tr><tr><td>2487200875</td><td>604000.0</td><td>4</td><td>3.0</td><td>1960</td><td>5000</td><td>1.0</td><td>0</td><td>0</td><td>5</td><td>7</td><td>1050</td><td>910</td><td>1965</td><td>null</td><td>&quot;98136&quot;</td><td>47.5208</td><td>-122.393</td><td>1360</td><td>5000</td><td>2014-12-09</td></tr><tr><td>1954400510</td><td>510000.0</td><td>3</td><td>2.0</td><td>1680</td><td>8080</td><td>1.0</td><td>0</td><td>0</td><td>3</td><td>8</td><td>1680</td><td>0</td><td>1987</td><td>null</td><td>&quot;98074&quot;</td><td>47.6168</td><td>-122.045</td><td>1800</td><td>7503</td><td>2015-02-18</td></tr><tr><td>&hellip;</td><td>&hellip;</td><td>&hellip;</td><td>&hellip;</td><td>&hellip;</td><td>&hellip;</td><td>&hellip;</td><td>&hellip;</td><td>&hellip;</td><td>&hellip;</td><td>&hellip;</td><td>&hellip;</td><td>&hellip;</td><td>&hellip;</td><td>&hellip;</td><td>&hellip;</td><td>&hellip;</td><td>&hellip;</td><td>&hellip;</td><td>&hellip;</td><td>&hellip;</td></tr><tr><td>263000018</td><td>360000.0</td><td>3</td><td>2.5</td><td>1530</td><td>1131</td><td>3.0</td><td>0</td><td>0</td><td>3</td><td>8</td><td>1530</td><td>0</td><td>2009</td><td>null</td><td>&quot;98103&quot;</td><td>47.6993</td><td>-122.346</td><td>1530</td><td>1509</td><td>2014-05-21</td></tr><tr><td>6600060120</td><td>400000.0</td><td>4</td><td>2.5</td><td>2310</td><td>5813</td><td>2.0</td><td>0</td><td>0</td><td>3</td><td>8</td><td>2310</td><td>0</td><td>2014</td><td>null</td><td>&quot;98146&quot;</td><td>47.5107</td><td>-122.362</td><td>1830</td><td>7200</td><td>2015-02-23</td></tr><tr><td>1523300141</td><td>402101.0</td><td>2</td><td>0.75</td><td>1020</td><td>1350</td><td>2.0</td><td>0</td><td>0</td><td>3</td><td>7</td><td>1020</td><td>0</td><td>2009</td><td>null</td><td>&quot;98144&quot;</td><td>47.5944</td><td>-122.299</td><td>1020</td><td>2007</td><td>2014-06-23</td></tr><tr><td>291310100</td><td>400000.0</td><td>3</td><td>2.5</td><td>1600</td><td>2388</td><td>2.0</td><td>0</td><td>0</td><td>3</td><td>8</td><td>1600</td><td>0</td><td>2004</td><td>null</td><td>&quot;98027&quot;</td><td>47.5345</td><td>-122.069</td><td>1410</td><td>1287</td><td>2015-01-16</td></tr><tr><td>1523300157</td><td>325000.0</td><td>2</td><td>0.75</td><td>1020</td><td>1076</td><td>2.0</td><td>0</td><td>0</td><td>3</td><td>7</td><td>1020</td><td>0</td><td>2008</td><td>null</td><td>&quot;98144&quot;</td><td>47.5941</td><td>-122.299</td><td>1020</td><td>1357</td><td>2014-10-15</td></tr></tbody></table></div>"
            ]
          },
          "metadata": {},
          "execution_count": 13
        }
      ],
      "source": [
        "def tweak_housing(df):\n",
        "    return (df\n",
        "            .with_columns(zipcode=pl.col('zipcode').cast(pl.String).cast(pl.Categorical),\n",
        "                          date=pl.date(pl.col('date_year'), pl.col('date_month'), pl.col('date_day')),\n",
        "                          yr_renovated=pl.col('yr_renovated').replace(0, None),\n",
        "                          )\n",
        "            .select(['id', 'price', 'bedrooms', 'bathrooms', 'sqft_living', 'sqft_lot', 'floors',\n",
        "                     'waterfront', 'view', 'condition', 'grade', 'sqft_above', 'sqft_basement',\n",
        "                     'yr_built', 'yr_renovated', 'zipcode', 'lat', 'long', 'sqft_living15',\n",
        "                     'sqft_lot15', 'date',  #'date_year', 'date_month', 'date_day',\n",
        "                     ])\n",
        "    )\n",
        "\n",
        "tweak_housing(raw)\n"
      ]
    },
    {
      "cell_type": "markdown",
      "metadata": {
        "id": "yl5KmzDMri71"
      },
      "source": [
        "\n",
        "## Sklearn Pipelines\n"
      ]
    },
    {
      "cell_type": "code",
      "execution_count": 15,
      "metadata": {
        "scrolled": true,
        "id": "q8c0v16Ori72"
      },
      "outputs": [],
      "source": [
        "# The difference between sklearn pipelines and transformers is\n",
        "# that a pipeline is a sequence of steps. A transformer transforms\n",
        "# the data, and a pipeline is a sequence of transformers.\n",
        "# A ColumnTransformer applies multiple transformers to different\n",
        "# columns of the input data.\n",
        "\n",
        "from sklearn.pipeline import Pipeline  #pipeline: seq. of transformer\n",
        "from sklearn.compose import ColumnTransformer  #apply preprocessing transformations to specific column\n",
        "from sklearn.preprocessing import StandardScaler, OneHotEncoder #StandardScaler: u=0, δ=1; OHE: categorical -> numerical\n",
        "from sklearn.impute import SimpleImputer #simpleimputer: fill in missing value\n",
        "from sklearn.model_selection import train_test_split #split dataset -> training & testing set\n",
        "from sklearn.preprocessing import FunctionTransformer # convert function -> transformer -> to stick to Pipeline\n",
        "from sklearn.base import BaseEstimator, TransformerMixin #custom transformer in SK-learn -> implement custom pre-processing/ feature transformations\n",
        "from sklearn import set_config\n",
        "set_config(transform_output='polars')"
      ]
    },
    {
      "cell_type": "code",
      "execution_count": 16,
      "metadata": {
        "id": "FFBqnlDbri72",
        "colab": {
          "base_uri": "https://localhost:8080/"
        },
        "outputId": "e7add173-2cc1-4bea-b2a1-1c3eecb1e01d"
      },
      "outputs": [
        {
          "output_type": "stream",
          "name": "stdout",
          "text": [
            "['id', 'price', 'bedrooms', 'bathrooms', 'sqft_living', 'sqft_lot', 'floors', 'waterfront', 'view', 'condition', 'grade', 'sqft_above', 'sqft_basement', 'yr_built', 'yr_renovated', 'lat', 'long', 'sqft_living15', 'sqft_lot15']\n"
          ]
        }
      ],
      "source": [
        "print(tweak_housing(raw).select(cs.numeric()).columns)"
      ]
    },
    {
      "cell_type": "code",
      "execution_count": 17,
      "metadata": {
        "collapsed": true,
        "jupyter": {
          "outputs_hidden": true
        },
        "scrolled": true,
        "id": "o9SYlvdnri72",
        "colab": {
          "base_uri": "https://localhost:8080/",
          "height": 443
        },
        "outputId": "79910982-6662-4edd-d5da-96e129415f5c"
      },
      "outputs": [
        {
          "output_type": "execute_result",
          "data": {
            "text/plain": [
              "shape: (21_613, 3)\n",
              "┌───────────┬───────────┬─────────────┐\n",
              "│ bedrooms  ┆ bathrooms ┆ sqft_living │\n",
              "│ ---       ┆ ---       ┆ ---         │\n",
              "│ f64       ┆ f64       ┆ f64         │\n",
              "╞═══════════╪═══════════╪═════════════╡\n",
              "│ -0.398737 ┆ -1.447464 ┆ -0.979835   │\n",
              "│ -0.398737 ┆ 0.175607  ┆ 0.533634    │\n",
              "│ -1.473959 ┆ -1.447464 ┆ -1.426254   │\n",
              "│ 0.676485  ┆ 1.149449  ┆ -0.13055    │\n",
              "│ -0.398737 ┆ -0.149007 ┆ -0.435422   │\n",
              "│ …         ┆ …         ┆ …           │\n",
              "│ -0.398737 ┆ 0.500221  ┆ -0.598746   │\n",
              "│ 0.676485  ┆ 0.500221  ┆ 0.250539    │\n",
              "│ -1.473959 ┆ -1.772078 ┆ -1.154047   │\n",
              "│ -0.398737 ┆ 0.500221  ┆ -0.522528   │\n",
              "│ -1.473959 ┆ -1.772078 ┆ -1.154047   │\n",
              "└───────────┴───────────┴─────────────┘"
            ],
            "text/html": [
              "<div><style>\n",
              ".dataframe > thead > tr,\n",
              ".dataframe > tbody > tr {\n",
              "  text-align: right;\n",
              "  white-space: pre-wrap;\n",
              "}\n",
              "</style>\n",
              "<small>shape: (21_613, 3)</small><table border=\"1\" class=\"dataframe\"><thead><tr><th>bedrooms</th><th>bathrooms</th><th>sqft_living</th></tr><tr><td>f64</td><td>f64</td><td>f64</td></tr></thead><tbody><tr><td>-0.398737</td><td>-1.447464</td><td>-0.979835</td></tr><tr><td>-0.398737</td><td>0.175607</td><td>0.533634</td></tr><tr><td>-1.473959</td><td>-1.447464</td><td>-1.426254</td></tr><tr><td>0.676485</td><td>1.149449</td><td>-0.13055</td></tr><tr><td>-0.398737</td><td>-0.149007</td><td>-0.435422</td></tr><tr><td>&hellip;</td><td>&hellip;</td><td>&hellip;</td></tr><tr><td>-0.398737</td><td>0.500221</td><td>-0.598746</td></tr><tr><td>0.676485</td><td>0.500221</td><td>0.250539</td></tr><tr><td>-1.473959</td><td>-1.772078</td><td>-1.154047</td></tr><tr><td>-0.398737</td><td>0.500221</td><td>-0.522528</td></tr><tr><td>-1.473959</td><td>-1.772078</td><td>-1.154047</td></tr></tbody></table></div>"
            ]
          },
          "metadata": {},
          "execution_count": 17
        }
      ],
      "source": [
        "# for equal consideration of ML-Model\n",
        "numeric_features = ['bedrooms', 'bathrooms', 'sqft_living']\n",
        "std = StandardScaler()\n",
        "std.fit_transform(tweak_housing(raw).select(numeric_features)) #fit: calc. u & δm;  transform: changes/alters the val"
      ]
    },
    {
      "cell_type": "code",
      "execution_count": 20,
      "metadata": {
        "collapsed": true,
        "jupyter": {
          "outputs_hidden": true
        },
        "id": "PESKp0yJri73",
        "colab": {
          "base_uri": "https://localhost:8080/",
          "height": 443
        },
        "outputId": "e82a258c-de5b-42cd-bf3e-f4533e192308"
      },
      "outputs": [
        {
          "output_type": "execute_result",
          "data": {
            "text/plain": [
              "shape: (21_613, 3)\n",
              "┌───────────┬───────────┬─────────────┐\n",
              "│ bedrooms  ┆ bathrooms ┆ sqft_living │\n",
              "│ ---       ┆ ---       ┆ ---         │\n",
              "│ f64       ┆ f64       ┆ f64         │\n",
              "╞═══════════╪═══════════╪═════════════╡\n",
              "│ -0.398737 ┆ -1.447464 ┆ -0.979835   │\n",
              "│ -0.398737 ┆ 0.175607  ┆ 0.533634    │\n",
              "│ -1.473959 ┆ -1.447464 ┆ -1.426254   │\n",
              "│ 0.676485  ┆ 1.149449  ┆ -0.13055    │\n",
              "│ -0.398737 ┆ -0.149007 ┆ -0.435422   │\n",
              "│ …         ┆ …         ┆ …           │\n",
              "│ -0.398737 ┆ 0.500221  ┆ -0.598746   │\n",
              "│ 0.676485  ┆ 0.500221  ┆ 0.250539    │\n",
              "│ -1.473959 ┆ -1.772078 ┆ -1.154047   │\n",
              "│ -0.398737 ┆ 0.500221  ┆ -0.522528   │\n",
              "│ -1.473959 ┆ -1.772078 ┆ -1.154047   │\n",
              "└───────────┴───────────┴─────────────┘"
            ],
            "text/html": [
              "<div><style>\n",
              ".dataframe > thead > tr,\n",
              ".dataframe > tbody > tr {\n",
              "  text-align: right;\n",
              "  white-space: pre-wrap;\n",
              "}\n",
              "</style>\n",
              "<small>shape: (21_613, 3)</small><table border=\"1\" class=\"dataframe\"><thead><tr><th>bedrooms</th><th>bathrooms</th><th>sqft_living</th></tr><tr><td>f64</td><td>f64</td><td>f64</td></tr></thead><tbody><tr><td>-0.398737</td><td>-1.447464</td><td>-0.979835</td></tr><tr><td>-0.398737</td><td>0.175607</td><td>0.533634</td></tr><tr><td>-1.473959</td><td>-1.447464</td><td>-1.426254</td></tr><tr><td>0.676485</td><td>1.149449</td><td>-0.13055</td></tr><tr><td>-0.398737</td><td>-0.149007</td><td>-0.435422</td></tr><tr><td>&hellip;</td><td>&hellip;</td><td>&hellip;</td></tr><tr><td>-0.398737</td><td>0.500221</td><td>-0.598746</td></tr><tr><td>0.676485</td><td>0.500221</td><td>0.250539</td></tr><tr><td>-1.473959</td><td>-1.772078</td><td>-1.154047</td></tr><tr><td>-0.398737</td><td>0.500221</td><td>-0.522528</td></tr><tr><td>-1.473959</td><td>-1.772078</td><td>-1.154047</td></tr></tbody></table></div>"
            ]
          },
          "metadata": {},
          "execution_count": 20
        }
      ],
      "source": [
        "#Pipeline: to automate repeated task for multiple-steps ML process\n",
        "numeric_features = ['bedrooms', 'bathrooms', 'sqft_living']\n",
        "\n",
        "num_pipeline = Pipeline([\n",
        "     ('std', StandardScaler())])\n",
        "\n",
        "num_pipeline.fit_transform(\n",
        "    tweak_housing(raw)\n",
        "    .select(numeric_features)\n",
        ")"
      ]
    },
    {
      "cell_type": "code",
      "execution_count": 21,
      "metadata": {
        "collapsed": true,
        "jupyter": {
          "outputs_hidden": true
        },
        "scrolled": true,
        "id": "P-D68frMri73",
        "colab": {
          "base_uri": "https://localhost:8080/",
          "height": 443
        },
        "outputId": "2a7aab57-587d-46e2-fc86-716a60a9c18e"
      },
      "outputs": [
        {
          "output_type": "execute_result",
          "data": {
            "text/plain": [
              "shape: (21_613, 3)\n",
              "┌───────────┬───────────┬─────────────┐\n",
              "│ bedrooms  ┆ bathrooms ┆ sqft_living │\n",
              "│ ---       ┆ ---       ┆ ---         │\n",
              "│ f64       ┆ f64       ┆ f64         │\n",
              "╞═══════════╪═══════════╪═════════════╡\n",
              "│ -0.398737 ┆ -1.447464 ┆ -0.979835   │\n",
              "│ -0.398737 ┆ 0.175607  ┆ 0.533634    │\n",
              "│ -1.473959 ┆ -1.447464 ┆ -1.426254   │\n",
              "│ 0.676485  ┆ 1.149449  ┆ -0.13055    │\n",
              "│ -0.398737 ┆ -0.149007 ┆ -0.435422   │\n",
              "│ …         ┆ …         ┆ …           │\n",
              "│ -0.398737 ┆ 0.500221  ┆ -0.598746   │\n",
              "│ 0.676485  ┆ 0.500221  ┆ 0.250539    │\n",
              "│ -1.473959 ┆ -1.772078 ┆ -1.154047   │\n",
              "│ -0.398737 ┆ 0.500221  ┆ -0.522528   │\n",
              "│ -1.473959 ┆ -1.772078 ┆ -1.154047   │\n",
              "└───────────┴───────────┴─────────────┘"
            ],
            "text/html": [
              "<div><style>\n",
              ".dataframe > thead > tr,\n",
              ".dataframe > tbody > tr {\n",
              "  text-align: right;\n",
              "  white-space: pre-wrap;\n",
              "}\n",
              "</style>\n",
              "<small>shape: (21_613, 3)</small><table border=\"1\" class=\"dataframe\"><thead><tr><th>bedrooms</th><th>bathrooms</th><th>sqft_living</th></tr><tr><td>f64</td><td>f64</td><td>f64</td></tr></thead><tbody><tr><td>-0.398737</td><td>-1.447464</td><td>-0.979835</td></tr><tr><td>-0.398737</td><td>0.175607</td><td>0.533634</td></tr><tr><td>-1.473959</td><td>-1.447464</td><td>-1.426254</td></tr><tr><td>0.676485</td><td>1.149449</td><td>-0.13055</td></tr><tr><td>-0.398737</td><td>-0.149007</td><td>-0.435422</td></tr><tr><td>&hellip;</td><td>&hellip;</td><td>&hellip;</td></tr><tr><td>-0.398737</td><td>0.500221</td><td>-0.598746</td></tr><tr><td>0.676485</td><td>0.500221</td><td>0.250539</td></tr><tr><td>-1.473959</td><td>-1.772078</td><td>-1.154047</td></tr><tr><td>-0.398737</td><td>0.500221</td><td>-0.522528</td></tr><tr><td>-1.473959</td><td>-1.772078</td><td>-1.154047</td></tr></tbody></table></div>"
            ]
          },
          "metadata": {},
          "execution_count": 21
        }
      ],
      "source": [
        "# simple imputer: if a value is missing add 'median' - value\n",
        "numeric_features = ['bedrooms', 'bathrooms', 'sqft_living']\n",
        "\n",
        "num_pipeline = Pipeline([\n",
        "    ('imputer', SimpleImputer(strategy='median')),\n",
        "    ('std', StandardScaler())])\n",
        "\n",
        "num_pipeline.fit_transform(\n",
        "    tweak_housing(raw)\n",
        "    .select(numeric_features)\n",
        ")"
      ]
    },
    {
      "cell_type": "code",
      "execution_count": 28,
      "metadata": {
        "scrolled": true,
        "id": "Hjlg4YThri73",
        "colab": {
          "base_uri": "https://localhost:8080/",
          "height": 463
        },
        "outputId": "bd97a2c9-7f7f-4696-b63f-4866a37d9e35"
      },
      "outputs": [
        {
          "output_type": "execute_result",
          "data": {
            "text/plain": [
              "shape: (21_613, 70)\n",
              "┌───────────┬───────────┬───────────┬───────────┬───┬───────────┬───────────┬───────────┬──────────┐\n",
              "│ zipcode_9 ┆ zipcode_9 ┆ zipcode_9 ┆ zipcode_9 ┆ … ┆ zipcode_9 ┆ zipcode_9 ┆ zipcode_9 ┆ zipcode_ │\n",
              "│ 8001      ┆ 8002      ┆ 8003      ┆ 8004      ┆   ┆ 8178      ┆ 8188      ┆ 8198      ┆ 98199    │\n",
              "│ ---       ┆ ---       ┆ ---       ┆ ---       ┆   ┆ ---       ┆ ---       ┆ ---       ┆ ---      │\n",
              "│ f64       ┆ f64       ┆ f64       ┆ f64       ┆   ┆ f64       ┆ f64       ┆ f64       ┆ f64      │\n",
              "╞═══════════╪═══════════╪═══════════╪═══════════╪═══╪═══════════╪═══════════╪═══════════╪══════════╡\n",
              "│ 0.0       ┆ 0.0       ┆ 0.0       ┆ 0.0       ┆ … ┆ 1.0       ┆ 0.0       ┆ 0.0       ┆ 0.0      │\n",
              "│ 0.0       ┆ 0.0       ┆ 0.0       ┆ 0.0       ┆ … ┆ 0.0       ┆ 0.0       ┆ 0.0       ┆ 0.0      │\n",
              "│ 0.0       ┆ 0.0       ┆ 0.0       ┆ 0.0       ┆ … ┆ 0.0       ┆ 0.0       ┆ 0.0       ┆ 0.0      │\n",
              "│ 0.0       ┆ 0.0       ┆ 0.0       ┆ 0.0       ┆ … ┆ 0.0       ┆ 0.0       ┆ 0.0       ┆ 0.0      │\n",
              "│ 0.0       ┆ 0.0       ┆ 0.0       ┆ 0.0       ┆ … ┆ 0.0       ┆ 0.0       ┆ 0.0       ┆ 0.0      │\n",
              "│ …         ┆ …         ┆ …         ┆ …         ┆ … ┆ …         ┆ …         ┆ …         ┆ …        │\n",
              "│ 0.0       ┆ 0.0       ┆ 0.0       ┆ 0.0       ┆ … ┆ 0.0       ┆ 0.0       ┆ 0.0       ┆ 0.0      │\n",
              "│ 0.0       ┆ 0.0       ┆ 0.0       ┆ 0.0       ┆ … ┆ 0.0       ┆ 0.0       ┆ 0.0       ┆ 0.0      │\n",
              "│ 0.0       ┆ 0.0       ┆ 0.0       ┆ 0.0       ┆ … ┆ 0.0       ┆ 0.0       ┆ 0.0       ┆ 0.0      │\n",
              "│ 0.0       ┆ 0.0       ┆ 0.0       ┆ 0.0       ┆ … ┆ 0.0       ┆ 0.0       ┆ 0.0       ┆ 0.0      │\n",
              "│ 0.0       ┆ 0.0       ┆ 0.0       ┆ 0.0       ┆ … ┆ 0.0       ┆ 0.0       ┆ 0.0       ┆ 0.0      │\n",
              "└───────────┴───────────┴───────────┴───────────┴───┴───────────┴───────────┴───────────┴──────────┘"
            ],
            "text/html": [
              "<div><style>\n",
              ".dataframe > thead > tr,\n",
              ".dataframe > tbody > tr {\n",
              "  text-align: right;\n",
              "  white-space: pre-wrap;\n",
              "}\n",
              "</style>\n",
              "<small>shape: (21_613, 70)</small><table border=\"1\" class=\"dataframe\"><thead><tr><th>zipcode_98001</th><th>zipcode_98002</th><th>zipcode_98003</th><th>zipcode_98004</th><th>zipcode_98005</th><th>zipcode_98006</th><th>zipcode_98007</th><th>zipcode_98008</th><th>zipcode_98010</th><th>zipcode_98011</th><th>zipcode_98014</th><th>zipcode_98019</th><th>zipcode_98022</th><th>zipcode_98023</th><th>zipcode_98024</th><th>zipcode_98027</th><th>zipcode_98028</th><th>zipcode_98029</th><th>zipcode_98030</th><th>zipcode_98031</th><th>zipcode_98032</th><th>zipcode_98033</th><th>zipcode_98034</th><th>zipcode_98038</th><th>zipcode_98039</th><th>zipcode_98040</th><th>zipcode_98042</th><th>zipcode_98045</th><th>zipcode_98052</th><th>zipcode_98053</th><th>zipcode_98055</th><th>zipcode_98056</th><th>zipcode_98058</th><th>zipcode_98059</th><th>zipcode_98065</th><th>zipcode_98070</th><th>zipcode_98072</th><th>zipcode_98074</th><th>zipcode_98075</th><th>zipcode_98077</th><th>zipcode_98092</th><th>zipcode_98102</th><th>zipcode_98103</th><th>zipcode_98105</th><th>zipcode_98106</th><th>zipcode_98107</th><th>zipcode_98108</th><th>zipcode_98109</th><th>zipcode_98112</th><th>zipcode_98115</th><th>zipcode_98116</th><th>zipcode_98117</th><th>zipcode_98118</th><th>zipcode_98119</th><th>zipcode_98122</th><th>zipcode_98125</th><th>zipcode_98126</th><th>zipcode_98133</th><th>zipcode_98136</th><th>zipcode_98144</th><th>zipcode_98146</th><th>zipcode_98148</th><th>zipcode_98155</th><th>zipcode_98166</th><th>zipcode_98168</th><th>zipcode_98177</th><th>zipcode_98178</th><th>zipcode_98188</th><th>zipcode_98198</th><th>zipcode_98199</th></tr><tr><td>f64</td><td>f64</td><td>f64</td><td>f64</td><td>f64</td><td>f64</td><td>f64</td><td>f64</td><td>f64</td><td>f64</td><td>f64</td><td>f64</td><td>f64</td><td>f64</td><td>f64</td><td>f64</td><td>f64</td><td>f64</td><td>f64</td><td>f64</td><td>f64</td><td>f64</td><td>f64</td><td>f64</td><td>f64</td><td>f64</td><td>f64</td><td>f64</td><td>f64</td><td>f64</td><td>f64</td><td>f64</td><td>f64</td><td>f64</td><td>f64</td><td>f64</td><td>f64</td><td>f64</td><td>f64</td><td>f64</td><td>f64</td><td>f64</td><td>f64</td><td>f64</td><td>f64</td><td>f64</td><td>f64</td><td>f64</td><td>f64</td><td>f64</td><td>f64</td><td>f64</td><td>f64</td><td>f64</td><td>f64</td><td>f64</td><td>f64</td><td>f64</td><td>f64</td><td>f64</td><td>f64</td><td>f64</td><td>f64</td><td>f64</td><td>f64</td><td>f64</td><td>f64</td><td>f64</td><td>f64</td><td>f64</td></tr></thead><tbody><tr><td>0.0</td><td>0.0</td><td>0.0</td><td>0.0</td><td>0.0</td><td>0.0</td><td>0.0</td><td>0.0</td><td>0.0</td><td>0.0</td><td>0.0</td><td>0.0</td><td>0.0</td><td>0.0</td><td>0.0</td><td>0.0</td><td>0.0</td><td>0.0</td><td>0.0</td><td>0.0</td><td>0.0</td><td>0.0</td><td>0.0</td><td>0.0</td><td>0.0</td><td>0.0</td><td>0.0</td><td>0.0</td><td>0.0</td><td>0.0</td><td>0.0</td><td>0.0</td><td>0.0</td><td>0.0</td><td>0.0</td><td>0.0</td><td>0.0</td><td>0.0</td><td>0.0</td><td>0.0</td><td>0.0</td><td>0.0</td><td>0.0</td><td>0.0</td><td>0.0</td><td>0.0</td><td>0.0</td><td>0.0</td><td>0.0</td><td>0.0</td><td>0.0</td><td>0.0</td><td>0.0</td><td>0.0</td><td>0.0</td><td>0.0</td><td>0.0</td><td>0.0</td><td>0.0</td><td>0.0</td><td>0.0</td><td>0.0</td><td>0.0</td><td>0.0</td><td>0.0</td><td>0.0</td><td>1.0</td><td>0.0</td><td>0.0</td><td>0.0</td></tr><tr><td>0.0</td><td>0.0</td><td>0.0</td><td>0.0</td><td>0.0</td><td>0.0</td><td>0.0</td><td>0.0</td><td>0.0</td><td>0.0</td><td>0.0</td><td>0.0</td><td>0.0</td><td>0.0</td><td>0.0</td><td>0.0</td><td>0.0</td><td>0.0</td><td>0.0</td><td>0.0</td><td>0.0</td><td>0.0</td><td>0.0</td><td>0.0</td><td>0.0</td><td>0.0</td><td>0.0</td><td>0.0</td><td>0.0</td><td>0.0</td><td>0.0</td><td>0.0</td><td>0.0</td><td>0.0</td><td>0.0</td><td>0.0</td><td>0.0</td><td>0.0</td><td>0.0</td><td>0.0</td><td>0.0</td><td>0.0</td><td>0.0</td><td>0.0</td><td>0.0</td><td>0.0</td><td>0.0</td><td>0.0</td><td>0.0</td><td>0.0</td><td>0.0</td><td>0.0</td><td>0.0</td><td>0.0</td><td>0.0</td><td>1.0</td><td>0.0</td><td>0.0</td><td>0.0</td><td>0.0</td><td>0.0</td><td>0.0</td><td>0.0</td><td>0.0</td><td>0.0</td><td>0.0</td><td>0.0</td><td>0.0</td><td>0.0</td><td>0.0</td></tr><tr><td>0.0</td><td>0.0</td><td>0.0</td><td>0.0</td><td>0.0</td><td>0.0</td><td>0.0</td><td>0.0</td><td>0.0</td><td>0.0</td><td>0.0</td><td>0.0</td><td>0.0</td><td>0.0</td><td>0.0</td><td>0.0</td><td>1.0</td><td>0.0</td><td>0.0</td><td>0.0</td><td>0.0</td><td>0.0</td><td>0.0</td><td>0.0</td><td>0.0</td><td>0.0</td><td>0.0</td><td>0.0</td><td>0.0</td><td>0.0</td><td>0.0</td><td>0.0</td><td>0.0</td><td>0.0</td><td>0.0</td><td>0.0</td><td>0.0</td><td>0.0</td><td>0.0</td><td>0.0</td><td>0.0</td><td>0.0</td><td>0.0</td><td>0.0</td><td>0.0</td><td>0.0</td><td>0.0</td><td>0.0</td><td>0.0</td><td>0.0</td><td>0.0</td><td>0.0</td><td>0.0</td><td>0.0</td><td>0.0</td><td>0.0</td><td>0.0</td><td>0.0</td><td>0.0</td><td>0.0</td><td>0.0</td><td>0.0</td><td>0.0</td><td>0.0</td><td>0.0</td><td>0.0</td><td>0.0</td><td>0.0</td><td>0.0</td><td>0.0</td></tr><tr><td>0.0</td><td>0.0</td><td>0.0</td><td>0.0</td><td>0.0</td><td>0.0</td><td>0.0</td><td>0.0</td><td>0.0</td><td>0.0</td><td>0.0</td><td>0.0</td><td>0.0</td><td>0.0</td><td>0.0</td><td>0.0</td><td>0.0</td><td>0.0</td><td>0.0</td><td>0.0</td><td>0.0</td><td>0.0</td><td>0.0</td><td>0.0</td><td>0.0</td><td>0.0</td><td>0.0</td><td>0.0</td><td>0.0</td><td>0.0</td><td>0.0</td><td>0.0</td><td>0.0</td><td>0.0</td><td>0.0</td><td>0.0</td><td>0.0</td><td>0.0</td><td>0.0</td><td>0.0</td><td>0.0</td><td>0.0</td><td>0.0</td><td>0.0</td><td>0.0</td><td>0.0</td><td>0.0</td><td>0.0</td><td>0.0</td><td>0.0</td><td>0.0</td><td>0.0</td><td>0.0</td><td>0.0</td><td>0.0</td><td>0.0</td><td>0.0</td><td>0.0</td><td>1.0</td><td>0.0</td><td>0.0</td><td>0.0</td><td>0.0</td><td>0.0</td><td>0.0</td><td>0.0</td><td>0.0</td><td>0.0</td><td>0.0</td><td>0.0</td></tr><tr><td>0.0</td><td>0.0</td><td>0.0</td><td>0.0</td><td>0.0</td><td>0.0</td><td>0.0</td><td>0.0</td><td>0.0</td><td>0.0</td><td>0.0</td><td>0.0</td><td>0.0</td><td>0.0</td><td>0.0</td><td>0.0</td><td>0.0</td><td>0.0</td><td>0.0</td><td>0.0</td><td>0.0</td><td>0.0</td><td>0.0</td><td>0.0</td><td>0.0</td><td>0.0</td><td>0.0</td><td>0.0</td><td>0.0</td><td>0.0</td><td>0.0</td><td>0.0</td><td>0.0</td><td>0.0</td><td>0.0</td><td>0.0</td><td>0.0</td><td>1.0</td><td>0.0</td><td>0.0</td><td>0.0</td><td>0.0</td><td>0.0</td><td>0.0</td><td>0.0</td><td>0.0</td><td>0.0</td><td>0.0</td><td>0.0</td><td>0.0</td><td>0.0</td><td>0.0</td><td>0.0</td><td>0.0</td><td>0.0</td><td>0.0</td><td>0.0</td><td>0.0</td><td>0.0</td><td>0.0</td><td>0.0</td><td>0.0</td><td>0.0</td><td>0.0</td><td>0.0</td><td>0.0</td><td>0.0</td><td>0.0</td><td>0.0</td><td>0.0</td></tr><tr><td>&hellip;</td><td>&hellip;</td><td>&hellip;</td><td>&hellip;</td><td>&hellip;</td><td>&hellip;</td><td>&hellip;</td><td>&hellip;</td><td>&hellip;</td><td>&hellip;</td><td>&hellip;</td><td>&hellip;</td><td>&hellip;</td><td>&hellip;</td><td>&hellip;</td><td>&hellip;</td><td>&hellip;</td><td>&hellip;</td><td>&hellip;</td><td>&hellip;</td><td>&hellip;</td><td>&hellip;</td><td>&hellip;</td><td>&hellip;</td><td>&hellip;</td><td>&hellip;</td><td>&hellip;</td><td>&hellip;</td><td>&hellip;</td><td>&hellip;</td><td>&hellip;</td><td>&hellip;</td><td>&hellip;</td><td>&hellip;</td><td>&hellip;</td><td>&hellip;</td><td>&hellip;</td><td>&hellip;</td><td>&hellip;</td><td>&hellip;</td><td>&hellip;</td><td>&hellip;</td><td>&hellip;</td><td>&hellip;</td><td>&hellip;</td><td>&hellip;</td><td>&hellip;</td><td>&hellip;</td><td>&hellip;</td><td>&hellip;</td><td>&hellip;</td><td>&hellip;</td><td>&hellip;</td><td>&hellip;</td><td>&hellip;</td><td>&hellip;</td><td>&hellip;</td><td>&hellip;</td><td>&hellip;</td><td>&hellip;</td><td>&hellip;</td><td>&hellip;</td><td>&hellip;</td><td>&hellip;</td><td>&hellip;</td><td>&hellip;</td><td>&hellip;</td><td>&hellip;</td><td>&hellip;</td><td>&hellip;</td></tr><tr><td>0.0</td><td>0.0</td><td>0.0</td><td>0.0</td><td>0.0</td><td>0.0</td><td>0.0</td><td>0.0</td><td>0.0</td><td>0.0</td><td>0.0</td><td>0.0</td><td>0.0</td><td>0.0</td><td>0.0</td><td>0.0</td><td>0.0</td><td>0.0</td><td>0.0</td><td>0.0</td><td>0.0</td><td>0.0</td><td>0.0</td><td>0.0</td><td>0.0</td><td>0.0</td><td>0.0</td><td>0.0</td><td>0.0</td><td>0.0</td><td>0.0</td><td>0.0</td><td>0.0</td><td>0.0</td><td>0.0</td><td>0.0</td><td>0.0</td><td>0.0</td><td>0.0</td><td>0.0</td><td>0.0</td><td>0.0</td><td>1.0</td><td>0.0</td><td>0.0</td><td>0.0</td><td>0.0</td><td>0.0</td><td>0.0</td><td>0.0</td><td>0.0</td><td>0.0</td><td>0.0</td><td>0.0</td><td>0.0</td><td>0.0</td><td>0.0</td><td>0.0</td><td>0.0</td><td>0.0</td><td>0.0</td><td>0.0</td><td>0.0</td><td>0.0</td><td>0.0</td><td>0.0</td><td>0.0</td><td>0.0</td><td>0.0</td><td>0.0</td></tr><tr><td>0.0</td><td>0.0</td><td>0.0</td><td>0.0</td><td>0.0</td><td>0.0</td><td>0.0</td><td>0.0</td><td>0.0</td><td>0.0</td><td>0.0</td><td>0.0</td><td>0.0</td><td>0.0</td><td>0.0</td><td>0.0</td><td>0.0</td><td>0.0</td><td>0.0</td><td>0.0</td><td>0.0</td><td>0.0</td><td>0.0</td><td>0.0</td><td>0.0</td><td>0.0</td><td>0.0</td><td>0.0</td><td>0.0</td><td>0.0</td><td>0.0</td><td>0.0</td><td>0.0</td><td>0.0</td><td>0.0</td><td>0.0</td><td>0.0</td><td>0.0</td><td>0.0</td><td>0.0</td><td>0.0</td><td>0.0</td><td>0.0</td><td>0.0</td><td>0.0</td><td>0.0</td><td>0.0</td><td>0.0</td><td>0.0</td><td>0.0</td><td>0.0</td><td>0.0</td><td>0.0</td><td>0.0</td><td>0.0</td><td>0.0</td><td>0.0</td><td>0.0</td><td>0.0</td><td>0.0</td><td>1.0</td><td>0.0</td><td>0.0</td><td>0.0</td><td>0.0</td><td>0.0</td><td>0.0</td><td>0.0</td><td>0.0</td><td>0.0</td></tr><tr><td>0.0</td><td>0.0</td><td>0.0</td><td>0.0</td><td>0.0</td><td>0.0</td><td>0.0</td><td>0.0</td><td>0.0</td><td>0.0</td><td>0.0</td><td>0.0</td><td>0.0</td><td>0.0</td><td>0.0</td><td>0.0</td><td>0.0</td><td>0.0</td><td>0.0</td><td>0.0</td><td>0.0</td><td>0.0</td><td>0.0</td><td>0.0</td><td>0.0</td><td>0.0</td><td>0.0</td><td>0.0</td><td>0.0</td><td>0.0</td><td>0.0</td><td>0.0</td><td>0.0</td><td>0.0</td><td>0.0</td><td>0.0</td><td>0.0</td><td>0.0</td><td>0.0</td><td>0.0</td><td>0.0</td><td>0.0</td><td>0.0</td><td>0.0</td><td>0.0</td><td>0.0</td><td>0.0</td><td>0.0</td><td>0.0</td><td>0.0</td><td>0.0</td><td>0.0</td><td>0.0</td><td>0.0</td><td>0.0</td><td>0.0</td><td>0.0</td><td>0.0</td><td>0.0</td><td>1.0</td><td>0.0</td><td>0.0</td><td>0.0</td><td>0.0</td><td>0.0</td><td>0.0</td><td>0.0</td><td>0.0</td><td>0.0</td><td>0.0</td></tr><tr><td>0.0</td><td>0.0</td><td>0.0</td><td>0.0</td><td>0.0</td><td>0.0</td><td>0.0</td><td>0.0</td><td>0.0</td><td>0.0</td><td>0.0</td><td>0.0</td><td>0.0</td><td>0.0</td><td>0.0</td><td>1.0</td><td>0.0</td><td>0.0</td><td>0.0</td><td>0.0</td><td>0.0</td><td>0.0</td><td>0.0</td><td>0.0</td><td>0.0</td><td>0.0</td><td>0.0</td><td>0.0</td><td>0.0</td><td>0.0</td><td>0.0</td><td>0.0</td><td>0.0</td><td>0.0</td><td>0.0</td><td>0.0</td><td>0.0</td><td>0.0</td><td>0.0</td><td>0.0</td><td>0.0</td><td>0.0</td><td>0.0</td><td>0.0</td><td>0.0</td><td>0.0</td><td>0.0</td><td>0.0</td><td>0.0</td><td>0.0</td><td>0.0</td><td>0.0</td><td>0.0</td><td>0.0</td><td>0.0</td><td>0.0</td><td>0.0</td><td>0.0</td><td>0.0</td><td>0.0</td><td>0.0</td><td>0.0</td><td>0.0</td><td>0.0</td><td>0.0</td><td>0.0</td><td>0.0</td><td>0.0</td><td>0.0</td><td>0.0</td></tr><tr><td>0.0</td><td>0.0</td><td>0.0</td><td>0.0</td><td>0.0</td><td>0.0</td><td>0.0</td><td>0.0</td><td>0.0</td><td>0.0</td><td>0.0</td><td>0.0</td><td>0.0</td><td>0.0</td><td>0.0</td><td>0.0</td><td>0.0</td><td>0.0</td><td>0.0</td><td>0.0</td><td>0.0</td><td>0.0</td><td>0.0</td><td>0.0</td><td>0.0</td><td>0.0</td><td>0.0</td><td>0.0</td><td>0.0</td><td>0.0</td><td>0.0</td><td>0.0</td><td>0.0</td><td>0.0</td><td>0.0</td><td>0.0</td><td>0.0</td><td>0.0</td><td>0.0</td><td>0.0</td><td>0.0</td><td>0.0</td><td>0.0</td><td>0.0</td><td>0.0</td><td>0.0</td><td>0.0</td><td>0.0</td><td>0.0</td><td>0.0</td><td>0.0</td><td>0.0</td><td>0.0</td><td>0.0</td><td>0.0</td><td>0.0</td><td>0.0</td><td>0.0</td><td>0.0</td><td>1.0</td><td>0.0</td><td>0.0</td><td>0.0</td><td>0.0</td><td>0.0</td><td>0.0</td><td>0.0</td><td>0.0</td><td>0.0</td><td>0.0</td></tr></tbody></table></div>"
            ]
          },
          "metadata": {},
          "execution_count": 28
        }
      ],
      "source": [
        "# OHE: categorical -> numerical, unknown_categories: False, to handle unknown catergory\n",
        "cat_features = ['zipcode']\n",
        "\n",
        "ohe = OneHotEncoder(handle_unknown='ignore',\n",
        "                    sparse_output=False)\n",
        "\n",
        "ohe.fit_transform(tweak_housing(raw).select(cat_features)\n",
        ")"
      ]
    },
    {
      "cell_type": "code",
      "execution_count": 31,
      "metadata": {
        "collapsed": true,
        "jupyter": {
          "outputs_hidden": true
        },
        "id": "nV5BQRNUri74",
        "colab": {
          "base_uri": "https://localhost:8080/",
          "height": 463
        },
        "outputId": "1610250d-91ed-4257-ebee-dd84fd8d33ed"
      },
      "outputs": [
        {
          "output_type": "execute_result",
          "data": {
            "text/plain": [
              "shape: (21_613, 10)\n",
              "┌───────────┬───────────┬───────────┬───────────┬───┬───────────┬───────────┬───────────┬──────────┐\n",
              "│ zipcode_9 ┆ zipcode_9 ┆ zipcode_9 ┆ zipcode_9 ┆ … ┆ zipcode_9 ┆ zipcode_9 ┆ zipcode_9 ┆ zipcode_ │\n",
              "│ 8023      ┆ 8034      ┆ 8038      ┆ 8042      ┆   ┆ 8115      ┆ 8117      ┆ 8118      ┆ infreque │\n",
              "│ ---       ┆ ---       ┆ ---       ┆ ---       ┆   ┆ ---       ┆ ---       ┆ ---       ┆ nt_sklea │\n",
              "│ f64       ┆ f64       ┆ f64       ┆ f64       ┆   ┆ f64       ┆ f64       ┆ f64       ┆ rn       │\n",
              "│           ┆           ┆           ┆           ┆   ┆           ┆           ┆           ┆ ---      │\n",
              "│           ┆           ┆           ┆           ┆   ┆           ┆           ┆           ┆ f64      │\n",
              "╞═══════════╪═══════════╪═══════════╪═══════════╪═══╪═══════════╪═══════════╪═══════════╪══════════╡\n",
              "│ 0.0       ┆ 0.0       ┆ 0.0       ┆ 0.0       ┆ … ┆ 0.0       ┆ 0.0       ┆ 0.0       ┆ 1.0      │\n",
              "│ 0.0       ┆ 0.0       ┆ 0.0       ┆ 0.0       ┆ … ┆ 0.0       ┆ 0.0       ┆ 0.0       ┆ 1.0      │\n",
              "│ 0.0       ┆ 0.0       ┆ 0.0       ┆ 0.0       ┆ … ┆ 0.0       ┆ 0.0       ┆ 0.0       ┆ 1.0      │\n",
              "│ 0.0       ┆ 0.0       ┆ 0.0       ┆ 0.0       ┆ … ┆ 0.0       ┆ 0.0       ┆ 0.0       ┆ 1.0      │\n",
              "│ 0.0       ┆ 0.0       ┆ 0.0       ┆ 0.0       ┆ … ┆ 0.0       ┆ 0.0       ┆ 0.0       ┆ 1.0      │\n",
              "│ …         ┆ …         ┆ …         ┆ …         ┆ … ┆ …         ┆ …         ┆ …         ┆ …        │\n",
              "│ 0.0       ┆ 0.0       ┆ 0.0       ┆ 0.0       ┆ … ┆ 0.0       ┆ 0.0       ┆ 0.0       ┆ 0.0      │\n",
              "│ 0.0       ┆ 0.0       ┆ 0.0       ┆ 0.0       ┆ … ┆ 0.0       ┆ 0.0       ┆ 0.0       ┆ 1.0      │\n",
              "│ 0.0       ┆ 0.0       ┆ 0.0       ┆ 0.0       ┆ … ┆ 0.0       ┆ 0.0       ┆ 0.0       ┆ 1.0      │\n",
              "│ 0.0       ┆ 0.0       ┆ 0.0       ┆ 0.0       ┆ … ┆ 0.0       ┆ 0.0       ┆ 0.0       ┆ 1.0      │\n",
              "│ 0.0       ┆ 0.0       ┆ 0.0       ┆ 0.0       ┆ … ┆ 0.0       ┆ 0.0       ┆ 0.0       ┆ 1.0      │\n",
              "└───────────┴───────────┴───────────┴───────────┴───┴───────────┴───────────┴───────────┴──────────┘"
            ],
            "text/html": [
              "<div><style>\n",
              ".dataframe > thead > tr,\n",
              ".dataframe > tbody > tr {\n",
              "  text-align: right;\n",
              "  white-space: pre-wrap;\n",
              "}\n",
              "</style>\n",
              "<small>shape: (21_613, 10)</small><table border=\"1\" class=\"dataframe\"><thead><tr><th>zipcode_98023</th><th>zipcode_98034</th><th>zipcode_98038</th><th>zipcode_98042</th><th>zipcode_98052</th><th>zipcode_98103</th><th>zipcode_98115</th><th>zipcode_98117</th><th>zipcode_98118</th><th>zipcode_infrequent_sklearn</th></tr><tr><td>f64</td><td>f64</td><td>f64</td><td>f64</td><td>f64</td><td>f64</td><td>f64</td><td>f64</td><td>f64</td><td>f64</td></tr></thead><tbody><tr><td>0.0</td><td>0.0</td><td>0.0</td><td>0.0</td><td>0.0</td><td>0.0</td><td>0.0</td><td>0.0</td><td>0.0</td><td>1.0</td></tr><tr><td>0.0</td><td>0.0</td><td>0.0</td><td>0.0</td><td>0.0</td><td>0.0</td><td>0.0</td><td>0.0</td><td>0.0</td><td>1.0</td></tr><tr><td>0.0</td><td>0.0</td><td>0.0</td><td>0.0</td><td>0.0</td><td>0.0</td><td>0.0</td><td>0.0</td><td>0.0</td><td>1.0</td></tr><tr><td>0.0</td><td>0.0</td><td>0.0</td><td>0.0</td><td>0.0</td><td>0.0</td><td>0.0</td><td>0.0</td><td>0.0</td><td>1.0</td></tr><tr><td>0.0</td><td>0.0</td><td>0.0</td><td>0.0</td><td>0.0</td><td>0.0</td><td>0.0</td><td>0.0</td><td>0.0</td><td>1.0</td></tr><tr><td>&hellip;</td><td>&hellip;</td><td>&hellip;</td><td>&hellip;</td><td>&hellip;</td><td>&hellip;</td><td>&hellip;</td><td>&hellip;</td><td>&hellip;</td><td>&hellip;</td></tr><tr><td>0.0</td><td>0.0</td><td>0.0</td><td>0.0</td><td>0.0</td><td>1.0</td><td>0.0</td><td>0.0</td><td>0.0</td><td>0.0</td></tr><tr><td>0.0</td><td>0.0</td><td>0.0</td><td>0.0</td><td>0.0</td><td>0.0</td><td>0.0</td><td>0.0</td><td>0.0</td><td>1.0</td></tr><tr><td>0.0</td><td>0.0</td><td>0.0</td><td>0.0</td><td>0.0</td><td>0.0</td><td>0.0</td><td>0.0</td><td>0.0</td><td>1.0</td></tr><tr><td>0.0</td><td>0.0</td><td>0.0</td><td>0.0</td><td>0.0</td><td>0.0</td><td>0.0</td><td>0.0</td><td>0.0</td><td>1.0</td></tr><tr><td>0.0</td><td>0.0</td><td>0.0</td><td>0.0</td><td>0.0</td><td>0.0</td><td>0.0</td><td>0.0</td><td>0.0</td><td>1.0</td></tr></tbody></table></div>"
            ]
          },
          "metadata": {},
          "execution_count": 31
        }
      ],
      "source": [
        "#select max categories\n",
        "cat_features = ['zipcode']\n",
        "\n",
        "ohe = OneHotEncoder(handle_unknown='ignore',\n",
        "                    sparse_output=False, max_categories=10)\n",
        "\n",
        "ohe.fit_transform(\n",
        "    tweak_housing(raw)\n",
        "    .select(cat_features)\n",
        ")"
      ]
    },
    {
      "cell_type": "code",
      "execution_count": 32,
      "metadata": {
        "scrolled": true,
        "id": "4FwS51RUri74",
        "colab": {
          "base_uri": "https://localhost:8080/",
          "height": 463
        },
        "outputId": "69dd2652-872e-449a-d566-e815cb653ad8"
      },
      "outputs": [
        {
          "output_type": "execute_result",
          "data": {
            "text/plain": [
              "shape: (21_613, 10)\n",
              "┌───────────┬───────────┬───────────┬───────────┬───┬───────────┬───────────┬───────────┬──────────┐\n",
              "│ zipcode_9 ┆ zipcode_9 ┆ zipcode_9 ┆ zipcode_9 ┆ … ┆ zipcode_9 ┆ zipcode_9 ┆ zipcode_9 ┆ zipcode_ │\n",
              "│ 8023      ┆ 8034      ┆ 8038      ┆ 8042      ┆   ┆ 8115      ┆ 8117      ┆ 8118      ┆ infreque │\n",
              "│ ---       ┆ ---       ┆ ---       ┆ ---       ┆   ┆ ---       ┆ ---       ┆ ---       ┆ nt_sklea │\n",
              "│ f64       ┆ f64       ┆ f64       ┆ f64       ┆   ┆ f64       ┆ f64       ┆ f64       ┆ rn       │\n",
              "│           ┆           ┆           ┆           ┆   ┆           ┆           ┆           ┆ ---      │\n",
              "│           ┆           ┆           ┆           ┆   ┆           ┆           ┆           ┆ f64      │\n",
              "╞═══════════╪═══════════╪═══════════╪═══════════╪═══╪═══════════╪═══════════╪═══════════╪══════════╡\n",
              "│ 0.0       ┆ 0.0       ┆ 0.0       ┆ 0.0       ┆ … ┆ 0.0       ┆ 0.0       ┆ 0.0       ┆ 1.0      │\n",
              "│ 0.0       ┆ 0.0       ┆ 0.0       ┆ 0.0       ┆ … ┆ 0.0       ┆ 0.0       ┆ 0.0       ┆ 1.0      │\n",
              "│ 0.0       ┆ 0.0       ┆ 0.0       ┆ 0.0       ┆ … ┆ 0.0       ┆ 0.0       ┆ 0.0       ┆ 1.0      │\n",
              "│ 0.0       ┆ 0.0       ┆ 0.0       ┆ 0.0       ┆ … ┆ 0.0       ┆ 0.0       ┆ 0.0       ┆ 1.0      │\n",
              "│ 0.0       ┆ 0.0       ┆ 0.0       ┆ 0.0       ┆ … ┆ 0.0       ┆ 0.0       ┆ 0.0       ┆ 1.0      │\n",
              "│ …         ┆ …         ┆ …         ┆ …         ┆ … ┆ …         ┆ …         ┆ …         ┆ …        │\n",
              "│ 0.0       ┆ 0.0       ┆ 0.0       ┆ 0.0       ┆ … ┆ 0.0       ┆ 0.0       ┆ 0.0       ┆ 0.0      │\n",
              "│ 0.0       ┆ 0.0       ┆ 0.0       ┆ 0.0       ┆ … ┆ 0.0       ┆ 0.0       ┆ 0.0       ┆ 1.0      │\n",
              "│ 0.0       ┆ 0.0       ┆ 0.0       ┆ 0.0       ┆ … ┆ 0.0       ┆ 0.0       ┆ 0.0       ┆ 1.0      │\n",
              "│ 0.0       ┆ 0.0       ┆ 0.0       ┆ 0.0       ┆ … ┆ 0.0       ┆ 0.0       ┆ 0.0       ┆ 1.0      │\n",
              "│ 0.0       ┆ 0.0       ┆ 0.0       ┆ 0.0       ┆ … ┆ 0.0       ┆ 0.0       ┆ 0.0       ┆ 1.0      │\n",
              "└───────────┴───────────┴───────────┴───────────┴───┴───────────┴───────────┴───────────┴──────────┘"
            ],
            "text/html": [
              "<div><style>\n",
              ".dataframe > thead > tr,\n",
              ".dataframe > tbody > tr {\n",
              "  text-align: right;\n",
              "  white-space: pre-wrap;\n",
              "}\n",
              "</style>\n",
              "<small>shape: (21_613, 10)</small><table border=\"1\" class=\"dataframe\"><thead><tr><th>zipcode_98023</th><th>zipcode_98034</th><th>zipcode_98038</th><th>zipcode_98042</th><th>zipcode_98052</th><th>zipcode_98103</th><th>zipcode_98115</th><th>zipcode_98117</th><th>zipcode_98118</th><th>zipcode_infrequent_sklearn</th></tr><tr><td>f64</td><td>f64</td><td>f64</td><td>f64</td><td>f64</td><td>f64</td><td>f64</td><td>f64</td><td>f64</td><td>f64</td></tr></thead><tbody><tr><td>0.0</td><td>0.0</td><td>0.0</td><td>0.0</td><td>0.0</td><td>0.0</td><td>0.0</td><td>0.0</td><td>0.0</td><td>1.0</td></tr><tr><td>0.0</td><td>0.0</td><td>0.0</td><td>0.0</td><td>0.0</td><td>0.0</td><td>0.0</td><td>0.0</td><td>0.0</td><td>1.0</td></tr><tr><td>0.0</td><td>0.0</td><td>0.0</td><td>0.0</td><td>0.0</td><td>0.0</td><td>0.0</td><td>0.0</td><td>0.0</td><td>1.0</td></tr><tr><td>0.0</td><td>0.0</td><td>0.0</td><td>0.0</td><td>0.0</td><td>0.0</td><td>0.0</td><td>0.0</td><td>0.0</td><td>1.0</td></tr><tr><td>0.0</td><td>0.0</td><td>0.0</td><td>0.0</td><td>0.0</td><td>0.0</td><td>0.0</td><td>0.0</td><td>0.0</td><td>1.0</td></tr><tr><td>&hellip;</td><td>&hellip;</td><td>&hellip;</td><td>&hellip;</td><td>&hellip;</td><td>&hellip;</td><td>&hellip;</td><td>&hellip;</td><td>&hellip;</td><td>&hellip;</td></tr><tr><td>0.0</td><td>0.0</td><td>0.0</td><td>0.0</td><td>0.0</td><td>1.0</td><td>0.0</td><td>0.0</td><td>0.0</td><td>0.0</td></tr><tr><td>0.0</td><td>0.0</td><td>0.0</td><td>0.0</td><td>0.0</td><td>0.0</td><td>0.0</td><td>0.0</td><td>0.0</td><td>1.0</td></tr><tr><td>0.0</td><td>0.0</td><td>0.0</td><td>0.0</td><td>0.0</td><td>0.0</td><td>0.0</td><td>0.0</td><td>0.0</td><td>1.0</td></tr><tr><td>0.0</td><td>0.0</td><td>0.0</td><td>0.0</td><td>0.0</td><td>0.0</td><td>0.0</td><td>0.0</td><td>0.0</td><td>1.0</td></tr><tr><td>0.0</td><td>0.0</td><td>0.0</td><td>0.0</td><td>0.0</td><td>0.0</td><td>0.0</td><td>0.0</td><td>0.0</td><td>1.0</td></tr></tbody></table></div>"
            ]
          },
          "metadata": {},
          "execution_count": 32
        }
      ],
      "source": [
        "cat_features = ['zipcode']\n",
        "\n",
        "cat_pipeline = Pipeline(steps=[\n",
        "    ('cat', OneHotEncoder(handle_unknown='ignore', sparse_output=False))])\n",
        "\n",
        "cat_pipeline.set_params(cat__max_categories=10)\n",
        "cat_pipeline.fit_transform(\n",
        "    tweak_housing(raw)\n",
        "    .select(cat_features)\n",
        ")"
      ]
    },
    {
      "cell_type": "code",
      "execution_count": 33,
      "metadata": {
        "id": "d0Rn7GK6ri74",
        "colab": {
          "base_uri": "https://localhost:8080/",
          "height": 637
        },
        "outputId": "069cda3b-6f24-440b-db9c-d1339e9f2fad"
      },
      "outputs": [
        {
          "output_type": "execute_result",
          "data": {
            "text/plain": [
              "shape: (21_613, 21)\n",
              "┌────────────┬──────────┬──────────┬───────────┬───┬──────────┬────────────┬───────────┬───────────┐\n",
              "│ id         ┆ price    ┆ bedrooms ┆ bathrooms ┆ … ┆ long     ┆ sqft_livin ┆ sqft_lot1 ┆ date      │\n",
              "│ ---        ┆ ---      ┆ ---      ┆ ---       ┆   ┆ ---      ┆ g15        ┆ 5         ┆ ---       │\n",
              "│ i64        ┆ f64      ┆ i64      ┆ f64       ┆   ┆ f64      ┆ ---        ┆ ---       ┆ date      │\n",
              "│            ┆          ┆          ┆           ┆   ┆          ┆ i64        ┆ i64       ┆           │\n",
              "╞════════════╪══════════╪══════════╪═══════════╪═══╪══════════╪════════════╪═══════════╪═══════════╡\n",
              "│ 7129300520 ┆ 221900.0 ┆ 3        ┆ 1.0       ┆ … ┆ -122.257 ┆ 1340       ┆ 5650      ┆ 2014-10-1 │\n",
              "│            ┆          ┆          ┆           ┆   ┆          ┆            ┆           ┆ 3         │\n",
              "│ 6414100192 ┆ 538000.0 ┆ 3        ┆ 2.25      ┆ … ┆ -122.319 ┆ 1690       ┆ 7639      ┆ 2014-12-0 │\n",
              "│            ┆          ┆          ┆           ┆   ┆          ┆            ┆           ┆ 9         │\n",
              "│ 5631500400 ┆ 180000.0 ┆ 2        ┆ 1.0       ┆ … ┆ -122.233 ┆ 2720       ┆ 8062      ┆ 2015-02-2 │\n",
              "│            ┆          ┆          ┆           ┆   ┆          ┆            ┆           ┆ 5         │\n",
              "│ 2487200875 ┆ 604000.0 ┆ 4        ┆ 3.0       ┆ … ┆ -122.393 ┆ 1360       ┆ 5000      ┆ 2014-12-0 │\n",
              "│            ┆          ┆          ┆           ┆   ┆          ┆            ┆           ┆ 9         │\n",
              "│ 1954400510 ┆ 510000.0 ┆ 3        ┆ 2.0       ┆ … ┆ -122.045 ┆ 1800       ┆ 7503      ┆ 2015-02-1 │\n",
              "│            ┆          ┆          ┆           ┆   ┆          ┆            ┆           ┆ 8         │\n",
              "│ …          ┆ …        ┆ …        ┆ …         ┆ … ┆ …        ┆ …          ┆ …         ┆ …         │\n",
              "│ 263000018  ┆ 360000.0 ┆ 3        ┆ 2.5       ┆ … ┆ -122.346 ┆ 1530       ┆ 1509      ┆ 2014-05-2 │\n",
              "│            ┆          ┆          ┆           ┆   ┆          ┆            ┆           ┆ 1         │\n",
              "│ 6600060120 ┆ 400000.0 ┆ 4        ┆ 2.5       ┆ … ┆ -122.362 ┆ 1830       ┆ 7200      ┆ 2015-02-2 │\n",
              "│            ┆          ┆          ┆           ┆   ┆          ┆            ┆           ┆ 3         │\n",
              "│ 1523300141 ┆ 402101.0 ┆ 2        ┆ 0.75      ┆ … ┆ -122.299 ┆ 1020       ┆ 2007      ┆ 2014-06-2 │\n",
              "│            ┆          ┆          ┆           ┆   ┆          ┆            ┆           ┆ 3         │\n",
              "│ 291310100  ┆ 400000.0 ┆ 3        ┆ 2.5       ┆ … ┆ -122.069 ┆ 1410       ┆ 1287      ┆ 2015-01-1 │\n",
              "│            ┆          ┆          ┆           ┆   ┆          ┆            ┆           ┆ 6         │\n",
              "│ 1523300157 ┆ 325000.0 ┆ 2        ┆ 0.75      ┆ … ┆ -122.299 ┆ 1020       ┆ 1357      ┆ 2014-10-1 │\n",
              "│            ┆          ┆          ┆           ┆   ┆          ┆            ┆           ┆ 5         │\n",
              "└────────────┴──────────┴──────────┴───────────┴───┴──────────┴────────────┴───────────┴───────────┘"
            ],
            "text/html": [
              "<div><style>\n",
              ".dataframe > thead > tr,\n",
              ".dataframe > tbody > tr {\n",
              "  text-align: right;\n",
              "  white-space: pre-wrap;\n",
              "}\n",
              "</style>\n",
              "<small>shape: (21_613, 21)</small><table border=\"1\" class=\"dataframe\"><thead><tr><th>id</th><th>price</th><th>bedrooms</th><th>bathrooms</th><th>sqft_living</th><th>sqft_lot</th><th>floors</th><th>waterfront</th><th>view</th><th>condition</th><th>grade</th><th>sqft_above</th><th>sqft_basement</th><th>yr_built</th><th>yr_renovated</th><th>zipcode</th><th>lat</th><th>long</th><th>sqft_living15</th><th>sqft_lot15</th><th>date</th></tr><tr><td>i64</td><td>f64</td><td>i64</td><td>f64</td><td>i64</td><td>i64</td><td>f64</td><td>i64</td><td>i64</td><td>i64</td><td>i64</td><td>i64</td><td>i64</td><td>i64</td><td>i64</td><td>cat</td><td>f64</td><td>f64</td><td>i64</td><td>i64</td><td>date</td></tr></thead><tbody><tr><td>7129300520</td><td>221900.0</td><td>3</td><td>1.0</td><td>1180</td><td>5650</td><td>1.0</td><td>0</td><td>0</td><td>3</td><td>7</td><td>1180</td><td>0</td><td>1955</td><td>null</td><td>&quot;98178&quot;</td><td>47.5112</td><td>-122.257</td><td>1340</td><td>5650</td><td>2014-10-13</td></tr><tr><td>6414100192</td><td>538000.0</td><td>3</td><td>2.25</td><td>2570</td><td>7242</td><td>2.0</td><td>0</td><td>0</td><td>3</td><td>7</td><td>2170</td><td>400</td><td>1951</td><td>1991</td><td>&quot;98125&quot;</td><td>47.721</td><td>-122.319</td><td>1690</td><td>7639</td><td>2014-12-09</td></tr><tr><td>5631500400</td><td>180000.0</td><td>2</td><td>1.0</td><td>770</td><td>10000</td><td>1.0</td><td>0</td><td>0</td><td>3</td><td>6</td><td>770</td><td>0</td><td>1933</td><td>null</td><td>&quot;98028&quot;</td><td>47.7379</td><td>-122.233</td><td>2720</td><td>8062</td><td>2015-02-25</td></tr><tr><td>2487200875</td><td>604000.0</td><td>4</td><td>3.0</td><td>1960</td><td>5000</td><td>1.0</td><td>0</td><td>0</td><td>5</td><td>7</td><td>1050</td><td>910</td><td>1965</td><td>null</td><td>&quot;98136&quot;</td><td>47.5208</td><td>-122.393</td><td>1360</td><td>5000</td><td>2014-12-09</td></tr><tr><td>1954400510</td><td>510000.0</td><td>3</td><td>2.0</td><td>1680</td><td>8080</td><td>1.0</td><td>0</td><td>0</td><td>3</td><td>8</td><td>1680</td><td>0</td><td>1987</td><td>null</td><td>&quot;98074&quot;</td><td>47.6168</td><td>-122.045</td><td>1800</td><td>7503</td><td>2015-02-18</td></tr><tr><td>&hellip;</td><td>&hellip;</td><td>&hellip;</td><td>&hellip;</td><td>&hellip;</td><td>&hellip;</td><td>&hellip;</td><td>&hellip;</td><td>&hellip;</td><td>&hellip;</td><td>&hellip;</td><td>&hellip;</td><td>&hellip;</td><td>&hellip;</td><td>&hellip;</td><td>&hellip;</td><td>&hellip;</td><td>&hellip;</td><td>&hellip;</td><td>&hellip;</td><td>&hellip;</td></tr><tr><td>263000018</td><td>360000.0</td><td>3</td><td>2.5</td><td>1530</td><td>1131</td><td>3.0</td><td>0</td><td>0</td><td>3</td><td>8</td><td>1530</td><td>0</td><td>2009</td><td>null</td><td>&quot;98103&quot;</td><td>47.6993</td><td>-122.346</td><td>1530</td><td>1509</td><td>2014-05-21</td></tr><tr><td>6600060120</td><td>400000.0</td><td>4</td><td>2.5</td><td>2310</td><td>5813</td><td>2.0</td><td>0</td><td>0</td><td>3</td><td>8</td><td>2310</td><td>0</td><td>2014</td><td>null</td><td>&quot;98146&quot;</td><td>47.5107</td><td>-122.362</td><td>1830</td><td>7200</td><td>2015-02-23</td></tr><tr><td>1523300141</td><td>402101.0</td><td>2</td><td>0.75</td><td>1020</td><td>1350</td><td>2.0</td><td>0</td><td>0</td><td>3</td><td>7</td><td>1020</td><td>0</td><td>2009</td><td>null</td><td>&quot;98144&quot;</td><td>47.5944</td><td>-122.299</td><td>1020</td><td>2007</td><td>2014-06-23</td></tr><tr><td>291310100</td><td>400000.0</td><td>3</td><td>2.5</td><td>1600</td><td>2388</td><td>2.0</td><td>0</td><td>0</td><td>3</td><td>8</td><td>1600</td><td>0</td><td>2004</td><td>null</td><td>&quot;98027&quot;</td><td>47.5345</td><td>-122.069</td><td>1410</td><td>1287</td><td>2015-01-16</td></tr><tr><td>1523300157</td><td>325000.0</td><td>2</td><td>0.75</td><td>1020</td><td>1076</td><td>2.0</td><td>0</td><td>0</td><td>3</td><td>7</td><td>1020</td><td>0</td><td>2008</td><td>null</td><td>&quot;98144&quot;</td><td>47.5941</td><td>-122.299</td><td>1020</td><td>1357</td><td>2014-10-15</td></tr></tbody></table></div>"
            ]
          },
          "metadata": {},
          "execution_count": 33
        }
      ],
      "source": [
        "# transformer from a function\n",
        "tweak_transformer = FunctionTransformer(tweak_housing)\n",
        "\n",
        "tweak_transformer.fit_transform(raw)"
      ]
    },
    {
      "cell_type": "code",
      "execution_count": 34,
      "metadata": {
        "id": "Uy5CEklari74",
        "colab": {
          "base_uri": "https://localhost:8080/",
          "height": 463
        },
        "outputId": "97d5f627-591d-4a7e-848d-68f12240307f"
      },
      "outputs": [
        {
          "output_type": "execute_result",
          "data": {
            "text/plain": [
              "shape: (21_613, 73)\n",
              "┌───────────┬───────────┬───────────┬───────────┬───┬───────────┬───────────┬───────────┬──────────┐\n",
              "│ num__bedr ┆ num__bath ┆ num__sqft ┆ cat__zipc ┆ … ┆ cat__zipc ┆ cat__zipc ┆ cat__zipc ┆ cat__zip │\n",
              "│ ooms      ┆ rooms     ┆ _living   ┆ ode_98001 ┆   ┆ ode_98178 ┆ ode_98188 ┆ ode_98198 ┆ code_981 │\n",
              "│ ---       ┆ ---       ┆ ---       ┆ ---       ┆   ┆ ---       ┆ ---       ┆ ---       ┆ 99       │\n",
              "│ f64       ┆ f64       ┆ f64       ┆ f64       ┆   ┆ f64       ┆ f64       ┆ f64       ┆ ---      │\n",
              "│           ┆           ┆           ┆           ┆   ┆           ┆           ┆           ┆ f64      │\n",
              "╞═══════════╪═══════════╪═══════════╪═══════════╪═══╪═══════════╪═══════════╪═══════════╪══════════╡\n",
              "│ -0.398737 ┆ -1.447464 ┆ -0.979835 ┆ 0.0       ┆ … ┆ 1.0       ┆ 0.0       ┆ 0.0       ┆ 0.0      │\n",
              "│ -0.398737 ┆ 0.175607  ┆ 0.533634  ┆ 0.0       ┆ … ┆ 0.0       ┆ 0.0       ┆ 0.0       ┆ 0.0      │\n",
              "│ -1.473959 ┆ -1.447464 ┆ -1.426254 ┆ 0.0       ┆ … ┆ 0.0       ┆ 0.0       ┆ 0.0       ┆ 0.0      │\n",
              "│ 0.676485  ┆ 1.149449  ┆ -0.13055  ┆ 0.0       ┆ … ┆ 0.0       ┆ 0.0       ┆ 0.0       ┆ 0.0      │\n",
              "│ -0.398737 ┆ -0.149007 ┆ -0.435422 ┆ 0.0       ┆ … ┆ 0.0       ┆ 0.0       ┆ 0.0       ┆ 0.0      │\n",
              "│ …         ┆ …         ┆ …         ┆ …         ┆ … ┆ …         ┆ …         ┆ …         ┆ …        │\n",
              "│ -0.398737 ┆ 0.500221  ┆ -0.598746 ┆ 0.0       ┆ … ┆ 0.0       ┆ 0.0       ┆ 0.0       ┆ 0.0      │\n",
              "│ 0.676485  ┆ 0.500221  ┆ 0.250539  ┆ 0.0       ┆ … ┆ 0.0       ┆ 0.0       ┆ 0.0       ┆ 0.0      │\n",
              "│ -1.473959 ┆ -1.772078 ┆ -1.154047 ┆ 0.0       ┆ … ┆ 0.0       ┆ 0.0       ┆ 0.0       ┆ 0.0      │\n",
              "│ -0.398737 ┆ 0.500221  ┆ -0.522528 ┆ 0.0       ┆ … ┆ 0.0       ┆ 0.0       ┆ 0.0       ┆ 0.0      │\n",
              "│ -1.473959 ┆ -1.772078 ┆ -1.154047 ┆ 0.0       ┆ … ┆ 0.0       ┆ 0.0       ┆ 0.0       ┆ 0.0      │\n",
              "└───────────┴───────────┴───────────┴───────────┴───┴───────────┴───────────┴───────────┴──────────┘"
            ],
            "text/html": [
              "<div><style>\n",
              ".dataframe > thead > tr,\n",
              ".dataframe > tbody > tr {\n",
              "  text-align: right;\n",
              "  white-space: pre-wrap;\n",
              "}\n",
              "</style>\n",
              "<small>shape: (21_613, 73)</small><table border=\"1\" class=\"dataframe\"><thead><tr><th>num__bedrooms</th><th>num__bathrooms</th><th>num__sqft_living</th><th>cat__zipcode_98001</th><th>cat__zipcode_98002</th><th>cat__zipcode_98003</th><th>cat__zipcode_98004</th><th>cat__zipcode_98005</th><th>cat__zipcode_98006</th><th>cat__zipcode_98007</th><th>cat__zipcode_98008</th><th>cat__zipcode_98010</th><th>cat__zipcode_98011</th><th>cat__zipcode_98014</th><th>cat__zipcode_98019</th><th>cat__zipcode_98022</th><th>cat__zipcode_98023</th><th>cat__zipcode_98024</th><th>cat__zipcode_98027</th><th>cat__zipcode_98028</th><th>cat__zipcode_98029</th><th>cat__zipcode_98030</th><th>cat__zipcode_98031</th><th>cat__zipcode_98032</th><th>cat__zipcode_98033</th><th>cat__zipcode_98034</th><th>cat__zipcode_98038</th><th>cat__zipcode_98039</th><th>cat__zipcode_98040</th><th>cat__zipcode_98042</th><th>cat__zipcode_98045</th><th>cat__zipcode_98052</th><th>cat__zipcode_98053</th><th>cat__zipcode_98055</th><th>cat__zipcode_98056</th><th>cat__zipcode_98058</th><th>cat__zipcode_98059</th><th>cat__zipcode_98065</th><th>cat__zipcode_98070</th><th>cat__zipcode_98072</th><th>cat__zipcode_98074</th><th>cat__zipcode_98075</th><th>cat__zipcode_98077</th><th>cat__zipcode_98092</th><th>cat__zipcode_98102</th><th>cat__zipcode_98103</th><th>cat__zipcode_98105</th><th>cat__zipcode_98106</th><th>cat__zipcode_98107</th><th>cat__zipcode_98108</th><th>cat__zipcode_98109</th><th>cat__zipcode_98112</th><th>cat__zipcode_98115</th><th>cat__zipcode_98116</th><th>cat__zipcode_98117</th><th>cat__zipcode_98118</th><th>cat__zipcode_98119</th><th>cat__zipcode_98122</th><th>cat__zipcode_98125</th><th>cat__zipcode_98126</th><th>cat__zipcode_98133</th><th>cat__zipcode_98136</th><th>cat__zipcode_98144</th><th>cat__zipcode_98146</th><th>cat__zipcode_98148</th><th>cat__zipcode_98155</th><th>cat__zipcode_98166</th><th>cat__zipcode_98168</th><th>cat__zipcode_98177</th><th>cat__zipcode_98178</th><th>cat__zipcode_98188</th><th>cat__zipcode_98198</th><th>cat__zipcode_98199</th></tr><tr><td>f64</td><td>f64</td><td>f64</td><td>f64</td><td>f64</td><td>f64</td><td>f64</td><td>f64</td><td>f64</td><td>f64</td><td>f64</td><td>f64</td><td>f64</td><td>f64</td><td>f64</td><td>f64</td><td>f64</td><td>f64</td><td>f64</td><td>f64</td><td>f64</td><td>f64</td><td>f64</td><td>f64</td><td>f64</td><td>f64</td><td>f64</td><td>f64</td><td>f64</td><td>f64</td><td>f64</td><td>f64</td><td>f64</td><td>f64</td><td>f64</td><td>f64</td><td>f64</td><td>f64</td><td>f64</td><td>f64</td><td>f64</td><td>f64</td><td>f64</td><td>f64</td><td>f64</td><td>f64</td><td>f64</td><td>f64</td><td>f64</td><td>f64</td><td>f64</td><td>f64</td><td>f64</td><td>f64</td><td>f64</td><td>f64</td><td>f64</td><td>f64</td><td>f64</td><td>f64</td><td>f64</td><td>f64</td><td>f64</td><td>f64</td><td>f64</td><td>f64</td><td>f64</td><td>f64</td><td>f64</td><td>f64</td><td>f64</td><td>f64</td><td>f64</td></tr></thead><tbody><tr><td>-0.398737</td><td>-1.447464</td><td>-0.979835</td><td>0.0</td><td>0.0</td><td>0.0</td><td>0.0</td><td>0.0</td><td>0.0</td><td>0.0</td><td>0.0</td><td>0.0</td><td>0.0</td><td>0.0</td><td>0.0</td><td>0.0</td><td>0.0</td><td>0.0</td><td>0.0</td><td>0.0</td><td>0.0</td><td>0.0</td><td>0.0</td><td>0.0</td><td>0.0</td><td>0.0</td><td>0.0</td><td>0.0</td><td>0.0</td><td>0.0</td><td>0.0</td><td>0.0</td><td>0.0</td><td>0.0</td><td>0.0</td><td>0.0</td><td>0.0</td><td>0.0</td><td>0.0</td><td>0.0</td><td>0.0</td><td>0.0</td><td>0.0</td><td>0.0</td><td>0.0</td><td>0.0</td><td>0.0</td><td>0.0</td><td>0.0</td><td>0.0</td><td>0.0</td><td>0.0</td><td>0.0</td><td>0.0</td><td>0.0</td><td>0.0</td><td>0.0</td><td>0.0</td><td>0.0</td><td>0.0</td><td>0.0</td><td>0.0</td><td>0.0</td><td>0.0</td><td>0.0</td><td>0.0</td><td>0.0</td><td>0.0</td><td>0.0</td><td>1.0</td><td>0.0</td><td>0.0</td><td>0.0</td></tr><tr><td>-0.398737</td><td>0.175607</td><td>0.533634</td><td>0.0</td><td>0.0</td><td>0.0</td><td>0.0</td><td>0.0</td><td>0.0</td><td>0.0</td><td>0.0</td><td>0.0</td><td>0.0</td><td>0.0</td><td>0.0</td><td>0.0</td><td>0.0</td><td>0.0</td><td>0.0</td><td>0.0</td><td>0.0</td><td>0.0</td><td>0.0</td><td>0.0</td><td>0.0</td><td>0.0</td><td>0.0</td><td>0.0</td><td>0.0</td><td>0.0</td><td>0.0</td><td>0.0</td><td>0.0</td><td>0.0</td><td>0.0</td><td>0.0</td><td>0.0</td><td>0.0</td><td>0.0</td><td>0.0</td><td>0.0</td><td>0.0</td><td>0.0</td><td>0.0</td><td>0.0</td><td>0.0</td><td>0.0</td><td>0.0</td><td>0.0</td><td>0.0</td><td>0.0</td><td>0.0</td><td>0.0</td><td>0.0</td><td>0.0</td><td>0.0</td><td>0.0</td><td>0.0</td><td>1.0</td><td>0.0</td><td>0.0</td><td>0.0</td><td>0.0</td><td>0.0</td><td>0.0</td><td>0.0</td><td>0.0</td><td>0.0</td><td>0.0</td><td>0.0</td><td>0.0</td><td>0.0</td><td>0.0</td></tr><tr><td>-1.473959</td><td>-1.447464</td><td>-1.426254</td><td>0.0</td><td>0.0</td><td>0.0</td><td>0.0</td><td>0.0</td><td>0.0</td><td>0.0</td><td>0.0</td><td>0.0</td><td>0.0</td><td>0.0</td><td>0.0</td><td>0.0</td><td>0.0</td><td>0.0</td><td>0.0</td><td>1.0</td><td>0.0</td><td>0.0</td><td>0.0</td><td>0.0</td><td>0.0</td><td>0.0</td><td>0.0</td><td>0.0</td><td>0.0</td><td>0.0</td><td>0.0</td><td>0.0</td><td>0.0</td><td>0.0</td><td>0.0</td><td>0.0</td><td>0.0</td><td>0.0</td><td>0.0</td><td>0.0</td><td>0.0</td><td>0.0</td><td>0.0</td><td>0.0</td><td>0.0</td><td>0.0</td><td>0.0</td><td>0.0</td><td>0.0</td><td>0.0</td><td>0.0</td><td>0.0</td><td>0.0</td><td>0.0</td><td>0.0</td><td>0.0</td><td>0.0</td><td>0.0</td><td>0.0</td><td>0.0</td><td>0.0</td><td>0.0</td><td>0.0</td><td>0.0</td><td>0.0</td><td>0.0</td><td>0.0</td><td>0.0</td><td>0.0</td><td>0.0</td><td>0.0</td><td>0.0</td><td>0.0</td></tr><tr><td>0.676485</td><td>1.149449</td><td>-0.13055</td><td>0.0</td><td>0.0</td><td>0.0</td><td>0.0</td><td>0.0</td><td>0.0</td><td>0.0</td><td>0.0</td><td>0.0</td><td>0.0</td><td>0.0</td><td>0.0</td><td>0.0</td><td>0.0</td><td>0.0</td><td>0.0</td><td>0.0</td><td>0.0</td><td>0.0</td><td>0.0</td><td>0.0</td><td>0.0</td><td>0.0</td><td>0.0</td><td>0.0</td><td>0.0</td><td>0.0</td><td>0.0</td><td>0.0</td><td>0.0</td><td>0.0</td><td>0.0</td><td>0.0</td><td>0.0</td><td>0.0</td><td>0.0</td><td>0.0</td><td>0.0</td><td>0.0</td><td>0.0</td><td>0.0</td><td>0.0</td><td>0.0</td><td>0.0</td><td>0.0</td><td>0.0</td><td>0.0</td><td>0.0</td><td>0.0</td><td>0.0</td><td>0.0</td><td>0.0</td><td>0.0</td><td>0.0</td><td>0.0</td><td>0.0</td><td>0.0</td><td>0.0</td><td>1.0</td><td>0.0</td><td>0.0</td><td>0.0</td><td>0.0</td><td>0.0</td><td>0.0</td><td>0.0</td><td>0.0</td><td>0.0</td><td>0.0</td><td>0.0</td></tr><tr><td>-0.398737</td><td>-0.149007</td><td>-0.435422</td><td>0.0</td><td>0.0</td><td>0.0</td><td>0.0</td><td>0.0</td><td>0.0</td><td>0.0</td><td>0.0</td><td>0.0</td><td>0.0</td><td>0.0</td><td>0.0</td><td>0.0</td><td>0.0</td><td>0.0</td><td>0.0</td><td>0.0</td><td>0.0</td><td>0.0</td><td>0.0</td><td>0.0</td><td>0.0</td><td>0.0</td><td>0.0</td><td>0.0</td><td>0.0</td><td>0.0</td><td>0.0</td><td>0.0</td><td>0.0</td><td>0.0</td><td>0.0</td><td>0.0</td><td>0.0</td><td>0.0</td><td>0.0</td><td>0.0</td><td>1.0</td><td>0.0</td><td>0.0</td><td>0.0</td><td>0.0</td><td>0.0</td><td>0.0</td><td>0.0</td><td>0.0</td><td>0.0</td><td>0.0</td><td>0.0</td><td>0.0</td><td>0.0</td><td>0.0</td><td>0.0</td><td>0.0</td><td>0.0</td><td>0.0</td><td>0.0</td><td>0.0</td><td>0.0</td><td>0.0</td><td>0.0</td><td>0.0</td><td>0.0</td><td>0.0</td><td>0.0</td><td>0.0</td><td>0.0</td><td>0.0</td><td>0.0</td><td>0.0</td></tr><tr><td>&hellip;</td><td>&hellip;</td><td>&hellip;</td><td>&hellip;</td><td>&hellip;</td><td>&hellip;</td><td>&hellip;</td><td>&hellip;</td><td>&hellip;</td><td>&hellip;</td><td>&hellip;</td><td>&hellip;</td><td>&hellip;</td><td>&hellip;</td><td>&hellip;</td><td>&hellip;</td><td>&hellip;</td><td>&hellip;</td><td>&hellip;</td><td>&hellip;</td><td>&hellip;</td><td>&hellip;</td><td>&hellip;</td><td>&hellip;</td><td>&hellip;</td><td>&hellip;</td><td>&hellip;</td><td>&hellip;</td><td>&hellip;</td><td>&hellip;</td><td>&hellip;</td><td>&hellip;</td><td>&hellip;</td><td>&hellip;</td><td>&hellip;</td><td>&hellip;</td><td>&hellip;</td><td>&hellip;</td><td>&hellip;</td><td>&hellip;</td><td>&hellip;</td><td>&hellip;</td><td>&hellip;</td><td>&hellip;</td><td>&hellip;</td><td>&hellip;</td><td>&hellip;</td><td>&hellip;</td><td>&hellip;</td><td>&hellip;</td><td>&hellip;</td><td>&hellip;</td><td>&hellip;</td><td>&hellip;</td><td>&hellip;</td><td>&hellip;</td><td>&hellip;</td><td>&hellip;</td><td>&hellip;</td><td>&hellip;</td><td>&hellip;</td><td>&hellip;</td><td>&hellip;</td><td>&hellip;</td><td>&hellip;</td><td>&hellip;</td><td>&hellip;</td><td>&hellip;</td><td>&hellip;</td><td>&hellip;</td><td>&hellip;</td><td>&hellip;</td><td>&hellip;</td></tr><tr><td>-0.398737</td><td>0.500221</td><td>-0.598746</td><td>0.0</td><td>0.0</td><td>0.0</td><td>0.0</td><td>0.0</td><td>0.0</td><td>0.0</td><td>0.0</td><td>0.0</td><td>0.0</td><td>0.0</td><td>0.0</td><td>0.0</td><td>0.0</td><td>0.0</td><td>0.0</td><td>0.0</td><td>0.0</td><td>0.0</td><td>0.0</td><td>0.0</td><td>0.0</td><td>0.0</td><td>0.0</td><td>0.0</td><td>0.0</td><td>0.0</td><td>0.0</td><td>0.0</td><td>0.0</td><td>0.0</td><td>0.0</td><td>0.0</td><td>0.0</td><td>0.0</td><td>0.0</td><td>0.0</td><td>0.0</td><td>0.0</td><td>0.0</td><td>0.0</td><td>0.0</td><td>1.0</td><td>0.0</td><td>0.0</td><td>0.0</td><td>0.0</td><td>0.0</td><td>0.0</td><td>0.0</td><td>0.0</td><td>0.0</td><td>0.0</td><td>0.0</td><td>0.0</td><td>0.0</td><td>0.0</td><td>0.0</td><td>0.0</td><td>0.0</td><td>0.0</td><td>0.0</td><td>0.0</td><td>0.0</td><td>0.0</td><td>0.0</td><td>0.0</td><td>0.0</td><td>0.0</td><td>0.0</td></tr><tr><td>0.676485</td><td>0.500221</td><td>0.250539</td><td>0.0</td><td>0.0</td><td>0.0</td><td>0.0</td><td>0.0</td><td>0.0</td><td>0.0</td><td>0.0</td><td>0.0</td><td>0.0</td><td>0.0</td><td>0.0</td><td>0.0</td><td>0.0</td><td>0.0</td><td>0.0</td><td>0.0</td><td>0.0</td><td>0.0</td><td>0.0</td><td>0.0</td><td>0.0</td><td>0.0</td><td>0.0</td><td>0.0</td><td>0.0</td><td>0.0</td><td>0.0</td><td>0.0</td><td>0.0</td><td>0.0</td><td>0.0</td><td>0.0</td><td>0.0</td><td>0.0</td><td>0.0</td><td>0.0</td><td>0.0</td><td>0.0</td><td>0.0</td><td>0.0</td><td>0.0</td><td>0.0</td><td>0.0</td><td>0.0</td><td>0.0</td><td>0.0</td><td>0.0</td><td>0.0</td><td>0.0</td><td>0.0</td><td>0.0</td><td>0.0</td><td>0.0</td><td>0.0</td><td>0.0</td><td>0.0</td><td>0.0</td><td>0.0</td><td>0.0</td><td>1.0</td><td>0.0</td><td>0.0</td><td>0.0</td><td>0.0</td><td>0.0</td><td>0.0</td><td>0.0</td><td>0.0</td><td>0.0</td></tr><tr><td>-1.473959</td><td>-1.772078</td><td>-1.154047</td><td>0.0</td><td>0.0</td><td>0.0</td><td>0.0</td><td>0.0</td><td>0.0</td><td>0.0</td><td>0.0</td><td>0.0</td><td>0.0</td><td>0.0</td><td>0.0</td><td>0.0</td><td>0.0</td><td>0.0</td><td>0.0</td><td>0.0</td><td>0.0</td><td>0.0</td><td>0.0</td><td>0.0</td><td>0.0</td><td>0.0</td><td>0.0</td><td>0.0</td><td>0.0</td><td>0.0</td><td>0.0</td><td>0.0</td><td>0.0</td><td>0.0</td><td>0.0</td><td>0.0</td><td>0.0</td><td>0.0</td><td>0.0</td><td>0.0</td><td>0.0</td><td>0.0</td><td>0.0</td><td>0.0</td><td>0.0</td><td>0.0</td><td>0.0</td><td>0.0</td><td>0.0</td><td>0.0</td><td>0.0</td><td>0.0</td><td>0.0</td><td>0.0</td><td>0.0</td><td>0.0</td><td>0.0</td><td>0.0</td><td>0.0</td><td>0.0</td><td>0.0</td><td>0.0</td><td>1.0</td><td>0.0</td><td>0.0</td><td>0.0</td><td>0.0</td><td>0.0</td><td>0.0</td><td>0.0</td><td>0.0</td><td>0.0</td><td>0.0</td></tr><tr><td>-0.398737</td><td>0.500221</td><td>-0.522528</td><td>0.0</td><td>0.0</td><td>0.0</td><td>0.0</td><td>0.0</td><td>0.0</td><td>0.0</td><td>0.0</td><td>0.0</td><td>0.0</td><td>0.0</td><td>0.0</td><td>0.0</td><td>0.0</td><td>0.0</td><td>1.0</td><td>0.0</td><td>0.0</td><td>0.0</td><td>0.0</td><td>0.0</td><td>0.0</td><td>0.0</td><td>0.0</td><td>0.0</td><td>0.0</td><td>0.0</td><td>0.0</td><td>0.0</td><td>0.0</td><td>0.0</td><td>0.0</td><td>0.0</td><td>0.0</td><td>0.0</td><td>0.0</td><td>0.0</td><td>0.0</td><td>0.0</td><td>0.0</td><td>0.0</td><td>0.0</td><td>0.0</td><td>0.0</td><td>0.0</td><td>0.0</td><td>0.0</td><td>0.0</td><td>0.0</td><td>0.0</td><td>0.0</td><td>0.0</td><td>0.0</td><td>0.0</td><td>0.0</td><td>0.0</td><td>0.0</td><td>0.0</td><td>0.0</td><td>0.0</td><td>0.0</td><td>0.0</td><td>0.0</td><td>0.0</td><td>0.0</td><td>0.0</td><td>0.0</td><td>0.0</td><td>0.0</td><td>0.0</td></tr><tr><td>-1.473959</td><td>-1.772078</td><td>-1.154047</td><td>0.0</td><td>0.0</td><td>0.0</td><td>0.0</td><td>0.0</td><td>0.0</td><td>0.0</td><td>0.0</td><td>0.0</td><td>0.0</td><td>0.0</td><td>0.0</td><td>0.0</td><td>0.0</td><td>0.0</td><td>0.0</td><td>0.0</td><td>0.0</td><td>0.0</td><td>0.0</td><td>0.0</td><td>0.0</td><td>0.0</td><td>0.0</td><td>0.0</td><td>0.0</td><td>0.0</td><td>0.0</td><td>0.0</td><td>0.0</td><td>0.0</td><td>0.0</td><td>0.0</td><td>0.0</td><td>0.0</td><td>0.0</td><td>0.0</td><td>0.0</td><td>0.0</td><td>0.0</td><td>0.0</td><td>0.0</td><td>0.0</td><td>0.0</td><td>0.0</td><td>0.0</td><td>0.0</td><td>0.0</td><td>0.0</td><td>0.0</td><td>0.0</td><td>0.0</td><td>0.0</td><td>0.0</td><td>0.0</td><td>0.0</td><td>0.0</td><td>0.0</td><td>0.0</td><td>1.0</td><td>0.0</td><td>0.0</td><td>0.0</td><td>0.0</td><td>0.0</td><td>0.0</td><td>0.0</td><td>0.0</td><td>0.0</td><td>0.0</td></tr></tbody></table></div>"
            ]
          },
          "metadata": {},
          "execution_count": 34
        }
      ],
      "source": [
        "# Transformer: Numeric/Categorical in ML-Pipeline\n",
        "categorical_features = ['zipcode']\n",
        "\n",
        "numeric_transformer = Pipeline(steps=[\n",
        "    ('imputer', SimpleImputer(strategy='median')),\n",
        "    ('scaler', StandardScaler())])\n",
        "\n",
        "ct = ColumnTransformer(\n",
        "    transformers=[\n",
        "        ('num', numeric_transformer, numeric_features),\n",
        "        ('cat', OneHotEncoder(handle_unknown='ignore',\n",
        "                              sparse_output=False), categorical_features)])\n",
        "\n",
        "ct.fit_transform(\n",
        "    tweak_housing(raw)\n",
        "    .select([*numeric_features, *cat_features])\n",
        ")"
      ]
    },
    {
      "cell_type": "code",
      "execution_count": 35,
      "metadata": {
        "id": "_Sz_SI-cri75",
        "colab": {
          "base_uri": "https://localhost:8080/",
          "height": 443
        },
        "outputId": "80f90b3b-fe83-49d9-81ae-e9224dc54a41"
      },
      "outputs": [
        {
          "output_type": "execute_result",
          "data": {
            "text/plain": [
              "shape: (21_613, 3)\n",
              "┌─────────┬──────────┬───────────────┐\n",
              "│ zipcode ┆ price    ┆ zip_mean      │\n",
              "│ ---     ┆ ---      ┆ ---           │\n",
              "│ i64     ┆ f64      ┆ f64           │\n",
              "╞═════════╪══════════╪═══════════════╡\n",
              "│ 98178   ┆ 221900.0 ┆ 310612.755725 │\n",
              "│ 98125   ┆ 538000.0 ┆ 469455.770732 │\n",
              "│ 98028   ┆ 180000.0 ┆ 462480.035336 │\n",
              "│ 98136   ┆ 604000.0 ┆ 551688.673004 │\n",
              "│ 98074   ┆ 510000.0 ┆ 685605.77551  │\n",
              "│ …       ┆ …        ┆ …             │\n",
              "│ 98103   ┆ 360000.0 ┆ 584919.210963 │\n",
              "│ 98146   ┆ 400000.0 ┆ 359483.239583 │\n",
              "│ 98144   ┆ 402101.0 ┆ 594547.650146 │\n",
              "│ 98027   ┆ 400000.0 ┆ 616990.592233 │\n",
              "│ 98144   ┆ 325000.0 ┆ 594547.650146 │\n",
              "└─────────┴──────────┴───────────────┘"
            ],
            "text/html": [
              "<div><style>\n",
              ".dataframe > thead > tr,\n",
              ".dataframe > tbody > tr {\n",
              "  text-align: right;\n",
              "  white-space: pre-wrap;\n",
              "}\n",
              "</style>\n",
              "<small>shape: (21_613, 3)</small><table border=\"1\" class=\"dataframe\"><thead><tr><th>zipcode</th><th>price</th><th>zip_mean</th></tr><tr><td>i64</td><td>f64</td><td>f64</td></tr></thead><tbody><tr><td>98178</td><td>221900.0</td><td>310612.755725</td></tr><tr><td>98125</td><td>538000.0</td><td>469455.770732</td></tr><tr><td>98028</td><td>180000.0</td><td>462480.035336</td></tr><tr><td>98136</td><td>604000.0</td><td>551688.673004</td></tr><tr><td>98074</td><td>510000.0</td><td>685605.77551</td></tr><tr><td>&hellip;</td><td>&hellip;</td><td>&hellip;</td></tr><tr><td>98103</td><td>360000.0</td><td>584919.210963</td></tr><tr><td>98146</td><td>400000.0</td><td>359483.239583</td></tr><tr><td>98144</td><td>402101.0</td><td>594547.650146</td></tr><tr><td>98027</td><td>400000.0</td><td>616990.592233</td></tr><tr><td>98144</td><td>325000.0</td><td>594547.650146</td></tr></tbody></table></div>"
            ]
          },
          "metadata": {},
          "execution_count": 35
        }
      ],
      "source": [
        "# Custom transformer\n",
        "class ZipAvgPriceAdder(BaseEstimator, TransformerMixin): #custom transformer from SK-learn\n",
        "    def __init__(self):\n",
        "        pass\n",
        "    def fit(self, X, y=None):\n",
        "        # assume X is a polars dataframe\n",
        "        self.zip_avg_price = (X\n",
        "                              .group_by('zipcode')\n",
        "                              .agg(zip_mean=pl.col('price').mean())\n",
        "        )\n",
        "        return self\n",
        "\n",
        "    def transform(self, X, y=None):\n",
        "        return X.join(self.zip_avg_price, on='zipcode')\n",
        "\n",
        "zip_adder = ZipAvgPriceAdder()\n",
        "zip_adder.fit_transform(raw.select(['zipcode', 'price']))"
      ]
    },
    {
      "cell_type": "code",
      "execution_count": null,
      "metadata": {
        "scrolled": true,
        "id": "P8Y5z-xkri75"
      },
      "outputs": [],
      "source": [
        "# make the pipeline\n",
        "numeric_features = ['bedrooms', 'bathrooms', 'sqft_living', 'sqft_lot', 'floors', 'waterfront', 'view',\n",
        "                    'condition', 'grade', 'sqft_above', 'sqft_basement', 'yr_built', 'yr_renovated',\n",
        "                    'lat', 'long', 'sqft_living15', 'sqft_lot15', 'zip_mean']\n",
        "numeric_transformer = Pipeline(steps=[\n",
        "    ('imputer', SimpleImputer(strategy='median')),\n",
        "    ('scaler', StandardScaler())])\n",
        "\n",
        "categorical_features = ['zipcode']\n",
        "\n",
        "preprocessor = ColumnTransformer(\n",
        "    transformers=[\n",
        "        ('num', numeric_transformer, numeric_features),\n",
        "        ('cat', OneHotEncoder(handle_unknown='ignore',\n",
        "                              sparse_output=False), categorical_features)])\n",
        "\n",
        "tweak_transformer = FunctionTransformer(tweak_housing)\n",
        "\n",
        "class ZipAvgPriceAdder(BaseEstimator, TransformerMixin):\n",
        "    def __init__(self):\n",
        "        pass\n",
        "    def fit(self, X, y=None):\n",
        "        # assume X is a polars dataframe\n",
        "        self.zip_avg_price = (X\n",
        "                              .group_by('zipcode')\n",
        "                              .agg(zip_mean=pl.col('price').mean())\n",
        "        )\n",
        "        return self\n",
        "\n",
        "    def transform(self, X, y=None):\n",
        "        return X.join(self.zip_avg_price, on='zipcode')\n",
        "\n",
        "# Append classifier to preprocessing pipeline.\n",
        "# Now we have a full prediction pipeline.\n",
        "pipe = Pipeline(steps=[('tweak', tweak_transformer),\n",
        "                      ('zip_avg_price', ZipAvgPriceAdder()),\n",
        "                      ('preprocessor', preprocessor),\n",
        "                      ])\n",
        "\n",
        "X = raw #.drop('price')\n",
        "y = raw.select('price') # Note sklearn wants a Polars dataframe for y\n",
        "\n",
        "X_train, X_test, y_train, y_test = train_test_split(X, y, test_size=0.2, random_state=42)\n",
        "\n",
        "pipe.fit_transform(raw, raw.select('price'))"
      ]
    },
    {
      "cell_type": "code",
      "execution_count": null,
      "metadata": {
        "id": "QeCfm1-Bri75"
      },
      "outputs": [],
      "source": [
        "pipe"
      ]
    },
    {
      "cell_type": "code",
      "execution_count": null,
      "metadata": {
        "id": "zUoAzhd4ri75"
      },
      "outputs": [],
      "source": [
        "# Note sklearn wants a Polars dataframe for y\n",
        "X = raw #.drop('price')\n",
        "y = raw.select('price')\n",
        "#y = raw['price']\n",
        "\n",
        "X_train, X_test, y_train, y_test = train_test_split(X, y, test_size=0.2, random_state=42)"
      ]
    },
    {
      "cell_type": "code",
      "execution_count": null,
      "metadata": {
        "id": "2meHH-NGri75"
      },
      "outputs": [],
      "source": []
    },
    {
      "cell_type": "code",
      "execution_count": null,
      "metadata": {
        "id": "PVzg_7n4ri75"
      },
      "outputs": [],
      "source": []
    },
    {
      "cell_type": "code",
      "execution_count": null,
      "metadata": {
        "id": "icoGAbpGri76"
      },
      "outputs": [],
      "source": []
    },
    {
      "cell_type": "code",
      "execution_count": null,
      "metadata": {
        "id": "t-V4Q-Alri76"
      },
      "outputs": [],
      "source": []
    },
    {
      "cell_type": "code",
      "execution_count": null,
      "metadata": {
        "id": "wpveaO3Gri77"
      },
      "outputs": [],
      "source": []
    },
    {
      "cell_type": "markdown",
      "metadata": {
        "jp-MarkdownHeadingCollapsed": true,
        "id": "c-4zCGt2ri77"
      },
      "source": [
        "\n",
        "## Challenge\n",
        "\n",
        "Make a plot to explore the relationship between the number of bedrooms and the price of the house."
      ]
    },
    {
      "cell_type": "code",
      "execution_count": null,
      "metadata": {
        "id": "o9tGgPRJri77"
      },
      "outputs": [],
      "source": []
    },
    {
      "cell_type": "code",
      "execution_count": null,
      "metadata": {
        "id": "an4PNNc6ri77"
      },
      "outputs": [],
      "source": []
    },
    {
      "cell_type": "code",
      "execution_count": null,
      "metadata": {
        "id": "uchFSM4eri78"
      },
      "outputs": [],
      "source": []
    },
    {
      "cell_type": "code",
      "execution_count": null,
      "metadata": {
        "id": "a6QkUcL4ri78"
      },
      "outputs": [],
      "source": []
    },
    {
      "cell_type": "code",
      "execution_count": null,
      "metadata": {
        "id": "-I3rLbgVri78"
      },
      "outputs": [],
      "source": []
    },
    {
      "cell_type": "markdown",
      "metadata": {
        "id": "q2EguWpQri78"
      },
      "source": [
        "\n",
        "## Solution"
      ]
    },
    {
      "cell_type": "code",
      "execution_count": null,
      "metadata": {
        "id": "__KIcv1Gri78"
      },
      "outputs": [],
      "source": []
    },
    {
      "cell_type": "code",
      "execution_count": null,
      "metadata": {
        "id": "KarCeUWEri79"
      },
      "outputs": [],
      "source": []
    },
    {
      "cell_type": "code",
      "execution_count": null,
      "metadata": {
        "id": "CaJHOIkxri79"
      },
      "outputs": [],
      "source": []
    },
    {
      "cell_type": "code",
      "execution_count": null,
      "metadata": {
        "id": "0iyBEGF0ri79"
      },
      "outputs": [],
      "source": []
    },
    {
      "cell_type": "code",
      "execution_count": null,
      "metadata": {
        "id": "e2YumXY2ri79"
      },
      "outputs": [],
      "source": []
    },
    {
      "cell_type": "markdown",
      "metadata": {
        "vscode": {
          "languageId": "plaintext"
        },
        "id": "nr2uuELBri79"
      },
      "source": [
        "# Model Creation\n"
      ]
    },
    {
      "cell_type": "markdown",
      "metadata": {
        "id": "tAfGN9_uri79"
      },
      "source": [
        "\n",
        "## Dummy Model\n"
      ]
    },
    {
      "cell_type": "code",
      "execution_count": null,
      "metadata": {
        "scrolled": true,
        "id": "k2EQySOVri7-"
      },
      "outputs": [],
      "source": [
        "from sklearn.dummy import DummyRegressor\n",
        "\n",
        "dummy = DummyRegressor(strategy='mean')\n",
        "y = raw.select('price')\n",
        "X_train, X_test, y_train, y_test = train_test_split(raw, y, test_size=0.2, random_state=42)\n",
        "dummy_pipe = Pipeline(steps=[('tweak', tweak_transformer),\n",
        "                      ('zip_avg_price', ZipAvgPriceAdder()),\n",
        "                      ('preprocessor', preprocessor),\n",
        "                      ('dummy', dummy),\n",
        "                      ])\n",
        "\n",
        "dummy_pipe.fit(X_train, y_train)\n",
        "dummy_pipe.score(X_test, y_test)"
      ]
    },
    {
      "cell_type": "code",
      "execution_count": null,
      "metadata": {
        "id": "Tb6iPoihri7-"
      },
      "outputs": [],
      "source": [
        "dummy_pipe"
      ]
    },
    {
      "cell_type": "code",
      "execution_count": null,
      "metadata": {
        "scrolled": true,
        "id": "kPFg1ENQri7_"
      },
      "outputs": [],
      "source": [
        "dummy_pipe.predict(X_test)"
      ]
    },
    {
      "cell_type": "code",
      "execution_count": null,
      "metadata": {
        "id": "VtoS3N9uri7_"
      },
      "outputs": [],
      "source": []
    },
    {
      "cell_type": "code",
      "execution_count": null,
      "metadata": {
        "id": "7Dkqqgqnri7_"
      },
      "outputs": [],
      "source": []
    },
    {
      "cell_type": "code",
      "execution_count": null,
      "metadata": {
        "id": "IyhP7r6hri7_"
      },
      "outputs": [],
      "source": []
    },
    {
      "cell_type": "markdown",
      "metadata": {
        "id": "d8X55fWMri8A"
      },
      "source": [
        "\n",
        "## Linear Regression\n"
      ]
    },
    {
      "cell_type": "code",
      "execution_count": null,
      "metadata": {
        "id": "kbRVAiU2ri8A"
      },
      "outputs": [],
      "source": [
        "from sklearn.linear_model import LinearRegression\n",
        "\n",
        "\n",
        "lr =  LinearRegression()\n",
        "y = raw.select('price')\n",
        "X_train, X_test, y_train, y_test = train_test_split(raw, y, test_size=0.2, random_state=42)\n",
        "lr_pipe = Pipeline(steps=[('tweak', tweak_transformer),\n",
        "                      ('zip_avg_price', ZipAvgPriceAdder()),\n",
        "                      ('preprocessor', preprocessor),\n",
        "                        ('lr', lr),\n",
        "                      ])\n",
        "\n",
        "lr_pipe.fit(X_train, y_train)\n",
        "lr_pipe.score(X_test, y_test)"
      ]
    },
    {
      "cell_type": "code",
      "execution_count": null,
      "metadata": {
        "id": "XONyE9HIri8A"
      },
      "outputs": [],
      "source": [
        "lr_pipe.predict(X_test)"
      ]
    },
    {
      "cell_type": "code",
      "execution_count": null,
      "metadata": {
        "id": "wicxiysfri8A"
      },
      "outputs": [],
      "source": []
    },
    {
      "cell_type": "code",
      "execution_count": null,
      "metadata": {
        "id": "aAHJaLI4ri8A"
      },
      "outputs": [],
      "source": []
    },
    {
      "cell_type": "markdown",
      "metadata": {
        "id": "ktPBsM45ri8A"
      },
      "source": [
        "\n",
        "## Decision Trees\n"
      ]
    },
    {
      "cell_type": "code",
      "execution_count": null,
      "metadata": {
        "id": "HVvgTPB0ri8A"
      },
      "outputs": [],
      "source": [
        "from sklearn.tree import DecisionTreeRegressor\n",
        "\n",
        "\n",
        "dt = DecisionTreeRegressor()\n",
        "y = raw.select('price')\n",
        "X_train, X_test, y_train, y_test = train_test_split(raw, y, test_size=0.2, random_state=42)\n",
        "dt_pipe = Pipeline(steps=[('tweak', tweak_transformer),\n",
        "                      ('zip_avg_price', ZipAvgPriceAdder()),\n",
        "                      ('preprocessor', preprocessor),\n",
        "                      ('dt', dt),\n",
        "                      ])\n",
        "\n",
        "dt_pipe.fit(X_train, y_train)\n",
        "dt_pipe.score(X_test, y_test)"
      ]
    },
    {
      "cell_type": "code",
      "execution_count": null,
      "metadata": {
        "id": "jg4eX1gzri8B"
      },
      "outputs": [],
      "source": [
        "dt_pipe.set_params(dt__max_depth=1)\n",
        "dt_pipe.fit(X_train, y_train)\n",
        "dt_pipe.score(X_test, y_test)"
      ]
    },
    {
      "cell_type": "code",
      "execution_count": null,
      "metadata": {
        "id": "AwHc0_YZri8B"
      },
      "outputs": [],
      "source": [
        "dt_pipe.set_params(dt__max_depth=9)\n",
        "dt_pipe.fit(X_train, y_train)\n",
        "dt_pipe.score(X_test, y_test)"
      ]
    },
    {
      "cell_type": "code",
      "execution_count": null,
      "metadata": {
        "id": "K4PHB8KWri8B"
      },
      "outputs": [],
      "source": []
    },
    {
      "cell_type": "code",
      "execution_count": null,
      "metadata": {
        "id": "tYyDPzn_ri8B"
      },
      "outputs": [],
      "source": []
    },
    {
      "cell_type": "code",
      "execution_count": null,
      "metadata": {
        "id": "Zw8FROsgri8B"
      },
      "outputs": [],
      "source": []
    },
    {
      "cell_type": "markdown",
      "metadata": {
        "id": "iOJ40PzMri8B"
      },
      "source": [
        "\n",
        "## CatBoost\n"
      ]
    },
    {
      "cell_type": "code",
      "execution_count": null,
      "metadata": {
        "id": "mYiyUcZ7ri8B"
      },
      "outputs": [],
      "source": []
    },
    {
      "cell_type": "code",
      "execution_count": null,
      "metadata": {
        "scrolled": true,
        "id": "4q5kMENmri8B"
      },
      "outputs": [],
      "source": [
        "from catboost import CatBoostRegressor\n",
        "\n",
        "\n",
        "cat = CatBoostRegressor()\n",
        "# has issues with Polars input going to use a pandas_transformer\n",
        "def to_pandas(df):\n",
        "    return df.to_pandas()\n",
        "pandas_transformer = FunctionTransformer(to_pandas)\n",
        "\n",
        "y = raw.select('price')\n",
        "\n",
        "X_train, X_test, y_train, y_test = train_test_split(raw, y, test_size=0.2, random_state=42)\n",
        "cat_pipe = Pipeline(steps=[('tweak', tweak_transformer),\n",
        "                      ('zip_avg_price', ZipAvgPriceAdder()),\n",
        "                      ('preprocessor', preprocessor),\n",
        "                      ('to_pandas', pandas_transformer),\n",
        "                      ('cat', cat),\n",
        "                      ])\n",
        "\n",
        "cat_pipe.fit(X_train, y_train.to_numpy()[:,0])\n",
        "cat_pipe.score(X_test, y_test.to_numpy()[:,0])"
      ]
    },
    {
      "cell_type": "code",
      "execution_count": null,
      "metadata": {
        "id": "UoAjhUU_ri8C"
      },
      "outputs": [],
      "source": []
    },
    {
      "cell_type": "code",
      "execution_count": null,
      "metadata": {
        "id": "Ss5yDGrlri8C"
      },
      "outputs": [],
      "source": []
    },
    {
      "cell_type": "code",
      "execution_count": null,
      "metadata": {
        "id": "wRqqAkBTri8C"
      },
      "outputs": [],
      "source": []
    },
    {
      "cell_type": "markdown",
      "metadata": {
        "id": "oH6De3yqri8C"
      },
      "source": [
        "\n",
        "## Challenge\n",
        "\n",
        "Create a pipeline for a Random Forest model and train it on the data. (see `ensemble.RandomForestRegressor` in scikit-learn). What is the score?"
      ]
    },
    {
      "cell_type": "code",
      "execution_count": null,
      "metadata": {
        "id": "Ax-_mKY2ri8C"
      },
      "outputs": [],
      "source": []
    },
    {
      "cell_type": "markdown",
      "metadata": {
        "id": "aatsPJVfri8C"
      },
      "source": [
        "\n",
        "\n",
        "## Solution"
      ]
    },
    {
      "cell_type": "code",
      "execution_count": null,
      "metadata": {
        "id": "VqHlnf_Qri8C"
      },
      "outputs": [],
      "source": []
    },
    {
      "cell_type": "code",
      "execution_count": null,
      "metadata": {
        "id": "Zk5NCbnFri8C"
      },
      "outputs": [],
      "source": []
    },
    {
      "cell_type": "code",
      "execution_count": null,
      "metadata": {
        "id": "b-msLNazri8C"
      },
      "outputs": [],
      "source": []
    },
    {
      "cell_type": "code",
      "execution_count": null,
      "metadata": {
        "id": "CLAwrp8Ori8C"
      },
      "outputs": [],
      "source": []
    },
    {
      "cell_type": "code",
      "execution_count": null,
      "metadata": {
        "id": "qu_kKVAMri8D"
      },
      "outputs": [],
      "source": []
    },
    {
      "cell_type": "markdown",
      "metadata": {
        "vscode": {
          "languageId": "plaintext"
        },
        "id": "mRQlffpari8D"
      },
      "source": [
        "# Evaluation\n"
      ]
    },
    {
      "cell_type": "markdown",
      "metadata": {
        "id": "81tJ9233ri8D"
      },
      "source": [
        "\n",
        "## R2\n",
        "\n",
        "\n",
        "The Coefficient of Determination, R2, is a measure of how well the model fits the data. It is a value between 0 and 1. It tells us how much of the variance in the target variable is predictable from the features.\n",
        "\n",
        "A value of 0 means that the model explains none of the variability. A value of 1 means that the model explains all the variability.\n",
        "\n",
        "Note that it doesn't indicate whether a model is overfitting or underfitting the data."
      ]
    },
    {
      "cell_type": "code",
      "execution_count": null,
      "metadata": {
        "scrolled": true,
        "id": "vC0Zt658ri8D"
      },
      "outputs": [],
      "source": [
        "cat_pipe.score(X_test, y_test.to_numpy()[:,0])"
      ]
    },
    {
      "cell_type": "code",
      "execution_count": null,
      "metadata": {
        "id": "paJdHuMori8D"
      },
      "outputs": [],
      "source": []
    },
    {
      "cell_type": "code",
      "execution_count": null,
      "metadata": {
        "id": "X1tBWkKAri8D"
      },
      "outputs": [],
      "source": []
    },
    {
      "cell_type": "code",
      "execution_count": null,
      "metadata": {
        "id": "ghOSP2Prri8E"
      },
      "outputs": [],
      "source": []
    },
    {
      "cell_type": "code",
      "execution_count": null,
      "metadata": {
        "id": "K5heeIEsri8E"
      },
      "outputs": [],
      "source": []
    },
    {
      "cell_type": "markdown",
      "metadata": {
        "id": "t44fpNJMri8E"
      },
      "source": [
        "\n",
        "## Mean Squared/Absolute Error\n"
      ]
    },
    {
      "cell_type": "code",
      "execution_count": null,
      "metadata": {
        "id": "xHfo_s4gri8E"
      },
      "outputs": [],
      "source": [
        "from sklearn.metrics import mean_squared_error\n",
        "\n",
        "mean_squared_error(y_test, cat_pipe.predict(X_test))"
      ]
    },
    {
      "cell_type": "code",
      "execution_count": null,
      "metadata": {
        "id": "hQiUxtT7ri8E"
      },
      "outputs": [],
      "source": [
        "# rmse\n",
        "mean_squared_error(y_test, cat_pipe.predict(X_test), squared=False)"
      ]
    },
    {
      "cell_type": "code",
      "execution_count": null,
      "metadata": {
        "scrolled": true,
        "id": "QSLjMOY-ri8E"
      },
      "outputs": [],
      "source": [
        "# absolute error\n",
        "from sklearn.metrics import mean_absolute_error\n",
        "\n",
        "mean_absolute_error(y_test, cat_pipe.predict(X_test))"
      ]
    },
    {
      "cell_type": "code",
      "execution_count": null,
      "metadata": {
        "id": "iUjPIWwwri8E"
      },
      "outputs": [],
      "source": [
        "# compare to lr model\n",
        "from sklearn.metrics import mean_absolute_error\n",
        "\n",
        "mean_absolute_error(y_test, lr_pipe.predict(X_test))"
      ]
    },
    {
      "cell_type": "code",
      "execution_count": null,
      "metadata": {
        "id": "Q9nrBN9lri8E"
      },
      "outputs": [],
      "source": []
    },
    {
      "cell_type": "code",
      "execution_count": null,
      "metadata": {
        "id": "68bGsXXFri8E"
      },
      "outputs": [],
      "source": []
    },
    {
      "cell_type": "code",
      "execution_count": null,
      "metadata": {
        "id": "AS2CU8YCri8F"
      },
      "outputs": [],
      "source": []
    },
    {
      "cell_type": "code",
      "execution_count": null,
      "metadata": {
        "id": "UCtkTEv7ri8F"
      },
      "outputs": [],
      "source": []
    },
    {
      "cell_type": "code",
      "execution_count": null,
      "metadata": {
        "id": "InPCvIf-ri8F"
      },
      "outputs": [],
      "source": []
    },
    {
      "cell_type": "code",
      "execution_count": null,
      "metadata": {
        "id": "Y3DuixY6ri8F"
      },
      "outputs": [],
      "source": []
    },
    {
      "cell_type": "markdown",
      "metadata": {
        "id": "nYRIjo9Ori8F"
      },
      "source": [
        "\n",
        "## Residuals Plot\n"
      ]
    },
    {
      "cell_type": "code",
      "execution_count": null,
      "metadata": {
        "id": "L-Not3rAri8F"
      },
      "outputs": [],
      "source": [
        "# make a residual plot\n",
        "import matplotlib.pyplot as plt\n",
        "\n",
        "ax = plt.scatter(cat_pipe.predict(X_test),\n",
        "    y_test.to_series().to_numpy() - cat_pipe.predict(X_test), alpha=0.1)\n",
        "# make labels not be scientific notation\n",
        "plt.ticklabel_format(style='plain', axis='y')\n",
        "plt.ticklabel_format(style='plain', axis='x')\n",
        "plt.ylim(-500_000, 500_000)\n",
        "plt.xlabel('Predicted price')\n",
        "plt.ylabel('Residual')\n",
        "plt.title('Residual plot')"
      ]
    },
    {
      "cell_type": "code",
      "execution_count": null,
      "metadata": {
        "id": "qS9ciS-sri8F"
      },
      "outputs": [],
      "source": [
        "# plot with Polars\n",
        "(y_test\n",
        " .with_columns(predicted_price=cat_pipe.predict(X_test),\n",
        "   residual=y_test.to_series().to_numpy() - cat_pipe.predict(X_test))\n",
        " .plot.scatter('predicted_price', 'residual', alpha=0.1, yformatter='$%.0f',\n",
        "               xformatter='$%.0f')\n",
        " )"
      ]
    },
    {
      "cell_type": "code",
      "execution_count": null,
      "metadata": {
        "id": "AVJv8I9Yri8F"
      },
      "outputs": [],
      "source": [
        "def residuals_plot(model, X_train, y_train, X_test, y_test):\n",
        "    return (y_test\n",
        "      .with_columns(prediction=model.predict(X_test),\n",
        "        residual=y_test.to_series().to_numpy() - model.predict(X_test),\n",
        "        type=pl.lit('test'))\n",
        "      .vstack(y_train\n",
        "        .with_columns(prediction=model.predict(X_train),\n",
        "          residual=y_train.to_series().to_numpy() - model.predict(X_train),\n",
        "          type=pl.lit('train'))\n",
        "              )\n",
        "      .reverse()\n",
        "      .plot.scatter('prediction', 'residual', alpha=0.1, yformatter='$%.0f',\n",
        "                    xformatter='$%.0f', by='type')\n",
        " )\n",
        "\n",
        "residuals_plot(cat_pipe, X_train, y_train, X_test, y_test)"
      ]
    },
    {
      "cell_type": "code",
      "execution_count": null,
      "metadata": {
        "id": "FZm5p_zxri8F"
      },
      "outputs": [],
      "source": [
        "residuals_plot(dt_pipe, X_train, y_train, X_test, y_test)"
      ]
    },
    {
      "cell_type": "code",
      "execution_count": null,
      "metadata": {
        "id": "rmKODLtKri8G"
      },
      "outputs": [],
      "source": []
    },
    {
      "cell_type": "code",
      "execution_count": null,
      "metadata": {
        "id": "jyBiK7dFri8G"
      },
      "outputs": [],
      "source": []
    },
    {
      "cell_type": "code",
      "execution_count": null,
      "metadata": {
        "id": "bFrVyhRtri8G"
      },
      "outputs": [],
      "source": []
    },
    {
      "cell_type": "markdown",
      "metadata": {
        "id": "1fyRyJ7Zri8G"
      },
      "source": [
        "## Challenge\n",
        "\n",
        "What is the mean squared error of the Random Forest model? What is the R2 score? What do these values tell us about the model?"
      ]
    },
    {
      "cell_type": "code",
      "execution_count": null,
      "metadata": {
        "id": "UmB7ZPC0ri8G"
      },
      "outputs": [],
      "source": []
    },
    {
      "cell_type": "markdown",
      "metadata": {
        "id": "k6gTpJDRri8G"
      },
      "source": [
        "\n",
        "\n",
        "## Solution"
      ]
    },
    {
      "cell_type": "code",
      "execution_count": null,
      "metadata": {
        "id": "6tGTSyYlri8G"
      },
      "outputs": [],
      "source": []
    },
    {
      "cell_type": "code",
      "execution_count": null,
      "metadata": {
        "id": "VxhiqcRnri8G"
      },
      "outputs": [],
      "source": []
    },
    {
      "cell_type": "code",
      "execution_count": null,
      "metadata": {
        "id": "ImK2jmwGri8G"
      },
      "outputs": [],
      "source": []
    },
    {
      "cell_type": "code",
      "execution_count": null,
      "metadata": {
        "id": "YUJXh7dIri8G"
      },
      "outputs": [],
      "source": []
    },
    {
      "cell_type": "markdown",
      "metadata": {
        "id": "cBYg4p2Vri8H"
      },
      "source": [
        "# Model Tuning\n"
      ]
    },
    {
      "cell_type": "markdown",
      "metadata": {
        "id": "7QN1bBz-ri8H"
      },
      "source": [
        "\n",
        "## Hyperparameters\n",
        "\n",
        "Hyperparameters are the levers we can pull to adjust the behavior of a model. They are set before the model is trained and remain constant during training."
      ]
    },
    {
      "cell_type": "markdown",
      "metadata": {
        "id": "Euq6xKtUri8H"
      },
      "source": [
        "\n",
        "## Tuning Linear Regression\n"
      ]
    },
    {
      "cell_type": "code",
      "execution_count": null,
      "metadata": {
        "id": "PAzV9g4Rri8H"
      },
      "outputs": [],
      "source": [
        "lr_pipe"
      ]
    },
    {
      "cell_type": "code",
      "execution_count": null,
      "metadata": {
        "id": "lYVO_Hffri8H"
      },
      "outputs": [],
      "source": [
        "lr_pipe.named_steps['lr']"
      ]
    },
    {
      "cell_type": "code",
      "execution_count": null,
      "metadata": {
        "scrolled": true,
        "id": "9lBZjs2zri8H"
      },
      "outputs": [],
      "source": [
        "help(lr_pipe.named_steps['lr'])"
      ]
    },
    {
      "cell_type": "code",
      "execution_count": null,
      "metadata": {
        "scrolled": true,
        "id": "NOoJMM8Cri8I"
      },
      "outputs": [],
      "source": [
        "from sklearn.linear_model import Ridge\n",
        "Ridge?"
      ]
    },
    {
      "cell_type": "code",
      "execution_count": null,
      "metadata": {
        "id": "AGZlv2Lfri8I"
      },
      "outputs": [],
      "source": [
        "rr =  Ridge()\n",
        "y = raw.select('price')\n",
        "X_train, X_test, y_train, y_test = train_test_split(raw, y, test_size=0.2, random_state=42)\n",
        "rr_pipe = Pipeline(steps=[('tweak', tweak_transformer),\n",
        "                      ('zip_avg_price', ZipAvgPriceAdder()),\n",
        "                      ('preprocessor', preprocessor),\n",
        "                        ('rr', rr),\n",
        "                      ])\n",
        "\n",
        "rr_pipe.fit(X_train, y_train)\n",
        "rr_pipe.score(X_test, y_test)"
      ]
    },
    {
      "cell_type": "code",
      "execution_count": null,
      "metadata": {
        "id": "_8zQ5Moqri8I"
      },
      "outputs": [],
      "source": []
    },
    {
      "cell_type": "code",
      "execution_count": null,
      "metadata": {
        "scrolled": true,
        "id": "uxVXU89Cri8I"
      },
      "outputs": [],
      "source": [
        "lr_pipe.score(X_test, y_test)"
      ]
    },
    {
      "cell_type": "code",
      "execution_count": null,
      "metadata": {
        "collapsed": true,
        "jupyter": {
          "outputs_hidden": true
        },
        "id": "28KkPbp3ri8I"
      },
      "outputs": [],
      "source": [
        "from sklearn.model_selection import validation_curve\n",
        "\n",
        "param_range = [0, .01, .05, .1, .5, 1, 2]\n",
        "scores = []\n",
        "for val in param_range:\n",
        "    rr_pipe.set_params(rr__alpha=val)\n",
        "    rr_pipe.fit(X_train, y_train)\n",
        "    scores.append(rr_pipe.score(X_test, y_test))"
      ]
    },
    {
      "cell_type": "code",
      "execution_count": null,
      "metadata": {
        "id": "LDjbZgs3ri8I"
      },
      "outputs": [],
      "source": [
        "# Our be score is at 0 (which is normal Linear Regression)\n",
        "alpha = pl.DataFrame({'val': param_range,\n",
        "              'scores': scores})\n",
        "alpha.plot(x='val', y='scores')"
      ]
    },
    {
      "cell_type": "code",
      "execution_count": null,
      "metadata": {
        "id": "WMaVEuuTri8I"
      },
      "outputs": [],
      "source": []
    },
    {
      "cell_type": "code",
      "execution_count": null,
      "metadata": {
        "id": "FnzLuIzAri8I"
      },
      "outputs": [],
      "source": []
    },
    {
      "cell_type": "code",
      "execution_count": null,
      "metadata": {
        "id": "zsO1rO1Hri8I"
      },
      "outputs": [],
      "source": []
    },
    {
      "cell_type": "code",
      "execution_count": null,
      "metadata": {
        "id": "vNUY08DWri8I"
      },
      "outputs": [],
      "source": []
    },
    {
      "cell_type": "markdown",
      "metadata": {
        "id": "mRAGB5jlri8J"
      },
      "source": [
        "\n",
        "## Tuning Decision Trees\n"
      ]
    },
    {
      "cell_type": "code",
      "execution_count": null,
      "metadata": {
        "scrolled": true,
        "id": "m0u26xkkri8J"
      },
      "outputs": [],
      "source": [
        "dt_pipe.named_steps['dt']"
      ]
    },
    {
      "cell_type": "code",
      "execution_count": null,
      "metadata": {
        "scrolled": true,
        "id": "vW0Ik8-wri8J"
      },
      "outputs": [],
      "source": [
        "help(dt_pipe.named_steps['dt'])"
      ]
    },
    {
      "cell_type": "code",
      "execution_count": null,
      "metadata": {
        "scrolled": true,
        "id": "6IQsLjoDri8J"
      },
      "outputs": [],
      "source": [
        "# plot a validation curve tracking mse as the max_depth of the decision tree increases\n",
        "from sklearn.model_selection import validation_curve\n",
        "\n",
        "param_range = range(1, 20)\n",
        "train_scores, test_scores = validation_curve(\n",
        "    dt_pipe, X_train, y_train, param_name=\"dt__max_depth\", param_range=param_range,\n",
        "    scoring=\"neg_mean_squared_error\", n_jobs=1)"
      ]
    },
    {
      "cell_type": "code",
      "execution_count": null,
      "metadata": {
        "id": "3i1yGF1Ari8J"
      },
      "outputs": [],
      "source": [
        "# make a validation curve from train_scores and test_scores\n",
        "import matplotlib.pyplot as plt\n",
        "import numpy as np\n",
        "\n",
        "train_scores_mean = np.mean(train_scores, axis=1)\n",
        "train_scores_std = np.std(train_scores, axis=1)\n",
        "test_scores_mean = np.mean(test_scores, axis=1)\n",
        "test_scores_std = np.std(test_scores, axis=1)\n",
        "\n",
        "plt.title(\"Validation Curve with Decision Tree\")\n",
        "plt.xlabel(\"max_depth\")\n",
        "plt.ylabel(\"Score\")\n",
        "#plt.ylim(-1, 0)\n",
        "lw = 2\n",
        "plt.plot(param_range, train_scores_mean, label=\"Training score\",\n",
        "             color=\"darkorange\", lw=lw)\n",
        "plt.fill_between(param_range, train_scores_mean - train_scores_std,\n",
        "                 train_scores_mean + train_scores_std, alpha=0.2,\n",
        "                 color=\"darkorange\", lw=lw)\n",
        "plt.plot(param_range, test_scores_mean, label=\"Cross-validation score\",\n",
        "                color=\"navy\", lw=lw)\n",
        "\n",
        "plt.fill_between(param_range, test_scores_mean - test_scores_std,\n",
        "                    test_scores_mean + test_scores_std, alpha=0.2,\n",
        "                    color=\"navy\", lw=lw)\n",
        "plt.legend(loc=\"best\")\n",
        "\n",
        "\n"
      ]
    },
    {
      "cell_type": "code",
      "execution_count": null,
      "metadata": {
        "id": "CnOHXBQAri8J"
      },
      "outputs": [],
      "source": [
        "# train dt_pipe with max_depth=8\n",
        "dt8_pipe = Pipeline(steps=[('tweak', tweak_transformer),\n",
        "                        ('zip_avg_price', ZipAvgPriceAdder()),\n",
        "                        ('to_pandas', pandas_transformer),\n",
        "                        ('preprocessor', preprocessor),\n",
        "                        ('dt', DecisionTreeRegressor(max_depth=8)),\n",
        "                        ])\n",
        "\n",
        "dt8_pipe.fit(X_train, y_train)\n",
        "dt8_pipe.score(X_test, y_test)"
      ]
    },
    {
      "cell_type": "code",
      "execution_count": null,
      "metadata": {
        "id": "2Z6fk2vvri8J"
      },
      "outputs": [],
      "source": [
        "from sklearn.metrics import mean_squared_error\n",
        "mean_squared_error(y_test, dt8_pipe.predict(X_test), squared=False)"
      ]
    },
    {
      "cell_type": "code",
      "execution_count": null,
      "metadata": {
        "id": "qHe6NmB7ri8J"
      },
      "outputs": [],
      "source": [
        "dt_pipe.score(X_test, y_test)"
      ]
    },
    {
      "cell_type": "code",
      "execution_count": null,
      "metadata": {
        "id": "zaI2vNslri8J"
      },
      "outputs": [],
      "source": [
        "mean_squared_error(y_test, dt_pipe.predict(X_test), squared=False)"
      ]
    },
    {
      "cell_type": "code",
      "execution_count": null,
      "metadata": {
        "id": "Pvw4vHYdri8K"
      },
      "outputs": [],
      "source": []
    },
    {
      "cell_type": "code",
      "execution_count": null,
      "metadata": {
        "id": "j8szhOyUri8K"
      },
      "outputs": [],
      "source": []
    },
    {
      "cell_type": "code",
      "execution_count": null,
      "metadata": {
        "id": "XMQLYJAUri8K"
      },
      "outputs": [],
      "source": []
    },
    {
      "cell_type": "code",
      "execution_count": null,
      "metadata": {
        "id": "JRdLvrEari8K"
      },
      "outputs": [],
      "source": []
    },
    {
      "cell_type": "code",
      "execution_count": null,
      "metadata": {
        "id": "3BDWpG0-ri8K"
      },
      "outputs": [],
      "source": []
    },
    {
      "cell_type": "markdown",
      "metadata": {
        "id": "qzogfmhsri8K"
      },
      "source": [
        "\n",
        "## Tuning CatBoost\n",
        "\n",
        "* Boosting - `iterations` (`num_trees`, `n_estimators`), `learning_rate` (`eta`), `early_stopping_rounds`\n",
        "\n",
        "* Tree based - `depth` (`max_depth`), `grow_policy`, `min_child_samples` (`min_data_in_leaf`), `max_leaves` (`num_leaves`)\n",
        "\n",
        "* Sampling - `subsample`, `sampling_frequency`, `rsm` (`colsample_bylevel`), `random_strength`, `bagging_temperature`\n",
        "\n",
        "* Regularization - `l2_leaf_reg` (`reg_lambda`), `model_shrink_rate`\n",
        "\n",
        "* Constraints - `monotone_constraints`, `feature_weights`"
      ]
    },
    {
      "cell_type": "code",
      "execution_count": null,
      "metadata": {
        "scrolled": true,
        "id": "MrYLwvXyri8K"
      },
      "outputs": [],
      "source": [
        "catboost.CatBoostRegressor?"
      ]
    },
    {
      "cell_type": "code",
      "execution_count": null,
      "metadata": {
        "id": "e6SCw0Efri8K"
      },
      "outputs": [],
      "source": [
        "cr2 = catboost.CatBoostRegressor(iterations=3000, learning_rate=0.1,\n",
        "                                 early_stopping_rounds=10)\n",
        "X_train, X_test, y_train, y_test = train_test_split(raw.drop('price'), y,\n",
        "                                                    test_size=0.2, random_state=42)\n",
        "\n",
        "cr2.fit(X_train.to_pandas(), y_train.to_numpy(), cat_features=['zipcode'], verbose=100,\n",
        "        early_stopping_rounds=10, eval_set=(X_test.to_pandas(), y_test.to_numpy()))"
      ]
    },
    {
      "cell_type": "code",
      "execution_count": null,
      "metadata": {
        "scrolled": true,
        "id": "OJrN-aifri8K"
      },
      "outputs": [],
      "source": [
        "# plot a validation curve tracking mse as the max_depth of the decision tree increases\n",
        "from sklearn.model_selection import validation_curve\n",
        "\n",
        "param_range = range(1, 10)\n",
        "train_scores, test_scores = validation_curve(\n",
        "    cr2, X_train.to_pandas(), y_train.to_numpy(), param_name=\"max_depth\",\n",
        "    param_range=param_range,\n",
        "    scoring=\"neg_mean_squared_error\", n_jobs=1,\n",
        "    fit_params=dict(early_stopping_rounds=10,\n",
        "                    eval_set=(X_test.to_pandas(), y_test.to_numpy())))"
      ]
    },
    {
      "cell_type": "code",
      "execution_count": null,
      "metadata": {
        "id": "pWm1bC3Ori8K"
      },
      "outputs": [],
      "source": [
        "# make a validation curve from train_scores and test_scores\n",
        "import matplotlib.pyplot as plt\n",
        "import numpy as np\n",
        "\n",
        "train_scores_mean = np.mean(train_scores, axis=1)\n",
        "train_scores_std = np.std(train_scores, axis=1)\n",
        "test_scores_mean = np.mean(test_scores, axis=1)\n",
        "test_scores_std = np.std(test_scores, axis=1)\n",
        "\n",
        "plt.title(\"Validation Curve with CatBoost\")\n",
        "plt.xlabel(\"max_depth\")\n",
        "plt.ylabel(\"Score\")\n",
        "#plt.ylim(-1, 0)\n",
        "lw = 2\n",
        "plt.plot(param_range, train_scores_mean, label=\"Training score\",\n",
        "             color=\"darkorange\", lw=lw)\n",
        "plt.fill_between(param_range, train_scores_mean - train_scores_std,\n",
        "                 train_scores_mean + train_scores_std, alpha=0.2,\n",
        "                 color=\"darkorange\", lw=lw)\n",
        "plt.plot(param_range, test_scores_mean, label=\"Cross-validation score\",\n",
        "                color=\"navy\", lw=lw)\n",
        "\n",
        "plt.fill_between(param_range, test_scores_mean - test_scores_std,\n",
        "                    test_scores_mean + test_scores_std, alpha=0.2,\n",
        "                    color=\"navy\", lw=lw)\n",
        "plt.legend(loc=\"best\")\n",
        "\n",
        "\n"
      ]
    },
    {
      "cell_type": "code",
      "execution_count": null,
      "metadata": {
        "id": "m0Z-hYL5ri8L"
      },
      "outputs": [],
      "source": [
        "# set max_depth to 4\n",
        "cr2_4 = catboost.CatBoostRegressor(iterations=3000, learning_rate=0.1,\n",
        "                                max_depth=4)\n",
        "\n",
        "X_train, X_test, y_train, y_test = train_test_split(raw.drop('price'), y,\n",
        "                                                    test_size=0.2, random_state=42)\n",
        "\n",
        "cr2_4.fit(X_train.to_pandas(), y_train.to_numpy(), cat_features=['zipcode'], verbose=100,\n",
        "        early_stopping_rounds=10, eval_set=(X_test.to_pandas(), y_test.to_numpy()))\n",
        "cr2_4.score(X_test.to_pandas(), y_test.to_numpy())"
      ]
    },
    {
      "cell_type": "code",
      "execution_count": null,
      "metadata": {
        "jupyter": {
          "source_hidden": true
        },
        "id": "JCYYUiJkri8L"
      },
      "outputs": [],
      "source": []
    },
    {
      "cell_type": "code",
      "execution_count": null,
      "metadata": {
        "id": "uswrRzB9ri8L"
      },
      "outputs": [],
      "source": []
    },
    {
      "cell_type": "code",
      "execution_count": null,
      "metadata": {
        "id": "u_V3Vg6Rri8L"
      },
      "outputs": [],
      "source": []
    },
    {
      "cell_type": "code",
      "execution_count": null,
      "metadata": {
        "id": "WfrB8zbyri8L"
      },
      "outputs": [],
      "source": []
    },
    {
      "cell_type": "code",
      "execution_count": null,
      "metadata": {
        "id": "iasL-cN6ri8L"
      },
      "outputs": [],
      "source": []
    },
    {
      "cell_type": "code",
      "execution_count": null,
      "metadata": {
        "id": "-KZQd6eeri8L"
      },
      "outputs": [],
      "source": []
    },
    {
      "cell_type": "code",
      "execution_count": null,
      "metadata": {
        "id": "FRCr-OMWri8L"
      },
      "outputs": [],
      "source": []
    },
    {
      "cell_type": "markdown",
      "metadata": {
        "id": "HDOkrv59ri8L"
      },
      "source": [
        "\n",
        "## Grid Search\n"
      ]
    },
    {
      "cell_type": "code",
      "execution_count": null,
      "metadata": {
        "scrolled": true,
        "id": "d7EFESy_ri8L"
      },
      "outputs": [],
      "source": [
        "from sklearn.tree import DecisionTreeRegressor\n",
        "\n",
        "\n",
        "dt = DecisionTreeRegressor()\n",
        "y = raw.select('price')\n",
        "X_train, X_test, y_train, y_test = train_test_split(raw, y, test_size=0.2, random_state=42)\n",
        "dt_pipe = Pipeline(steps=[('tweak', tweak_transformer),\n",
        "                      ('zip_avg_price', ZipAvgPriceAdder()),\n",
        "                      ('preprocessor', preprocessor),\n",
        "                      ('dt', dt),\n",
        "                      ])\n",
        "\n",
        "dt_pipe.fit(X_train, y_train)\n",
        "dt_pipe.score(X_test, y_test)"
      ]
    },
    {
      "cell_type": "code",
      "execution_count": null,
      "metadata": {
        "collapsed": true,
        "jupyter": {
          "outputs_hidden": true
        },
        "scrolled": true,
        "id": "RhjpjCzgri8L"
      },
      "outputs": [],
      "source": [
        "dt_pipe"
      ]
    },
    {
      "cell_type": "code",
      "execution_count": null,
      "metadata": {
        "scrolled": true,
        "id": "i4QuRKG9ri8L"
      },
      "outputs": [],
      "source": [
        "# use grid search on decision tree\n",
        "from sklearn.model_selection import GridSearchCV\n",
        "\n",
        "param_grid = {\n",
        "    'dt__max_depth': [3, 6, 9],\n",
        "    'dt__min_samples_split': [10, 20, 100],\n",
        "    'dt__min_samples_leaf': [10, 20, 100],\n",
        "}\n",
        "\n",
        "grid_search = GridSearchCV(dt_pipe, param_grid, cv=5)#, scoring='neg_mean_squared_error')\n",
        "grid_search.fit(X_train, y_train)"
      ]
    },
    {
      "cell_type": "code",
      "execution_count": null,
      "metadata": {
        "id": "v9KMqQgiri8L"
      },
      "outputs": [],
      "source": [
        "grid_search.best_params_"
      ]
    },
    {
      "cell_type": "code",
      "execution_count": null,
      "metadata": {
        "scrolled": true,
        "id": "GvVTHjOfri8M"
      },
      "outputs": [],
      "source": [
        "# make a tree from the params\n",
        "dt = DecisionTreeRegressor()#max_depth=9, min_samples_leaf=20, min_samples_split=10)\n",
        "dt_pipe = Pipeline(steps=[('tweak', tweak_transformer),\n",
        "                      ('zip_avg_price', ZipAvgPriceAdder()),\n",
        "                      ('to_pandas', pandas_transformer),\n",
        "                      ('preprocessor', preprocessor),\n",
        "                        ('dt', dt),\n",
        "                      ])\n",
        "dt_pipe.set_params(**grid_search.best_params_)\n",
        "dt_pipe.fit(X_train, y_train)\n",
        "dt_pipe.score(X_test, y_test)"
      ]
    },
    {
      "cell_type": "code",
      "execution_count": null,
      "metadata": {
        "scrolled": true,
        "id": "Tf4YWMYsri8M"
      },
      "outputs": [],
      "source": [
        "# compare to default\n",
        "dt = DecisionTreeRegressor(random_state=42)\n",
        "dt_pipe = Pipeline(steps=[('tweak', tweak_transformer),\n",
        "                      ('zip_avg_price', ZipAvgPriceAdder()),\n",
        "                      ('to_pandas', pandas_transformer),\n",
        "                      ('preprocessor', preprocessor),\n",
        "                        ('dt', dt),\n",
        "                      ])\n",
        "\n",
        "dt_pipe.fit(X_train, y_train)\n",
        "dt_pipe.score(X_test, y_test)"
      ]
    },
    {
      "cell_type": "code",
      "execution_count": null,
      "metadata": {
        "id": "sGm1ic15ri8M"
      },
      "outputs": [],
      "source": []
    },
    {
      "cell_type": "code",
      "execution_count": null,
      "metadata": {
        "id": "-fliz_97ri8M"
      },
      "outputs": [],
      "source": []
    },
    {
      "cell_type": "code",
      "execution_count": null,
      "metadata": {
        "id": "h-QjWAMRri8M"
      },
      "outputs": [],
      "source": []
    },
    {
      "cell_type": "code",
      "execution_count": null,
      "metadata": {
        "id": "dmflFJZXri8M"
      },
      "outputs": [],
      "source": []
    },
    {
      "cell_type": "markdown",
      "metadata": {
        "id": "4KdtVMElri8M"
      },
      "source": [
        "\n",
        "## Challenge\n",
        "\n",
        "Do a grid search to find the best depth for the random forest model. What is the best depth? What is the score of the model with the best depth?"
      ]
    },
    {
      "cell_type": "markdown",
      "metadata": {
        "id": "DlPVPaZeri8M"
      },
      "source": [
        "\n",
        "## Solution"
      ]
    },
    {
      "cell_type": "code",
      "execution_count": null,
      "metadata": {
        "id": "_k9r__BIri8M"
      },
      "outputs": [],
      "source": []
    },
    {
      "cell_type": "code",
      "execution_count": null,
      "metadata": {
        "id": "Xkj3AFYgri8N"
      },
      "outputs": [],
      "source": []
    },
    {
      "cell_type": "code",
      "execution_count": null,
      "metadata": {
        "id": "qpXvgR4nri8N"
      },
      "outputs": [],
      "source": []
    },
    {
      "cell_type": "code",
      "execution_count": null,
      "metadata": {
        "id": "XwLEYnSari8N"
      },
      "outputs": [],
      "source": []
    },
    {
      "cell_type": "markdown",
      "metadata": {
        "id": "fIe_DFffri8N"
      },
      "source": [
        "# Model Deployment\n"
      ]
    },
    {
      "cell_type": "markdown",
      "metadata": {
        "id": "Z4rahiG5ri8N"
      },
      "source": [
        "\n",
        "## End to end notebook\n"
      ]
    },
    {
      "cell_type": "code",
      "execution_count": null,
      "metadata": {
        "id": "g6IDxuyRri8N"
      },
      "outputs": [],
      "source": [
        "import polars as pl\n",
        "from sklearn.pipeline import Pipeline\n",
        "from sklearn.compose import ColumnTransformer\n",
        "from sklearn.linear_model import LinearRegression\n",
        "from sklearn.preprocessing import StandardScaler, OneHotEncoder\n",
        "from sklearn.impute import SimpleImputer\n",
        "from sklearn.model_selection import train_test_split\n",
        "from sklearn.preprocessing import FunctionTransformer\n",
        "from sklearn.base import BaseEstimator, TransformerMixin\n",
        "from sklearn import set_config\n",
        "set_config(transform_output='polars')\n",
        "\n",
        "def tweak_housing(df):\n",
        "    return (df\n",
        "            .with_columns(zipcode=pl.col('zipcode').cast(pl.String).cast(pl.Categorical),\n",
        "                          date=pl.date(pl.col('date_year'), pl.col('date_month'), pl.col('date_day')),\n",
        "                          yr_renovated=pl.col('yr_renovated').replace(0, None),\n",
        "                          )\n",
        "            .select(['id', 'price', 'bedrooms', 'bathrooms', 'sqft_living', 'sqft_lot', 'floors',\n",
        "                     'waterfront', 'view', 'condition', 'grade', 'sqft_above', 'sqft_basement',\n",
        "                     'yr_built', 'yr_renovated', 'zipcode', 'lat', 'long', 'sqft_living15',\n",
        "                     'sqft_lot15', 'date',  #'date_year', 'date_month', 'date_day',\n",
        "                     ])\n",
        "    )\n",
        "\n",
        "# make the pipeline\n",
        "numeric_features = ['bedrooms', 'bathrooms', 'sqft_living', 'sqft_lot', 'floors', 'waterfront', 'view',\n",
        "                    'condition', 'grade', 'sqft_above', 'sqft_basement', 'yr_built', 'yr_renovated',\n",
        "                    'lat', 'long', 'sqft_living15', 'sqft_lot15', 'zip_mean']\n",
        "numeric_transformer = Pipeline(steps=[\n",
        "    ('imputer', SimpleImputer(strategy='median')),\n",
        "    ('scaler', StandardScaler())])\n",
        "\n",
        "categorical_features = ['zipcode']\n",
        "\n",
        "preprocessor = ColumnTransformer(\n",
        "    transformers=[\n",
        "        ('num', numeric_transformer, numeric_features),\n",
        "        ('cat', OneHotEncoder(handle_unknown='ignore',\n",
        "                              sparse_output=False), categorical_features)])\n",
        "\n",
        "def to_pandas(df):\n",
        "    return df.to_pandas()\n",
        "pandas_transformer = FunctionTransformer(to_pandas)\n",
        "\n",
        "tweak_transformer = FunctionTransformer(tweak_housing)\n",
        "\n",
        "class ZipAvgPriceAdder(BaseEstimator, TransformerMixin):\n",
        "    def __init__(self):\n",
        "        pass\n",
        "    def fit(self, X, y=None):\n",
        "        # assume X is a polars dataframe\n",
        "        self.zip_avg_price = (X\n",
        "                              .group_by('zipcode')\n",
        "                              .agg(zip_mean=pl.col('price').mean())\n",
        "        )\n",
        "        return self\n",
        "\n",
        "    def transform(self, X, y=None):\n",
        "        with pl.StringCache():\n",
        "            return X.join(self.zip_avg_price, on='zipcode')\n",
        "\n",
        "\n",
        "# King County House Sales dataset from OpenML (includes Seattle)\n",
        "# this is an ARFF file, which is a text file with a specific format\n",
        "url = 'https://www.openml.org/data/download/22044765/dataset'\n",
        "cols = ['id', 'price', 'bedrooms', 'bathrooms', 'sqft_living', 'sqft_lot', 'floors', 'waterfront', 'view',\n",
        "        'condition', 'grade', 'sqft_above', 'sqft_basement', 'yr_built', 'yr_renovated',\n",
        "        'zipcode', 'lat', 'long', 'sqft_living15', 'sqft_lot15', 'date_year', 'date_month', 'date_day']\n",
        "\n",
        "raw = pl.read_csv(url, new_columns=cols, skip_rows=31, has_header=False)\n",
        "\n",
        "lr =  LinearRegression()\n",
        "y = raw.select('price')\n",
        "X_train, X_test, y_train, y_test = train_test_split(raw, y, test_size=0.2, random_state=42)\n",
        "lr_pipe = Pipeline(steps=[('tweak', tweak_transformer),\n",
        "                      ('zip_avg_price', ZipAvgPriceAdder()),\n",
        "                      ('preprocessor', preprocessor),\n",
        "                      ('lr', lr),\n",
        "                      ])\n",
        "\n",
        "lr_pipe.fit(X_train, y_train)\n",
        "lr_pipe.score(X_test, y_test)\n"
      ]
    },
    {
      "cell_type": "markdown",
      "metadata": {
        "id": "IGZfle-bri8N"
      },
      "source": []
    },
    {
      "cell_type": "code",
      "execution_count": null,
      "metadata": {
        "id": "gFPgMf4Uri8N"
      },
      "outputs": [],
      "source": []
    },
    {
      "cell_type": "code",
      "execution_count": null,
      "metadata": {
        "id": "dU1OEVgMri8O"
      },
      "outputs": [],
      "source": []
    },
    {
      "cell_type": "code",
      "execution_count": null,
      "metadata": {
        "id": "sQ-bvxg6ri8O"
      },
      "outputs": [],
      "source": []
    },
    {
      "cell_type": "code",
      "execution_count": null,
      "metadata": {
        "id": "Ng-bchLNri8O"
      },
      "outputs": [],
      "source": []
    },
    {
      "cell_type": "code",
      "execution_count": null,
      "metadata": {
        "id": "N0QqnmSDri8O"
      },
      "outputs": [],
      "source": []
    },
    {
      "cell_type": "markdown",
      "metadata": {
        "id": "Wri1BShwri8O"
      },
      "source": [
        "## Using MLFlow\n",
        "\n",
        "Going to show how to persist and load a model, but can also:\n",
        "\n",
        "- Start a endpoint to serve predictions\n",
        "- Build a Docker image\n"
      ]
    },
    {
      "cell_type": "code",
      "execution_count": null,
      "metadata": {
        "id": "FPLkeX-2ri8O"
      },
      "outputs": [],
      "source": [
        "import mlflow"
      ]
    },
    {
      "cell_type": "code",
      "execution_count": null,
      "metadata": {
        "id": "h1YdDIInri8O"
      },
      "outputs": [],
      "source": [
        "mlflow.__version__"
      ]
    },
    {
      "cell_type": "code",
      "execution_count": null,
      "metadata": {
        "id": "GdY6oBkOri8O"
      },
      "outputs": [],
      "source": [
        "model_info = mlflow.sklearn.log_model(lr_pipe, artifact_path='lr_pipe')"
      ]
    },
    {
      "cell_type": "code",
      "execution_count": null,
      "metadata": {
        "id": "rH5K7nZRri8O"
      },
      "outputs": [],
      "source": [
        "model_info.artifact_path"
      ]
    },
    {
      "cell_type": "code",
      "execution_count": null,
      "metadata": {
        "id": "y8EHnDrRri8O"
      },
      "outputs": [],
      "source": [
        "!tree"
      ]
    },
    {
      "cell_type": "code",
      "execution_count": null,
      "metadata": {
        "id": "ZynIQWlbri8P"
      },
      "outputs": [],
      "source": [
        "model_info.run_id"
      ]
    },
    {
      "cell_type": "code",
      "execution_count": null,
      "metadata": {
        "id": "nNEyjQcDri8P"
      },
      "outputs": [],
      "source": [
        "model = mlflow.pyfunc.load_model(f'mlruns/0/{model_info.run_id}/artifacts/lr_pipe')"
      ]
    },
    {
      "cell_type": "code",
      "execution_count": null,
      "metadata": {
        "id": "Bs2YBt5Sri8P"
      },
      "outputs": [],
      "source": [
        "model"
      ]
    },
    {
      "cell_type": "code",
      "execution_count": null,
      "metadata": {
        "id": "n4OW1xh0ri8P"
      },
      "outputs": [],
      "source": [
        "model.predict(X_test)"
      ]
    },
    {
      "cell_type": "code",
      "execution_count": null,
      "metadata": {
        "id": "5c0niwnIri8P"
      },
      "outputs": [],
      "source": []
    },
    {
      "cell_type": "markdown",
      "metadata": {
        "id": "6p1HC-Thri8P"
      },
      "source": [
        "## Challenge\n",
        "\n",
        "Reformat your notebook so that you can load the data and create an optimized random forest model in a single cell. Then, use MLFlow to log the model and its parameters."
      ]
    },
    {
      "cell_type": "code",
      "execution_count": null,
      "metadata": {
        "id": "Pkdg0rQqri8Q"
      },
      "outputs": [],
      "source": []
    },
    {
      "cell_type": "markdown",
      "metadata": {
        "id": "wIhvIHWmri8Q"
      },
      "source": [
        "\n",
        "## Solution"
      ]
    },
    {
      "cell_type": "markdown",
      "metadata": {
        "id": "iZJFsZ3Iri8Q"
      },
      "source": []
    },
    {
      "cell_type": "code",
      "execution_count": null,
      "metadata": {
        "id": "sHrq3njFri8Q"
      },
      "outputs": [],
      "source": []
    },
    {
      "cell_type": "code",
      "execution_count": null,
      "metadata": {
        "id": "EPD2fjP7ri8Q"
      },
      "outputs": [],
      "source": []
    }
  ],
  "metadata": {
    "kernelspec": {
      "display_name": "Python 3",
      "language": "python",
      "name": "python3"
    },
    "language_info": {
      "codemirror_mode": {
        "name": "ipython",
        "version": 3
      },
      "file_extension": ".py",
      "mimetype": "text/x-python",
      "name": "python",
      "nbconvert_exporter": "python",
      "pygments_lexer": "ipython3",
      "version": "3.12.1"
    },
    "colab": {
      "provenance": []
    }
  },
  "nbformat": 4,
  "nbformat_minor": 0
}